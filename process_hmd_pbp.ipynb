{
 "cells": [
  {
   "cell_type": "markdown",
   "id": "c6c23414-75b3-4b4f-a69e-e540ed95070c",
   "metadata": {},
   "source": [
    "# Process raw data to HMD - VLIZ workflow"
   ]
  },
  {
   "cell_type": "markdown",
   "id": "02b7bf27-9fe4-40df-bdbb-22e75ca75bb3",
   "metadata": {},
   "source": [
    "This notebook will guide you through all the steps of using [pbp](https://github.com/mbari-org/pbp) to process raw acoustic data into calibrated HMD 1-minute resolution bands. "
   ]
  },
  {
   "cell_type": "markdown",
   "id": "9b4e1fdf-20d3-49a1-89ba-422c44389dee",
   "metadata": {},
   "source": [
    "## Setup"
   ]
  },
  {
   "cell_type": "markdown",
   "id": "8275d8de-e602-43a7-bc31-036edc80d7e8",
   "metadata": {},
   "source": [
    "We'll start installing the required dependencies "
   ]
  },
  {
   "cell_type": "code",
   "execution_count": 1,
   "id": "8cd2d7c8-1842-4d23-bbcb-40c4baad9928",
   "metadata": {},
   "outputs": [],
   "source": [
    "import sys"
   ]
  },
  {
   "cell_type": "code",
   "execution_count": 2,
   "id": "416b0d45-a323-47e2-9359-33236bdb49c1",
   "metadata": {},
   "outputs": [
    {
     "name": "stdout",
     "output_type": "stream",
     "text": [
      "Found existing installation: mbari-pbp 1.7.1\n",
      "Uninstalling mbari-pbp-1.7.1:\n",
      "  Successfully uninstalled mbari-pbp-1.7.1\n"
     ]
    }
   ],
   "source": [
    "!{sys.executable} -m pip uninstall mbari-pbp -y"
   ]
  },
  {
   "cell_type": "code",
   "execution_count": 3,
   "id": "439a8687-aaef-44c5-84dd-d4dab4610101",
   "metadata": {
    "scrolled": true
   },
   "outputs": [
    {
     "name": "stdout",
     "output_type": "stream",
     "text": [
      "Collecting git+https://github.com/lifewatch/pbp.git@rtsys_metadata\n",
      "  Cloning https://github.com/lifewatch/pbp.git (to revision rtsys_metadata) to /tmp/pip-req-build-ex8qodqk\n",
      "  Running command git clone --filter=blob:none --quiet https://github.com/lifewatch/pbp.git /tmp/pip-req-build-ex8qodqk\n",
      "  Running command git checkout -b rtsys_metadata --track origin/rtsys_metadata\n",
      "  Switched to a new branch 'rtsys_metadata'\n",
      "  branch 'rtsys_metadata' set up to track 'origin/rtsys_metadata'.\n",
      "  Resolved https://github.com/lifewatch/pbp.git to commit 9fc26a9d6367d681e638dc319a6524a76f93ba7d\n",
      "  Installing build dependencies ... \u001b[?2done\n",
      "\u001b[?25h  Getting requirements to build wheel ... \u001b[?25ldone\n",
      "\u001b[?25h  Preparing metadata (pyproject.toml) ... \u001b[?25ldone\n",
      "\u001b[?25hRequirement already satisfied: Pyarrow==15.0.0 in /opt/conda/envs/py310/lib/python3.10/site-packages (from mbari-pbp==1.7.1) (15.0.0)\n",
      "Requirement already satisfied: awscli<2.0.0,>=1.33.20 in /opt/conda/envs/py310/lib/python3.10/site-packages (from mbari-pbp==1.7.1) (1.33.44)\n",
      "Requirement already satisfied: boto3==1.34.47 in /opt/conda/envs/py310/lib/python3.10/site-packages (from mbari-pbp==1.7.1) (1.34.47)\n",
      "Requirement already satisfied: dataclasses-json==0.6 in /opt/conda/envs/py310/lib/python3.10/site-packages (from mbari-pbp==1.7.1) (0.6.0)\n",
      "Requirement already satisfied: google-cloud-storage==2.18.0 in /opt/conda/envs/py310/lib/python3.10/site-packages (from mbari-pbp==1.7.1) (2.18.0)\n",
      "Requirement already satisfied: h5netcdf==1.3.0 in /opt/conda/envs/py310/lib/python3.10/site-packages (from mbari-pbp==1.7.1) (1.3.0)\n",
      "Requirement already satisfied: lifewatch-pypam==0.3.2 in /opt/conda/envs/py310/lib/python3.10/site-packages (from mbari-pbp==1.7.1) (0.3.2)\n",
      "Requirement already satisfied: loguru-mypy<0.0.5,>=0.0.4 in /opt/conda/envs/py310/lib/python3.10/site-packages (from mbari-pbp==1.7.1) (0.0.4)\n",
      "Requirement already satisfied: loguru<0.8.0,>=0.7.2 in /opt/conda/envs/py310/lib/python3.10/site-packages (from loguru[mypy]<0.8.0,>=0.7.2->mbari-pbp==1.7.1) (0.7.3)\n",
      "Requirement already satisfied: marshmallow==3.20.2 in /opt/conda/envs/py310/lib/python3.10/site-packages (from mbari-pbp==1.7.1) (3.20.2)\n",
      "Requirement already satisfied: progressbar2==3.53.1 in /opt/conda/envs/py310/lib/python3.10/site-packages (from mbari-pbp==1.7.1) (3.53.1)\n",
      "Requirement already satisfied: pvlib<0.12.0,>=0.11.0 in /opt/conda/envs/py310/lib/python3.10/site-packages (from mbari-pbp==1.7.1) (0.11.2)\n",
      "Requirement already satisfied: python-dateutil==2.8.2 in /opt/conda/envs/py310/lib/python3.10/site-packages (from mbari-pbp==1.7.1) (2.8.2)\n",
      "Requirement already satisfied: pyyaml==6.0 in /opt/conda/envs/py310/lib/python3.10/site-packages (from mbari-pbp==1.7.1) (6.0)\n",
      "Requirement already satisfied: soundfile==0.12.1 in /opt/conda/envs/py310/lib/python3.10/site-packages (from mbari-pbp==1.7.1) (0.12.1)\n",
      "Requirement already satisfied: botocore<1.35.0,>=1.34.47 in /opt/conda/envs/py310/lib/python3.10/site-packages (from boto3==1.34.47->mbari-pbp==1.7.1) (1.34.162)\n",
      "Requirement already satisfied: jmespath<2.0.0,>=0.7.1 in /opt/conda/envs/py310/lib/python3.10/site-packages (from boto3==1.34.47->mbari-pbp==1.7.1) (1.0.1)\n",
      "Requirement already satisfied: s3transfer<0.11.0,>=0.10.0 in /opt/conda/envs/py310/lib/python3.10/site-packages (from boto3==1.34.47->mbari-pbp==1.7.1) (0.10.4)\n",
      "Requirement already satisfied: typing-inspect<1,>=0.4.0 in /opt/conda/envs/py310/lib/python3.10/site-packages (from dataclasses-json==0.6->mbari-pbp==1.7.1) (0.9.0)\n",
      "Requirement already satisfied: google-auth<3.0dev,>=2.26.1 in /opt/conda/envs/py310/lib/python3.10/site-packages (from google-cloud-storage==2.18.0->mbari-pbp==1.7.1) (2.40.2)\n",
      "Requirement already satisfied: google-api-core<3.0.0dev,>=2.15.0 in /opt/conda/envs/py310/lib/python3.10/site-packages (from google-cloud-storage==2.18.0->mbari-pbp==1.7.1) (2.25.0rc1)\n",
      "Requirement already satisfied: google-cloud-core<3.0dev,>=2.3.0 in /opt/conda/envs/py310/lib/python3.10/site-packages (from google-cloud-storage==2.18.0->mbari-pbp==1.7.1) (2.4.3)\n",
      "Requirement already satisfied: google-resumable-media>=2.6.0 in /opt/conda/envs/py310/lib/python3.10/site-packages (from google-cloud-storage==2.18.0->mbari-pbp==1.7.1) (2.7.2)\n",
      "Requirement already satisfied: requests<3.0.0dev,>=2.18.0 in /opt/conda/envs/py310/lib/python3.10/site-packages (from google-cloud-storage==2.18.0->mbari-pbp==1.7.1) (2.32.3)\n",
      "Requirement already satisfied: google-crc32c<2.0dev,>=1.0 in /opt/conda/envs/py310/lib/python3.10/site-packages (from google-cloud-storage==2.18.0->mbari-pbp==1.7.1) (1.7.1)\n",
      "Requirement already satisfied: h5py in /opt/conda/envs/py310/lib/python3.10/site-packages (from h5netcdf==1.3.0->mbari-pbp==1.7.1) (3.12.1)\n",
      "Requirement already satisfied: packaging in /opt/conda/envs/py310/lib/python3.10/site-packages (from h5netcdf==1.3.0->mbari-pbp==1.7.1) (24.2)\n",
      "Requirement already satisfied: dask<2024.0.0,>=2023.0.0 in /opt/conda/envs/py310/lib/python3.10/site-packages (from lifewatch-pypam==0.3.2->mbari-pbp==1.7.1) (2023.12.1)\n",
      "Requirement already satisfied: matplotlib<4.0.0,>=3.7.1 in /opt/conda/envs/py310/lib/python3.10/site-packages (from lifewatch-pypam==0.3.2->mbari-pbp==1.7.1) (3.10.0)\n",
      "Requirement already satisfied: netcdf4<2.0.0,>=1.6.4 in /opt/conda/envs/py310/lib/python3.10/site-packages (from lifewatch-pypam==0.3.2->mbari-pbp==1.7.1) (1.7.2)\n",
      "Requirement already satisfied: noisereduce<3.0.0,>=2.0.1 in /opt/conda/envs/py310/lib/python3.10/site-packages (from lifewatch-pypam==0.3.2->mbari-pbp==1.7.1) (2.0.1)\n",
      "Requirement already satisfied: numba<0.58.0,>=0.57.0 in /opt/conda/envs/py310/lib/python3.10/site-packages (from lifewatch-pypam==0.3.2->mbari-pbp==1.7.1) (0.57.1)\n",
      "Requirement already satisfied: numpy<2.0.0,>=1.24.3 in /opt/conda/envs/py310/lib/python3.10/site-packages (from lifewatch-pypam==0.3.2->mbari-pbp==1.7.1) (1.24.4)\n",
      "Requirement already satisfied: openpyxl<4.0.0,>=3.1.5 in /opt/conda/envs/py310/lib/python3.10/site-packages (from lifewatch-pypam==0.3.2->mbari-pbp==1.7.1) (3.1.5)\n",
      "Requirement already satisfied: pandas<3.0.0,>=2.0.2 in /opt/conda/envs/py310/lib/python3.10/site-packages (from lifewatch-pypam==0.3.2->mbari-pbp==1.7.1) (2.2.3)\n",
      "Requirement already satisfied: pyhydrophone<0.2.0,>=0.1.7 in /opt/conda/envs/py310/lib/python3.10/site-packages (from lifewatch-pypam==0.3.2->mbari-pbp==1.7.1) (0.1.7)\n",
      "Requirement already satisfied: scikit-learn<2.0.0,>=1.2.2 in /opt/conda/envs/py310/lib/python3.10/site-packages (from lifewatch-pypam==0.3.2->mbari-pbp==1.7.1) (1.6.1)\n",
      "Requirement already satisfied: scikit-maad<2.0.0,>=1.4.3 in /opt/conda/envs/py310/lib/python3.10/site-packages (from lifewatch-pypam==0.3.2->mbari-pbp==1.7.1) (1.4.3)\n",
      "Requirement already satisfied: seaborn==0.13.0 in /opt/conda/envs/py310/lib/python3.10/site-packages (from lifewatch-pypam==0.3.2->mbari-pbp==1.7.1) (0.13.0)\n",
      "Requirement already satisfied: syrupy<5.0.0,>=4.0.4 in /opt/conda/envs/py310/lib/python3.10/site-packages (from lifewatch-pypam==0.3.2->mbari-pbp==1.7.1) (4.8.1)\n",
      "Requirement already satisfied: tqdm<5.0.0,>=4.65.0 in /opt/conda/envs/py310/lib/python3.10/site-packages (from lifewatch-pypam==0.3.2->mbari-pbp==1.7.1) (4.67.1)\n",
      "Requirement already satisfied: xarray==2023.8.0 in /opt/conda/envs/py310/lib/python3.10/site-packages (from lifewatch-pypam==0.3.2->mbari-pbp==1.7.1) (2023.8.0)\n",
      "Requirement already satisfied: python-utils>=2.3.0 in /opt/conda/envs/py310/lib/python3.10/site-packages (from progressbar2==3.53.1->mbari-pbp==1.7.1) (3.9.1)\n",
      "Requirement already satisfied: six in /opt/conda/envs/py310/lib/python3.10/site-packages (from progressbar2==3.53.1->mbari-pbp==1.7.1) (1.17.0)\n",
      "Requirement already satisfied: cffi>=1.0 in /opt/conda/envs/py310/lib/python3.10/site-packages (from soundfile==0.12.1->mbari-pbp==1.7.1) (1.17.1)\n",
      "Requirement already satisfied: docutils<0.17,>=0.10 in /opt/conda/envs/py310/lib/python3.10/site-packages (from awscli<2.0.0,>=1.33.20->mbari-pbp==1.7.1) (0.16)\n",
      "Requirement already satisfied: colorama<0.4.7,>=0.2.5 in /opt/conda/envs/py310/lib/python3.10/site-packages (from awscli<2.0.0,>=1.33.20->mbari-pbp==1.7.1) (0.4.6)\n",
      "Requirement already satisfied: rsa<4.8,>=3.1.2 in /opt/conda/envs/py310/lib/python3.10/site-packages (from awscli<2.0.0,>=1.33.20->mbari-pbp==1.7.1) (4.7.2)\n",
      "Requirement already satisfied: urllib3!=2.2.0,<3,>=1.25.4 in /opt/conda/envs/py310/lib/python3.10/site-packages (from botocore<1.35.0,>=1.34.47->boto3==1.34.47->mbari-pbp==1.7.1) (2.3.0)\n",
      "Requirement already satisfied: typing-extensions in /opt/conda/envs/py310/lib/python3.10/site-packages (from loguru-mypy<0.0.5,>=0.0.4->mbari-pbp==1.7.1) (4.12.2)\n",
      "\u001b[33mWARNING: loguru 0.7.3 does not provide the extra 'mypy'\u001b[0m\u001b[33m\n",
      "\u001b[0mRequirement already satisfied: pytz in /opt/conda/envs/py310/lib/python3.10/site-packages (from pvlib<0.12.0,>=0.11.0->mbari-pbp==1.7.1) (2024.1)\n",
      "Requirement already satisfied: scipy>=1.6.0 in /opt/conda/envs/py310/lib/python3.10/site-packages (from pvlib<0.12.0,>=0.11.0->mbari-pbp==1.7.1) (1.10.0)\n",
      "Requirement already satisfied: pycparser in /opt/conda/envs/py310/lib/python3.10/site-packages (from cffi>=1.0->soundfile==0.12.1->mbari-pbp==1.7.1) (2.22)\n",
      "Requirement already satisfied: click>=8.1 in /opt/conda/envs/py310/lib/python3.10/site-packages (from dask<2024.0.0,>=2023.0.0->lifewatch-pypam==0.3.2->mbari-pbp==1.7.1) (8.1.8)\n",
      "Requirement already satisfied: cloudpickle>=1.5.0 in /opt/conda/envs/py310/lib/python3.10/site-packages (from dask<2024.0.0,>=2023.0.0->lifewatch-pypam==0.3.2->mbari-pbp==1.7.1) (3.1.1)\n",
      "Requirement already satisfied: fsspec>=2021.09.0 in /opt/conda/envs/py310/lib/python3.10/site-packages (from dask<2024.0.0,>=2023.0.0->lifewatch-pypam==0.3.2->mbari-pbp==1.7.1) (2024.12.0)\n",
      "Requirement already satisfied: partd>=1.2.0 in /opt/conda/envs/py310/lib/python3.10/site-packages (from dask<2024.0.0,>=2023.0.0->lifewatch-pypam==0.3.2->mbari-pbp==1.7.1) (1.4.2)\n",
      "Requirement already satisfied: toolz>=0.10.0 in /opt/conda/envs/py310/lib/python3.10/site-packages (from dask<2024.0.0,>=2023.0.0->lifewatch-pypam==0.3.2->mbari-pbp==1.7.1) (1.0.0)\n",
      "Requirement already satisfied: importlib-metadata>=4.13.0 in /opt/conda/envs/py310/lib/python3.10/site-packages (from dask<2024.0.0,>=2023.0.0->lifewatch-pypam==0.3.2->mbari-pbp==1.7.1) (8.6.1)\n",
      "Requirement already satisfied: googleapis-common-protos<2.0.0,>=1.56.2 in /opt/conda/envs/py310/lib/python3.10/site-packages (from google-api-core<3.0.0dev,>=2.15.0->google-cloud-storage==2.18.0->mbari-pbp==1.7.1) (1.70.0)\n",
      "Requirement already satisfied: protobuf!=3.20.0,!=3.20.1,!=4.21.0,!=4.21.1,!=4.21.2,!=4.21.3,!=4.21.4,!=4.21.5,<7.0.0,>=3.19.5 in /opt/conda/envs/py310/lib/python3.10/site-packages (from google-api-core<3.0.0dev,>=2.15.0->google-cloud-storage==2.18.0->mbari-pbp==1.7.1) (5.28.3)\n",
      "Requirement already satisfied: proto-plus<2.0.0,>=1.22.3 in /opt/conda/envs/py310/lib/python3.10/site-packages (from google-api-core<3.0.0dev,>=2.15.0->google-cloud-storage==2.18.0->mbari-pbp==1.7.1) (1.26.1)\n",
      "Requirement already satisfied: cachetools<6.0,>=2.0.0 in /opt/conda/envs/py310/lib/python3.10/site-packages (from google-auth<3.0dev,>=2.26.1->google-cloud-storage==2.18.0->mbari-pbp==1.7.1) (5.5.2)\n",
      "Requirement already satisfied: pyasn1-modules>=0.2.1 in /opt/conda/envs/py310/lib/python3.10/site-packages (from google-auth<3.0dev,>=2.26.1->google-cloud-storage==2.18.0->mbari-pbp==1.7.1) (0.4.2)\n",
      "Requirement already satisfied: contourpy>=1.0.1 in /opt/conda/envs/py310/lib/python3.10/site-packages (from matplotlib<4.0.0,>=3.7.1->lifewatch-pypam==0.3.2->mbari-pbp==1.7.1) (1.3.1)\n",
      "Requirement already satisfied: cycler>=0.10 in /opt/conda/envs/py310/lib/python3.10/site-packages (from matplotlib<4.0.0,>=3.7.1->lifewatch-pypam==0.3.2->mbari-pbp==1.7.1) (0.12.1)\n",
      "Requirement already satisfied: fonttools>=4.22.0 in /opt/conda/envs/py310/lib/python3.10/site-packages (from matplotlib<4.0.0,>=3.7.1->lifewatch-pypam==0.3.2->mbari-pbp==1.7.1) (4.55.7)\n",
      "Requirement already satisfied: kiwisolver>=1.3.1 in /opt/conda/envs/py310/lib/python3.10/site-packages (from matplotlib<4.0.0,>=3.7.1->lifewatch-pypam==0.3.2->mbari-pbp==1.7.1) (1.4.7)\n",
      "Requirement already satisfied: pillow>=8 in /opt/conda/envs/py310/lib/python3.10/site-packages (from matplotlib<4.0.0,>=3.7.1->lifewatch-pypam==0.3.2->mbari-pbp==1.7.1) (11.1.0)\n",
      "Requirement already satisfied: pyparsing>=2.3.1 in /opt/conda/envs/py310/lib/python3.10/site-packages (from matplotlib<4.0.0,>=3.7.1->lifewatch-pypam==0.3.2->mbari-pbp==1.7.1) (3.2.1)\n",
      "Requirement already satisfied: cftime in /opt/conda/envs/py310/lib/python3.10/site-packages (from netcdf4<2.0.0,>=1.6.4->lifewatch-pypam==0.3.2->mbari-pbp==1.7.1) (1.6.4.post1)\n",
      "Requirement already satisfied: certifi in /opt/conda/envs/py310/lib/python3.10/site-packages (from netcdf4<2.0.0,>=1.6.4->lifewatch-pypam==0.3.2->mbari-pbp==1.7.1) (2024.12.14)\n",
      "Requirement already satisfied: librosa in /opt/conda/envs/py310/lib/python3.10/site-packages (from noisereduce<3.0.0,>=2.0.1->lifewatch-pypam==0.3.2->mbari-pbp==1.7.1) (0.10.2.post1)\n",
      "Requirement already satisfied: llvmlite<0.41,>=0.40.0dev0 in /opt/conda/envs/py310/lib/python3.10/site-packages (from numba<0.58.0,>=0.57.0->lifewatch-pypam==0.3.2->mbari-pbp==1.7.1) (0.40.1)\n",
      "Requirement already satisfied: et-xmlfile in /opt/conda/envs/py310/lib/python3.10/site-packages (from openpyxl<4.0.0,>=3.1.5->lifewatch-pypam==0.3.2->mbari-pbp==1.7.1) (2.0.0)\n",
      "Requirement already satisfied: tzdata>=2022.7 in /opt/conda/envs/py310/lib/python3.10/site-packages (from pandas<3.0.0,>=2.0.2->lifewatch-pypam==0.3.2->mbari-pbp==1.7.1) (2025.1)\n",
      "Requirement already satisfied: charset_normalizer<4,>=2 in /opt/conda/envs/py310/lib/python3.10/site-packages (from requests<3.0.0dev,>=2.18.0->google-cloud-storage==2.18.0->mbari-pbp==1.7.1) (3.4.1)\n",
      "Requirement already satisfied: idna<4,>=2.5 in /opt/conda/envs/py310/lib/python3.10/site-packages (from requests<3.0.0dev,>=2.18.0->google-cloud-storage==2.18.0->mbari-pbp==1.7.1) (3.10)\n",
      "Requirement already satisfied: pyasn1>=0.1.3 in /opt/conda/envs/py310/lib/python3.10/site-packages (from rsa<4.8,>=3.1.2->awscli<2.0.0,>=1.33.20->mbari-pbp==1.7.1) (0.6.1)\n",
      "Requirement already satisfied: joblib>=1.2.0 in /opt/conda/envs/py310/lib/python3.10/site-packages (from scikit-learn<2.0.0,>=1.2.2->lifewatch-pypam==0.3.2->mbari-pbp==1.7.1) (1.4.2)\n",
      "Requirement already satisfied: threadpoolctl>=3.1.0 in /opt/conda/envs/py310/lib/python3.10/site-packages (from scikit-learn<2.0.0,>=1.2.2->lifewatch-pypam==0.3.2->mbari-pbp==1.7.1) (3.5.0)\n",
      "Requirement already satisfied: scikit-image>=0.19 in /opt/conda/envs/py310/lib/python3.10/site-packages (from scikit-maad<2.0.0,>=1.4.3->lifewatch-pypam==0.3.2->mbari-pbp==1.7.1) (0.24.0)\n",
      "Requirement already satisfied: resampy>=0.4 in /opt/conda/envs/py310/lib/python3.10/site-packages (from scikit-maad<2.0.0,>=1.4.3->lifewatch-pypam==0.3.2->mbari-pbp==1.7.1) (0.4.3)\n",
      "Requirement already satisfied: pytest<9.0.0,>=7.0.0 in /opt/conda/envs/py310/lib/python3.10/site-packages (from syrupy<5.0.0,>=4.0.4->lifewatch-pypam==0.3.2->mbari-pbp==1.7.1) (8.3.4)\n",
      "Requirement already satisfied: mypy-extensions>=0.3.0 in /opt/conda/envs/py310/lib/python3.10/site-packages (from typing-inspect<1,>=0.4.0->dataclasses-json==0.6->mbari-pbp==1.7.1) (1.1.0)\n",
      "Requirement already satisfied: zipp>=3.20 in /opt/conda/envs/py310/lib/python3.10/site-packages (from importlib-metadata>=4.13.0->dask<2024.0.0,>=2023.0.0->lifewatch-pypam==0.3.2->mbari-pbp==1.7.1) (3.21.0)\n",
      "Requirement already satisfied: locket in /opt/conda/envs/py310/lib/python3.10/site-packages (from partd>=1.2.0->dask<2024.0.0,>=2023.0.0->lifewatch-pypam==0.3.2->mbari-pbp==1.7.1) (1.0.0)\n",
      "Requirement already satisfied: exceptiongroup>=1.0.0rc8 in /opt/conda/envs/py310/lib/python3.10/site-packages (from pytest<9.0.0,>=7.0.0->syrupy<5.0.0,>=4.0.4->lifewatch-pypam==0.3.2->mbari-pbp==1.7.1) (1.2.2)\n",
      "Requirement already satisfied: iniconfig in /opt/conda/envs/py310/lib/python3.10/site-packages (from pytest<9.0.0,>=7.0.0->syrupy<5.0.0,>=4.0.4->lifewatch-pypam==0.3.2->mbari-pbp==1.7.1) (2.0.0)\n",
      "Requirement already satisfied: pluggy<2,>=1.5 in /opt/conda/envs/py310/lib/python3.10/site-packages (from pytest<9.0.0,>=7.0.0->syrupy<5.0.0,>=4.0.4->lifewatch-pypam==0.3.2->mbari-pbp==1.7.1) (1.5.0)\n",
      "Requirement already satisfied: tomli>=1 in /opt/conda/envs/py310/lib/python3.10/site-packages (from pytest<9.0.0,>=7.0.0->syrupy<5.0.0,>=4.0.4->lifewatch-pypam==0.3.2->mbari-pbp==1.7.1) (2.2.1)\n",
      "Requirement already satisfied: networkx>=2.8 in /opt/conda/envs/py310/lib/python3.10/site-packages (from scikit-image>=0.19->scikit-maad<2.0.0,>=1.4.3->lifewatch-pypam==0.3.2->mbari-pbp==1.7.1) (3.4.2)\n",
      "Requirement already satisfied: imageio>=2.33 in /opt/conda/envs/py310/lib/python3.10/site-packages (from scikit-image>=0.19->scikit-maad<2.0.0,>=1.4.3->lifewatch-pypam==0.3.2->mbari-pbp==1.7.1) (2.36.1)\n",
      "Requirement already satisfied: tifffile>=2022.8.12 in /opt/conda/envs/py310/lib/python3.10/site-packages (from scikit-image>=0.19->scikit-maad<2.0.0,>=1.4.3->lifewatch-pypam==0.3.2->mbari-pbp==1.7.1) (2025.1.10)\n",
      "Requirement already satisfied: lazy-loader>=0.4 in /opt/conda/envs/py310/lib/python3.10/site-packages (from scikit-image>=0.19->scikit-maad<2.0.0,>=1.4.3->lifewatch-pypam==0.3.2->mbari-pbp==1.7.1) (0.4)\n",
      "Requirement already satisfied: audioread>=2.1.9 in /opt/conda/envs/py310/lib/python3.10/site-packages (from librosa->noisereduce<3.0.0,>=2.0.1->lifewatch-pypam==0.3.2->mbari-pbp==1.7.1) (3.0.1)\n",
      "Requirement already satisfied: decorator>=4.3.0 in /opt/conda/envs/py310/lib/python3.10/site-packages (from librosa->noisereduce<3.0.0,>=2.0.1->lifewatch-pypam==0.3.2->mbari-pbp==1.7.1) (5.1.1)\n",
      "Requirement already satisfied: pooch>=1.1 in /opt/conda/envs/py310/lib/python3.10/site-packages (from librosa->noisereduce<3.0.0,>=2.0.1->lifewatch-pypam==0.3.2->mbari-pbp==1.7.1) (1.8.2)\n",
      "Requirement already satisfied: soxr>=0.3.2 in /opt/conda/envs/py310/lib/python3.10/site-packages (from librosa->noisereduce<3.0.0,>=2.0.1->lifewatch-pypam==0.3.2->mbari-pbp==1.7.1) (0.5.0.post1)\n",
      "Requirement already satisfied: msgpack>=1.0 in /opt/conda/envs/py310/lib/python3.10/site-packages (from librosa->noisereduce<3.0.0,>=2.0.1->lifewatch-pypam==0.3.2->mbari-pbp==1.7.1) (1.1.0)\n",
      "Requirement already satisfied: platformdirs>=2.5.0 in /opt/conda/envs/py310/lib/python3.10/site-packages (from pooch>=1.1->librosa->noisereduce<3.0.0,>=2.0.1->lifewatch-pypam==0.3.2->mbari-pbp==1.7.1) (4.3.6)\n",
      "Building wheels for collected packages: mbari-pbp\n",
      "  Building wheel for mbari-pbp (pyproject.toml) ... \u001b[?25ldone\n",
      "\u001b[?25h  Created wheel for mbari-pbp: filename=mbari_pbp-1.7.1-py3-none-any.whl size=60032 sha256=084e99f64029c268bd64dbba31ac231a781d70ae5b39472c07a3f15d27fa17a7\n",
      "  Stored in directory: /tmp/pip-ephem-wheel-cache-wp4alivj/wheels/a1/08/9d/ca72758a4c05a099aeedd20f99fbe30898eb84ed5003f063cf\n",
      "Successfully built mbari-pbp\n",
      "Installing collected packages: mbari-pbp\n",
      "Successfully installed mbari-pbp-1.7.1\n",
      "Requirement already satisfied: cblind in /opt/conda/envs/py310/lib/python3.10/site-packages (2.3.1)\n",
      "Requirement already satisfied: matplotlib>=3.5 in /opt/conda/envs/py310/lib/python3.10/site-packages (from cblind) (3.10.0)\n",
      "Requirement already satisfied: cycler>=0.10 in /opt/conda/envs/py310/lib/python3.10/site-packages (from cblind) (0.12.1)\n",
      "Requirement already satisfied: numpy>=1.17 in /opt/conda/envs/py310/lib/python3.10/site-packages (from cblind) (1.24.4)\n",
      "Requirement already satisfied: contourpy>=1.0.1 in /opt/conda/envs/py310/lib/python3.10/site-packages (from matplotlib>=3.5->cblind) (1.3.1)\n",
      "Requirement already satisfied: fonttools>=4.22.0 in /opt/conda/envs/py310/lib/python3.10/site-packages (from matplotlib>=3.5->cblind) (4.55.7)\n",
      "Requirement already satisfied: kiwisolver>=1.3.1 in /opt/conda/envs/py310/lib/python3.10/site-packages (from matplotlib>=3.5->cblind) (1.4.7)\n",
      "Requirement already satisfied: packaging>=20.0 in /opt/conda/envs/py310/lib/python3.10/site-packages (from matplotlib>=3.5->cblind) (24.2)\n",
      "Requirement already satisfied: pillow>=8 in /opt/conda/envs/py310/lib/python3.10/site-packages (from matplotlib>=3.5->cblind) (11.1.0)\n",
      "Requirement already satisfied: pyparsing>=2.3.1 in /opt/conda/envs/py310/lib/python3.10/site-packages (from matplotlib>=3.5->cblind) (3.2.1)\n",
      "Requirement already satisfied: python-dateutil>=2.7 in /opt/conda/envs/py310/lib/python3.10/site-packages (from matplotlib>=3.5->cblind) (2.8.2)\n",
      "Requirement already satisfied: six>=1.5 in /opt/conda/envs/py310/lib/python3.10/site-packages (from python-dateutil>=2.7->matplotlib>=3.5->cblind) (1.17.0)\n"
     ]
    }
   ],
   "source": [
    "!{sys.executable} -m pip install git+https://github.com/lifewatch/pbp.git@rtsys_metadata\n",
    "!{sys.executable} -m pip install cblind"
   ]
  },
  {
   "cell_type": "code",
   "execution_count": 4,
   "id": "21bd7998-9a2c-480e-bb0d-568285bec1c0",
   "metadata": {},
   "outputs": [],
   "source": [
    "# Import package modules\n",
    "import xarray as xr\n",
    "import dask\n",
    "import pandas as pd\n",
    "import time\n",
    "import json\n",
    "import pathlib\n",
    "import yaml\n",
    "from urllib.parse import urlparse\n",
    "import os\n",
    "import pyhydrophone as pyhy\n",
    "import configparser\n",
    "import cblind\n",
    "import matplotlib.pyplot as plt\n",
    "import pypam\n",
    "import re\n"
   ]
  },
  {
   "cell_type": "code",
   "execution_count": 5,
   "id": "04fef403-c2a0-4dab-8eac-0cf4030221bb",
   "metadata": {},
   "outputs": [],
   "source": [
    "from pbp.meta_gen.gen_soundtrap import SoundTrapMetadataGenerator\n",
    "from pbp.meta_gen.gen_resea import ReseaMetadataGenerator\n",
    "from pbp.logging_helper import create_logger_info, create_logger\n",
    "\n",
    "from pbp.process_helper import ProcessHelper\n",
    "from pbp.file_helper import FileHelper"
   ]
  },
  {
   "cell_type": "markdown",
   "id": "535a7aaf-3fb5-43fc-98d2-20cba145d79b",
   "metadata": {},
   "source": [
    "We will first indicate where is the json file containing all the metadata for the deployment we want to process"
   ]
  },
  {
   "cell_type": "code",
   "execution_count": 6,
   "id": "66fba7db-27ce-4d68-ac9c-1c52a2d9d02d",
   "metadata": {},
   "outputs": [],
   "source": [
    "# Location for generated files:\n",
    "path_to_config_file = '/home/jovyan/work/shared/data/AXOLOTL_workshop/metadata/deployments/bpns-Grafton_2022-10-28_EA-SDA14_2003001.json'"
   ]
  },
  {
   "cell_type": "markdown",
   "id": "0b0295d3-29ee-4d09-85bf-17006c63b745",
   "metadata": {},
   "source": [
    "pbp uses yaml files to store metadata on the generated netCDF files - this should be adapted to each institute"
   ]
  },
  {
   "cell_type": "code",
   "execution_count": 7,
   "id": "7599e388-37e6-450f-a3d3-857dd5e37b8f",
   "metadata": {},
   "outputs": [],
   "source": [
    "global_attrs_uri = \"/home/jovyan/work/shared/data/AXOLOTL_workshop/metadata/pbp_yaml/globalAttributes.yaml\"\n",
    "variable_attrs_uri = \"/home/jovyan/work/shared/data/AXOLOTL_workshop/metadata/pbp_yaml/variableAttributes.yaml\""
   ]
  },
  {
   "cell_type": "markdown",
   "id": "4d4829f5-e344-4655-82b5-1541c982e319",
   "metadata": {},
   "source": [
    "We'll load the config file information, and the corresponding instrument config file (for this it's necessary to keep the folder structure the same as in this workshop)"
   ]
  },
  {
   "cell_type": "code",
   "execution_count": 8,
   "id": "e8b2baf5-c2c2-4461-989f-cd81c230333f",
   "metadata": {},
   "outputs": [],
   "source": [
    "config_file = pathlib.Path(path_to_config_file)\n",
    "f = open(path_to_config_file, 'r')\n",
    "deployment_config = json.load(f)\n",
    "\n",
    "instrument_file = config_file.parent.parent.joinpath('receivers', deployment_config['RECORDER_ID'] + '.json')\n",
    "f_i = open(instrument_file, 'r')\n",
    "instrument_config = json.load(f_i)"
   ]
  },
  {
   "cell_type": "markdown",
   "id": "c128a40b-c4bf-49af-a7a3-b5cf1fc17c98",
   "metadata": {},
   "source": [
    "From the config file, set up the paths to the raw data and the output"
   ]
  },
  {
   "cell_type": "code",
   "execution_count": 9,
   "id": "1fe6575b-f4a1-46a5-ba15-cf24cc299fe3",
   "metadata": {},
   "outputs": [],
   "source": [
    "# A prefix for the name of generate files:\n",
    "deployment_name = deployment_config['DEPLOYMENT_NAME']"
   ]
  },
  {
   "cell_type": "code",
   "execution_count": 10,
   "id": "95330872-b3bd-455d-ab9b-3092c4048473",
   "metadata": {},
   "outputs": [],
   "source": [
    "# Audio data input specifications\n",
    "wav_uri = deployment_config['FOLDER_PATH']\n",
    "# file storage location for the input audio data\n",
    "wav_path = pathlib.Path(urlparse(wav_uri).path)\n",
    "output_dir = config_file.parent.parent.parent.joinpath('HMD', deployment_name)"
   ]
  },
  {
   "cell_type": "code",
   "execution_count": 11,
   "id": "6d507e8d-2e21-4dd6-bc56-2f08a97f28ae",
   "metadata": {},
   "outputs": [
    {
     "name": "stdout",
     "output_type": "stream",
     "text": [
      "We will analyze the period from 2022-10-28 00:00:00 to 2022-11-08 00:00:00\n"
     ]
    }
   ],
   "source": [
    "json_base_dir = wav_path.parent.joinpath('metadata', 'json')  # location to store generated data in JSON format\n",
    "xml_dir = wav_path  # file storage location for the input audio data\n",
    "\n",
    "serial_number = instrument_config['recorder']['serial_number']\n",
    "start_date = pd.to_datetime(deployment_config['AUDIO_START_DEPLOYMENT_DATETIME']).to_pydatetime()  # start date\n",
    "end_date = pd.to_datetime(deployment_config['AUDIO_END_DEPLOYMENT_DATETIME']).to_pydatetime()\n",
    "\n",
    "print(f'We will analyze the period from {start_date} to {end_date}')"
   ]
  },
  {
   "cell_type": "markdown",
   "id": "8645eb1d-0acf-4a08-a3db-7af4791b0985",
   "metadata": {},
   "source": [
    "We'll read some information from the config file and populate the corresponding fields on the pbp yaml files"
   ]
  },
  {
   "cell_type": "code",
   "execution_count": 12,
   "id": "053c9c8d-265f-4103-bb27-ed82b5ca56ea",
   "metadata": {},
   "outputs": [],
   "source": [
    "# Populate deployment-specific yaml attributes\n",
    "deployment_attrs_uri = output_dir.joinpath(f'globalAttributes_{deployment_name}.yml')\n",
    "\n",
    "yaml_config = yaml.safe_load(open(global_attrs_uri))\n",
    "yaml_config['creator_name'] = deployment_config['AUTHOR_NAME']\n",
    "yaml_config['creator_email'] = deployment_config['AUTHOR_EMAIL']\n",
    "lon = deployment_config['location']['DEP_LON_DEG']\n",
    "lat = deployment_config['location']['DEP_LAT_DEG']\n",
    "yaml_config['geospatial_bounds'] = f'POINT ({lon} {lat})'\n",
    "yaml_config['comment'] = deployment_config['DEPLOYMENT_COMMENTS']\n",
    "yaml_config['platform'] = deployment_config['location']['MOORING_TYPE']\n",
    "yaml_config['instrument'] = deployment_config['RECORDER_ID']"
   ]
  },
  {
   "cell_type": "markdown",
   "id": "7b8be407-e135-40d2-840d-196515d645d1",
   "metadata": {},
   "source": [
    "And we'll create the output directory and copy there the config file used "
   ]
  },
  {
   "cell_type": "code",
   "execution_count": 13,
   "id": "315b3863-006d-4e1d-97db-a42c5932b1a9",
   "metadata": {},
   "outputs": [],
   "source": [
    "if not output_dir.exists():\n",
    "    print('Creating a new directory...', output_dir)\n",
    "    os.mkdir(output_dir)\n",
    "\n",
    "with open(deployment_attrs_uri, 'w') as file:\n",
    "    yaml.dump(yaml_config, file)"
   ]
  },
  {
   "cell_type": "code",
   "execution_count": 14,
   "id": "7698ccf3-060a-4f93-8f17-405a61989475",
   "metadata": {},
   "outputs": [],
   "source": [
    "voltage_multiplier = 1.0\n",
    "subset_to = (10, 24000)"
   ]
  },
  {
   "cell_type": "markdown",
   "id": "594ee2e6-1b19-4381-bfa3-dad460337545",
   "metadata": {},
   "source": [
    "## Instruments"
   ]
  },
  {
   "cell_type": "code",
   "execution_count": 15,
   "id": "1e8322c2-6ae7-4ed9-b020-377f0c158fcf",
   "metadata": {},
   "outputs": [],
   "source": [
    "update_sens = True \n",
    "# this only applies for RESEA instruments!"
   ]
  },
  {
   "cell_type": "code",
   "execution_count": 16,
   "id": "c1480b7f-8223-4c07-84ae-ffd43839aac5",
   "metadata": {},
   "outputs": [
    {
     "name": "stdin",
     "output_type": "stream",
     "text": [
      "Should the RESEA sensitivity be updated with a wav file? Write no if you do not want any metadata update. Give the file you wish to use or press enter to use by default the first file. \n"
     ]
    },
    {
     "name": "stdout",
     "output_type": "stream",
     "text": [
      "RESEA settings to:\n",
      "sensitivity:  -160.0\n",
      "Vpp:  5\n",
      "preamp_gain:  0\n",
      "mode:  lowpower\n"
     ]
    }
   ],
   "source": [
    "if 'SOUNDTRAP' in deployment_config['RECORDER_ID']:\n",
    "    hydrophone = pyhy.SoundTrap(model=instrument_config['recorder']['model'].replace('_', ' '),\n",
    "                                serial_number=int(instrument_config['recorder']['serial_number']),\n",
    "                                name=deployment_config['RECORDER_ID'],\n",
    "                                gain_type='High')\n",
    "\n",
    "    print('SoundTrap settings to:')\n",
    "    print('sensitivity: ', hydrophone.sensitivity)\n",
    "    print('Vpp: ', hydrophone.Vpp)\n",
    "    print('preamp_gain: ', hydrophone.preamp_gain)\n",
    "    print('gain_type: ', 'High')\n",
    "\n",
    "    wav_prefix = [f'{serial_number}.']  # prefix for the audio files\n",
    "    seconds_per_file = 300\n",
    "\n",
    "elif 'RESEA' in deployment_config['RECORDER_ID']:\n",
    "    txt_metadata_file = wav_path.parent.joinpath('metadata', 'config.txt')\n",
    "    config_rec = configparser.ConfigParser()\n",
    "    config_rec.read(txt_metadata_file)\n",
    "\n",
    "    byte_per_sample = int(config_rec['Recorder']['format'].split('_')[1]) / 8\n",
    "    sampling_freq = int(config_rec['Recorder']['lp_frequency'].replace('K', '000'))\n",
    "    seconds_per_file = int(config_rec['Recorder']['file_max_size']) * 1E6 / (sampling_freq * byte_per_sample)\n",
    "\n",
    "    hydrophone = pyhy.RTSys(model=instrument_config['recorder']['model'],\n",
    "                            sensitivity=config_rec['Hydrophones']['cha_sh'],\n",
    "                            serial_number=int(instrument_config['recorder']['serial_number'].split('_')[-1]),\n",
    "                            name=deployment_config['RECORDER_ID'],\n",
    "                            Vpp=5,\n",
    "                            preamp_gain=0,\n",
    "                            mode=config_rec['Recorder']['record_mode'])\n",
    "    wav_prefix = ['channelA_', 'channelAC_']  # prefix for the audio files , 'channelA_', 'channelC_'\n",
    "    update_sens = input('Should the RESEA sensitivity be updated with a wav file? '\n",
    "                        'Write no if you do not want any metadata update. '\n",
    "                        'Give the file you wish to use or press enter to use by default the first file.')\n",
    "    if update_sens:\n",
    "        wav_file = list(wav_path.glob('*/*.wav'))[0]\n",
    "        print(f'Using wav file {wav_file} for sensitivity adjustment...')\n",
    "        hydrophone = hydrophone.update_metadata(wav_file)\n",
    "    elif not update_sens:\n",
    "        pass\n",
    "    else:\n",
    "        raise ValueError(f'The value {update_sens} is not accepted as an answer to update the RESEA metadata')\n",
    "\n",
    "    print('RESEA settings to:')\n",
    "    print('sensitivity: ', hydrophone.sensitivity)\n",
    "    print('Vpp: ', hydrophone.Vpp)\n",
    "    print('preamp_gain: ', hydrophone.preamp_gain)\n",
    "    print('mode: ', config_rec['Recorder']['record_mode'])"
   ]
  },
  {
   "cell_type": "markdown",
   "id": "38b97adf-a6eb-40fd-9f4e-c251674963ed",
   "metadata": {},
   "source": [
    "## Start the metadata generation (daily json files pointing to the each minute)"
   ]
  },
  {
   "cell_type": "code",
   "execution_count": 17,
   "id": "209f3789-8f2e-48ae-b477-748eb871419c",
   "metadata": {},
   "outputs": [],
   "source": [
    "log = create_logger_info(deployment_config['DEPLOYMENT_NAME'])"
   ]
  },
  {
   "cell_type": "code",
   "execution_count": 18,
   "id": "8bc3c97f-2715-4edc-b509-2c99c4b8a6f0",
   "metadata": {
    "scrolled": true
   },
   "outputs": [
    {
     "name": "stdout",
     "output_type": "stream",
     "text": [
      "ReseaMetadataGenerator 20221028 Generating metadata for 2022-10-28 00:00:00 to 2022-11-08 00:00:00...\n",
      "ReseaMetadataGenerator 20221028 Searching in file:///home/jovyan/work/shared/data/AXOLOTL_workshop/raw_data/Grafton_20221028/records/*.wav for wav files that match the search patterns channelA_* ...\n",
      "ReseaMetadataGenerator 20221028 Searching in file:///home/jovyan/work/shared/data/AXOLOTL_workshop/raw_data/Grafton_20221028/records/*.wav for wav files that match the search patterns channelAC_* ...\n"
     ]
    },
    {
     "name": "stderr",
     "output_type": "stream",
     "text": [
      "Searching : N/A% (0 of 846) |            | Elapsed Time: 0:00:00 ETA:  --:--:--"
     ]
    },
    {
     "name": "stdout",
     "output_type": "stream",
     "text": [
      "Found file /home/jovyan/work/shared/data/AXOLOTL_workshop/raw_data/Grafton_20221028/records/221028/channelA_2022-10-28_00-00-20.wav with timestamp 2022-10-28 00:00:20\n",
      "Found file /home/jovyan/work/shared/data/AXOLOTL_workshop/raw_data/Grafton_20221028/records/221028/channelA_2022-10-28_00-10-35.wav with timestamp 2022-10-28 00:10:35\n",
      "Found file /home/jovyan/work/shared/data/AXOLOTL_workshop/raw_data/Grafton_20221028/records/221028/channelA_2022-10-28_00-20-49.wav with timestamp 2022-10-28 00:20:49\n",
      "Found file /home/jovyan/work/shared/data/AXOLOTL_workshop/raw_data/Grafton_20221028/records/221028/channelA_2022-10-28_00-31-03.wav with timestamp 2022-10-28 00:31:03\n",
      "Found file /home/jovyan/work/shared/data/AXOLOTL_workshop/raw_data/Grafton_20221028/records/221028/channelA_2022-10-28_00-41-16.wav with timestamp 2022-10-28 00:41:16\n",
      "Found file /home/jovyan/work/shared/data/AXOLOTL_workshop/raw_data/Grafton_20221028/records/221028/channelA_2022-10-28_00-51-30.wav with timestamp 2022-10-28 00:51:30\n",
      "Found file /home/jovyan/work/shared/data/AXOLOTL_workshop/raw_data/Grafton_20221028/records/221028/channelA_2022-10-28_01-01-43.wav with timestamp 2022-10-28 01:01:43\n",
      "Found file /home/jovyan/work/shared/data/AXOLOTL_workshop/raw_data/Grafton_20221028/records/221028/channelA_2022-10-28_01-11-57.wav with timestamp 2022-10-28 01:11:57\n",
      "Found file /home/jovyan/work/shared/data/AXOLOTL_workshop/raw_data/Grafton_20221028/records/221028/channelA_2022-10-28_01-22-11.wav with timestamp 2022-10-28 01:22:11\n",
      "Found file /home/jovyan/work/shared/data/AXOLOTL_workshop/raw_data/Grafton_20221028/records/221028/channelA_2022-10-28_01-32-24.wav with timestamp 2022-10-28 01:32:24\n",
      "Found file /home/jovyan/work/shared/data/AXOLOTL_workshop/raw_data/Grafton_20221028/records/221028/channelA_2022-10-28_01-42-38.wav with timestamp 2022-10-28 01:42:38\n",
      "Found file /home/jovyan/work/shared/data/AXOLOTL_workshop/raw_data/Grafton_20221028/records/221028/channelA_2022-10-28_01-52-52.wav with timestamp 2022-10-28 01:52:52\n",
      "Found file /home/jovyan/work/shared/data/AXOLOTL_workshop/raw_data/Grafton_20221028/records/221028/channelA_2022-10-28_02-03-05.wav with timestamp 2022-10-28 02:03:05\n",
      "Found file /home/jovyan/work/shared/data/AXOLOTL_workshop/raw_data/Grafton_20221028/records/221028/channelA_2022-10-28_02-13-19.wav with timestamp 2022-10-28 02:13:19\n",
      "Found file /home/jovyan/work/shared/data/AXOLOTL_workshop/raw_data/Grafton_20221028/records/221028/channelA_2022-10-28_02-23-32.wav with timestamp 2022-10-28 02:23:32\n",
      "Found file /home/jovyan/work/shared/data/AXOLOTL_workshop/raw_data/Grafton_20221028/records/221028/channelA_2022-10-28_02-33-46.wav with timestamp 2022-10-28 02:33:46\n",
      "Found file /home/jovyan/work/shared/data/AXOLOTL_workshop/raw_data/Grafton_20221028/records/221028/channelA_2022-10-28_02-44-00.wav with timestamp 2022-10-28 02:44:00\n",
      "Found file /home/jovyan/work/shared/data/AXOLOTL_workshop/raw_data/Grafton_20221028/records/221028/channelA_2022-10-28_02-54-13.wav with timestamp 2022-10-28 02:54:13\n",
      "Found file /home/jovyan/work/shared/data/AXOLOTL_workshop/raw_data/Grafton_20221028/records/221028/channelA_2022-10-28_03-04-27.wav with timestamp 2022-10-28 03:04:27\n",
      "Found file /home/jovyan/work/shared/data/AXOLOTL_workshop/raw_data/Grafton_20221028/records/221028/channelA_2022-10-28_03-14-41.wav with timestamp 2022-10-28 03:14:41\n",
      "Found file /home/jovyan/work/shared/data/AXOLOTL_workshop/raw_data/Grafton_20221028/records/221028/channelA_2022-10-28_03-24-54.wav with timestamp 2022-10-28 03:24:54\n",
      "Found file /home/jovyan/work/shared/data/AXOLOTL_workshop/raw_data/Grafton_20221028/records/221028/channelA_2022-10-28_03-35-08.wav with timestamp 2022-10-28 03:35:08\n",
      "Found file /home/jovyan/work/shared/data/AXOLOTL_workshop/raw_data/Grafton_20221028/records/221028/channelA_2022-10-28_03-45-21.wav with timestamp 2022-10-28 03:45:21\n",
      "Found file /home/jovyan/work/shared/data/AXOLOTL_workshop/raw_data/Grafton_20221028/records/221028/channelA_2022-10-28_03-55-35.wav with timestamp 2022-10-28 03:55:35\n",
      "Found file /home/jovyan/work/shared/data/AXOLOTL_workshop/raw_data/Grafton_20221028/records/221028/channelA_2022-10-28_04-05-49.wav with timestamp 2022-10-28 04:05:49\n",
      "Found file /home/jovyan/work/shared/data/AXOLOTL_workshop/raw_data/Grafton_20221028/records/221028/channelA_2022-10-28_04-16-02.wav with timestamp 2022-10-28 04:16:02\n",
      "Found file /home/jovyan/work/shared/data/AXOLOTL_workshop/raw_data/Grafton_20221028/records/221028/channelA_2022-10-28_04-26-16.wav with timestamp 2022-10-28 04:26:16\n",
      "Found file /home/jovyan/work/shared/data/AXOLOTL_workshop/raw_data/Grafton_20221028/records/221028/channelA_2022-10-28_04-36-29.wav with timestamp 2022-10-28 04:36:29\n",
      "Found file /home/jovyan/work/shared/data/AXOLOTL_workshop/raw_data/Grafton_20221028/records/221028/channelA_2022-10-28_04-46-43.wav with timestamp 2022-10-28 04:46:43\n",
      "Found file /home/jovyan/work/shared/data/AXOLOTL_workshop/raw_data/Grafton_20221028/records/221028/channelA_2022-10-28_04-56-57.wav with timestamp 2022-10-28 04:56:57\n",
      "Found file /home/jovyan/work/shared/data/AXOLOTL_workshop/raw_data/Grafton_20221028/records/221028/channelA_2022-10-28_05-07-10.wav with timestamp 2022-10-28 05:07:10\n",
      "Found file /home/jovyan/work/shared/data/AXOLOTL_workshop/raw_data/Grafton_20221028/records/221028/channelA_2022-10-28_05-17-24.wav with timestamp 2022-10-28 05:17:24\n",
      "Found file /home/jovyan/work/shared/data/AXOLOTL_workshop/raw_data/Grafton_20221028/records/221028/channelA_2022-10-28_05-27-38.wav with timestamp 2022-10-28 05:27:38\n"
     ]
    },
    {
     "name": "stderr",
     "output_type": "stream",
     "text": [
      "Searching :   3% (33 of 846) |           | Elapsed Time: 0:00:00 ETA:  00:00:00"
     ]
    },
    {
     "name": "stdout",
     "output_type": "stream",
     "text": [
      "Found file /home/jovyan/work/shared/data/AXOLOTL_workshop/raw_data/Grafton_20221028/records/221028/channelA_2022-10-28_05-37-51.wav with timestamp 2022-10-28 05:37:51\n",
      "Found file /home/jovyan/work/shared/data/AXOLOTL_workshop/raw_data/Grafton_20221028/records/221028/channelA_2022-10-28_05-48-05.wav with timestamp 2022-10-28 05:48:05\n",
      "Found file /home/jovyan/work/shared/data/AXOLOTL_workshop/raw_data/Grafton_20221028/records/221028/channelA_2022-10-28_05-58-18.wav with timestamp 2022-10-28 05:58:18\n",
      "Found file /home/jovyan/work/shared/data/AXOLOTL_workshop/raw_data/Grafton_20221028/records/221028/channelA_2022-10-28_06-08-32.wav with timestamp 2022-10-28 06:08:32\n",
      "Found file /home/jovyan/work/shared/data/AXOLOTL_workshop/raw_data/Grafton_20221028/records/221028/channelA_2022-10-28_06-18-46.wav with timestamp 2022-10-28 06:18:46\n",
      "Found file /home/jovyan/work/shared/data/AXOLOTL_workshop/raw_data/Grafton_20221028/records/221028/channelA_2022-10-28_06-28-59.wav with timestamp 2022-10-28 06:28:59\n",
      "Found file /home/jovyan/work/shared/data/AXOLOTL_workshop/raw_data/Grafton_20221028/records/221028/channelA_2022-10-28_06-39-13.wav with timestamp 2022-10-28 06:39:13\n",
      "Found file /home/jovyan/work/shared/data/AXOLOTL_workshop/raw_data/Grafton_20221028/records/221028/channelA_2022-10-28_06-49-27.wav with timestamp 2022-10-28 06:49:27\n",
      "Found file /home/jovyan/work/shared/data/AXOLOTL_workshop/raw_data/Grafton_20221028/records/221028/channelA_2022-10-28_06-59-40.wav with timestamp 2022-10-28 06:59:40\n",
      "Found file /home/jovyan/work/shared/data/AXOLOTL_workshop/raw_data/Grafton_20221028/records/221028/channelA_2022-10-28_07-09-54.wav with timestamp 2022-10-28 07:09:54\n",
      "Found file /home/jovyan/work/shared/data/AXOLOTL_workshop/raw_data/Grafton_20221028/records/221028/channelA_2022-10-28_07-20-07.wav with timestamp 2022-10-28 07:20:07\n",
      "Found file /home/jovyan/work/shared/data/AXOLOTL_workshop/raw_data/Grafton_20221028/records/221028/channelA_2022-10-28_07-30-21.wav with timestamp 2022-10-28 07:30:21\n",
      "Found file /home/jovyan/work/shared/data/AXOLOTL_workshop/raw_data/Grafton_20221028/records/221028/channelA_2022-10-28_07-40-35.wav with timestamp 2022-10-28 07:40:35\n",
      "Found file /home/jovyan/work/shared/data/AXOLOTL_workshop/raw_data/Grafton_20221028/records/221028/channelA_2022-10-28_07-50-48.wav with timestamp 2022-10-28 07:50:48\n",
      "Found file /home/jovyan/work/shared/data/AXOLOTL_workshop/raw_data/Grafton_20221028/records/221028/channelA_2022-10-28_08-01-02.wav with timestamp 2022-10-28 08:01:02\n",
      "Found file /home/jovyan/work/shared/data/AXOLOTL_workshop/raw_data/Grafton_20221028/records/221028/channelA_2022-10-28_08-11-16.wav with timestamp 2022-10-28 08:11:16\n",
      "Found file /home/jovyan/work/shared/data/AXOLOTL_workshop/raw_data/Grafton_20221028/records/221028/channelA_2022-10-28_08-21-29.wav with timestamp 2022-10-28 08:21:29\n",
      "Found file /home/jovyan/work/shared/data/AXOLOTL_workshop/raw_data/Grafton_20221028/records/221028/channelA_2022-10-28_08-31-43.wav with timestamp 2022-10-28 08:31:43\n",
      "Found file /home/jovyan/work/shared/data/AXOLOTL_workshop/raw_data/Grafton_20221028/records/221028/channelA_2022-10-28_08-41-56.wav with timestamp 2022-10-28 08:41:56\n",
      "Found file /home/jovyan/work/shared/data/AXOLOTL_workshop/raw_data/Grafton_20221028/records/221028/channelA_2022-10-28_08-52-10.wav with timestamp 2022-10-28 08:52:10\n",
      "Found file /home/jovyan/work/shared/data/AXOLOTL_workshop/raw_data/Grafton_20221028/records/221028/channelA_2022-10-28_09-02-24.wav with timestamp 2022-10-28 09:02:24\n",
      "Found file /home/jovyan/work/shared/data/AXOLOTL_workshop/raw_data/Grafton_20221028/records/221028/channelA_2022-10-28_09-12-37.wav with timestamp 2022-10-28 09:12:37\n",
      "Found file /home/jovyan/work/shared/data/AXOLOTL_workshop/raw_data/Grafton_20221028/records/221028/channelA_2022-10-28_09-22-51.wav with timestamp 2022-10-28 09:22:51\n",
      "Found file /home/jovyan/work/shared/data/AXOLOTL_workshop/raw_data/Grafton_20221028/records/221028/channelA_2022-10-28_09-33-04.wav with timestamp 2022-10-28 09:33:04\n",
      "Found file /home/jovyan/work/shared/data/AXOLOTL_workshop/raw_data/Grafton_20221028/records/221028/channelA_2022-10-28_09-43-18.wav with timestamp 2022-10-28 09:43:18\n",
      "Found file /home/jovyan/work/shared/data/AXOLOTL_workshop/raw_data/Grafton_20221028/records/221028/channelA_2022-10-28_09-53-32.wav with timestamp 2022-10-28 09:53:32\n",
      "Found file /home/jovyan/work/shared/data/AXOLOTL_workshop/raw_data/Grafton_20221028/records/221028/channelA_2022-10-28_10-03-45.wav with timestamp 2022-10-28 10:03:45\n",
      "Found file /home/jovyan/work/shared/data/AXOLOTL_workshop/raw_data/Grafton_20221028/records/221028/channelA_2022-10-28_10-13-59.wav with timestamp 2022-10-28 10:13:59\n",
      "Found file /home/jovyan/work/shared/data/AXOLOTL_workshop/raw_data/Grafton_20221028/records/221028/channelA_2022-10-28_10-24-13.wav with timestamp 2022-10-28 10:24:13\n",
      "Found file /home/jovyan/work/shared/data/AXOLOTL_workshop/raw_data/Grafton_20221028/records/221028/channelA_2022-10-28_10-34-26.wav with timestamp 2022-10-28 10:34:26\n",
      "Found file /home/jovyan/work/shared/data/AXOLOTL_workshop/raw_data/Grafton_20221028/records/221028/channelA_2022-10-28_10-44-40.wav with timestamp 2022-10-28 10:44:40\n",
      "Found file /home/jovyan/work/shared/data/AXOLOTL_workshop/raw_data/Grafton_20221028/records/221028/channelA_2022-10-28_10-54-53.wav with timestamp 2022-10-28 10:54:53\n",
      "Found file /home/jovyan/work/shared/data/AXOLOTL_workshop/raw_data/Grafton_20221028/records/221028/channelA_2022-10-28_11-05-07.wav with timestamp 2022-10-28 11:05:07\n",
      "Found file /home/jovyan/work/shared/data/AXOLOTL_workshop/raw_data/Grafton_20221028/records/221028/channelA_2022-10-28_11-15-21.wav with timestamp 2022-10-28 11:15:21\n",
      "Found file /home/jovyan/work/shared/data/AXOLOTL_workshop/raw_data/Grafton_20221028/records/221028/channelA_2022-10-28_11-25-34.wav with timestamp 2022-10-28 11:25:34\n",
      "Found file /home/jovyan/work/shared/data/AXOLOTL_workshop/raw_data/Grafton_20221028/records/221028/channelA_2022-10-28_11-35-48.wav with timestamp 2022-10-28 11:35:48\n",
      "Found file /home/jovyan/work/shared/data/AXOLOTL_workshop/raw_data/Grafton_20221028/records/221028/channelA_2022-10-28_11-46-01.wav with timestamp 2022-10-28 11:46:01\n",
      "Found file /home/jovyan/work/shared/data/AXOLOTL_workshop/raw_data/Grafton_20221028/records/221028/channelA_2022-10-28_11-56-15.wav with timestamp 2022-10-28 11:56:15\n",
      "Found file /home/jovyan/work/shared/data/AXOLOTL_workshop/raw_data/Grafton_20221028/records/221028/channelA_2022-10-28_12-06-29.wav with timestamp 2022-10-28 12:06:29\n",
      "Found file /home/jovyan/work/shared/data/AXOLOTL_workshop/raw_data/Grafton_20221028/records/221028/channelA_2022-10-28_12-16-42.wav with timestamp 2022-10-28 12:16:42\n",
      "Found file /home/jovyan/work/shared/data/AXOLOTL_workshop/raw_data/Grafton_20221028/records/221028/channelA_2022-10-28_12-26-56.wav with timestamp 2022-10-28 12:26:56\n",
      "Found file /home/jovyan/work/shared/data/AXOLOTL_workshop/raw_data/Grafton_20221028/records/221028/channelA_2022-10-28_12-37-10.wav with timestamp 2022-10-28 12:37:10\n"
     ]
    },
    {
     "name": "stderr",
     "output_type": "stream",
     "text": [
      "Searching :   8% (75 of 846) |           | Elapsed Time: 0:00:00 ETA:   0:00:01"
     ]
    },
    {
     "name": "stdout",
     "output_type": "stream",
     "text": [
      "Found file /home/jovyan/work/shared/data/AXOLOTL_workshop/raw_data/Grafton_20221028/records/221028/channelA_2022-10-28_12-47-23.wav with timestamp 2022-10-28 12:47:23\n",
      "Found file /home/jovyan/work/shared/data/AXOLOTL_workshop/raw_data/Grafton_20221028/records/221028/channelA_2022-10-28_12-57-37.wav with timestamp 2022-10-28 12:57:37\n",
      "Found file /home/jovyan/work/shared/data/AXOLOTL_workshop/raw_data/Grafton_20221028/records/221028/channelA_2022-10-28_13-07-50.wav with timestamp 2022-10-28 13:07:50\n",
      "Found file /home/jovyan/work/shared/data/AXOLOTL_workshop/raw_data/Grafton_20221028/records/221028/channelA_2022-10-28_13-18-04.wav with timestamp 2022-10-28 13:18:04\n",
      "Found file /home/jovyan/work/shared/data/AXOLOTL_workshop/raw_data/Grafton_20221028/records/221028/channelA_2022-10-28_13-28-18.wav with timestamp 2022-10-28 13:28:18\n",
      "Found file /home/jovyan/work/shared/data/AXOLOTL_workshop/raw_data/Grafton_20221028/records/221028/channelA_2022-10-28_13-38-31.wav with timestamp 2022-10-28 13:38:31\n",
      "Found file /home/jovyan/work/shared/data/AXOLOTL_workshop/raw_data/Grafton_20221028/records/221028/channelA_2022-10-28_13-48-45.wav with timestamp 2022-10-28 13:48:45\n",
      "Found file /home/jovyan/work/shared/data/AXOLOTL_workshop/raw_data/Grafton_20221028/records/221028/channelA_2022-10-28_13-58-59.wav with timestamp 2022-10-28 13:58:59\n",
      "Found file /home/jovyan/work/shared/data/AXOLOTL_workshop/raw_data/Grafton_20221028/records/221028/channelA_2022-10-28_14-09-12.wav with timestamp 2022-10-28 14:09:12\n",
      "Found file /home/jovyan/work/shared/data/AXOLOTL_workshop/raw_data/Grafton_20221028/records/221028/channelA_2022-10-28_14-19-26.wav with timestamp 2022-10-28 14:19:26\n",
      "Found file /home/jovyan/work/shared/data/AXOLOTL_workshop/raw_data/Grafton_20221028/records/221028/channelA_2022-10-28_14-29-39.wav with timestamp 2022-10-28 14:29:39\n",
      "Found file /home/jovyan/work/shared/data/AXOLOTL_workshop/raw_data/Grafton_20221028/records/221028/channelA_2022-10-28_14-39-53.wav with timestamp 2022-10-28 14:39:53\n",
      "Found file /home/jovyan/work/shared/data/AXOLOTL_workshop/raw_data/Grafton_20221028/records/221028/channelA_2022-10-28_14-50-07.wav with timestamp 2022-10-28 14:50:07\n",
      "Found file /home/jovyan/work/shared/data/AXOLOTL_workshop/raw_data/Grafton_20221028/records/221028/channelA_2022-10-28_15-00-20.wav with timestamp 2022-10-28 15:00:20\n",
      "Found file /home/jovyan/work/shared/data/AXOLOTL_workshop/raw_data/Grafton_20221028/records/221028/channelA_2022-10-28_15-10-34.wav with timestamp 2022-10-28 15:10:34\n",
      "Found file /home/jovyan/work/shared/data/AXOLOTL_workshop/raw_data/Grafton_20221028/records/221028/channelA_2022-10-28_15-20-48.wav with timestamp 2022-10-28 15:20:48\n",
      "Found file /home/jovyan/work/shared/data/AXOLOTL_workshop/raw_data/Grafton_20221028/records/221028/channelA_2022-10-28_15-31-01.wav with timestamp 2022-10-28 15:31:01\n",
      "Found file /home/jovyan/work/shared/data/AXOLOTL_workshop/raw_data/Grafton_20221028/records/221028/channelA_2022-10-28_15-41-15.wav with timestamp 2022-10-28 15:41:15\n",
      "Found file /home/jovyan/work/shared/data/AXOLOTL_workshop/raw_data/Grafton_20221028/records/221028/channelA_2022-10-28_15-51-28.wav with timestamp 2022-10-28 15:51:28\n",
      "Found file /home/jovyan/work/shared/data/AXOLOTL_workshop/raw_data/Grafton_20221028/records/221028/channelA_2022-10-28_16-01-42.wav with timestamp 2022-10-28 16:01:42\n",
      "Found file /home/jovyan/work/shared/data/AXOLOTL_workshop/raw_data/Grafton_20221028/records/221028/channelA_2022-10-28_16-11-56.wav with timestamp 2022-10-28 16:11:56\n",
      "Found file /home/jovyan/work/shared/data/AXOLOTL_workshop/raw_data/Grafton_20221028/records/221028/channelA_2022-10-28_16-22-09.wav with timestamp 2022-10-28 16:22:09\n",
      "Found file /home/jovyan/work/shared/data/AXOLOTL_workshop/raw_data/Grafton_20221028/records/221028/channelA_2022-10-28_16-32-23.wav with timestamp 2022-10-28 16:32:23\n",
      "Found file /home/jovyan/work/shared/data/AXOLOTL_workshop/raw_data/Grafton_20221028/records/221028/channelA_2022-10-28_16-42-36.wav with timestamp 2022-10-28 16:42:36\n",
      "Found file /home/jovyan/work/shared/data/AXOLOTL_workshop/raw_data/Grafton_20221028/records/221028/channelA_2022-10-28_16-52-50.wav with timestamp 2022-10-28 16:52:50\n",
      "Found file /home/jovyan/work/shared/data/AXOLOTL_workshop/raw_data/Grafton_20221028/records/221028/channelA_2022-10-28_17-03-04.wav with timestamp 2022-10-28 17:03:04\n",
      "Found file /home/jovyan/work/shared/data/AXOLOTL_workshop/raw_data/Grafton_20221028/records/221028/channelA_2022-10-28_17-13-17.wav with timestamp 2022-10-28 17:13:17\n",
      "Found file /home/jovyan/work/shared/data/AXOLOTL_workshop/raw_data/Grafton_20221028/records/221028/channelA_2022-10-28_17-23-31.wav with timestamp 2022-10-28 17:23:31\n",
      "Found file /home/jovyan/work/shared/data/AXOLOTL_workshop/raw_data/Grafton_20221028/records/221028/channelA_2022-10-28_17-33-45.wav with timestamp 2022-10-28 17:33:45\n",
      "Found file /home/jovyan/work/shared/data/AXOLOTL_workshop/raw_data/Grafton_20221028/records/221028/channelA_2022-10-28_17-43-58.wav with timestamp 2022-10-28 17:43:58\n",
      "Found file /home/jovyan/work/shared/data/AXOLOTL_workshop/raw_data/Grafton_20221028/records/221028/channelA_2022-10-28_17-54-12.wav with timestamp 2022-10-28 17:54:12\n",
      "Found file /home/jovyan/work/shared/data/AXOLOTL_workshop/raw_data/Grafton_20221028/records/221028/channelA_2022-10-28_18-04-25.wav with timestamp 2022-10-28 18:04:25\n",
      "Found file /home/jovyan/work/shared/data/AXOLOTL_workshop/raw_data/Grafton_20221028/records/221028/channelA_2022-10-28_18-14-39.wav with timestamp 2022-10-28 18:14:39\n",
      "Found file /home/jovyan/work/shared/data/AXOLOTL_workshop/raw_data/Grafton_20221028/records/221028/channelA_2022-10-28_18-24-53.wav with timestamp 2022-10-28 18:24:53\n",
      "Found file /home/jovyan/work/shared/data/AXOLOTL_workshop/raw_data/Grafton_20221028/records/221028/channelA_2022-10-28_18-35-06.wav with timestamp 2022-10-28 18:35:06\n",
      "Found file /home/jovyan/work/shared/data/AXOLOTL_workshop/raw_data/Grafton_20221028/records/221028/channelA_2022-10-28_18-45-20.wav with timestamp 2022-10-28 18:45:20\n",
      "Found file /home/jovyan/work/shared/data/AXOLOTL_workshop/raw_data/Grafton_20221028/records/221028/channelA_2022-10-28_18-55-33.wav with timestamp 2022-10-28 18:55:33\n",
      "Found file /home/jovyan/work/shared/data/AXOLOTL_workshop/raw_data/Grafton_20221028/records/221028/channelA_2022-10-28_19-05-47.wav with timestamp 2022-10-28 19:05:47\n",
      "Found file /home/jovyan/work/shared/data/AXOLOTL_workshop/raw_data/Grafton_20221028/records/221028/channelA_2022-10-28_19-16-01.wav with timestamp 2022-10-28 19:16:01\n",
      "Found file /home/jovyan/work/shared/data/AXOLOTL_workshop/raw_data/Grafton_20221028/records/221028/channelA_2022-10-28_19-26-14.wav with timestamp 2022-10-28 19:26:14\n",
      "Found file /home/jovyan/work/shared/data/AXOLOTL_workshop/raw_data/Grafton_20221028/records/221028/channelA_2022-10-28_19-36-28.wav with timestamp 2022-10-28 19:36:28\n",
      "Found file /home/jovyan/work/shared/data/AXOLOTL_workshop/raw_data/Grafton_20221028/records/221028/channelA_2022-10-28_19-46-42.wav with timestamp 2022-10-28 19:46:42\n",
      "Found file /home/jovyan/work/shared/data/AXOLOTL_workshop/raw_data/Grafton_20221028/records/221028/channelA_2022-10-28_19-56-55.wav with timestamp 2022-10-28 19:56:55\n"
     ]
    },
    {
     "name": "stderr",
     "output_type": "stream",
     "text": [
      "Searching :  13% (118 of 846) |#         | Elapsed Time: 0:00:00 ETA:   0:00:01"
     ]
    },
    {
     "name": "stdout",
     "output_type": "stream",
     "text": [
      "Found file /home/jovyan/work/shared/data/AXOLOTL_workshop/raw_data/Grafton_20221028/records/221028/channelA_2022-10-28_20-07-09.wav with timestamp 2022-10-28 20:07:09\n",
      "Found file /home/jovyan/work/shared/data/AXOLOTL_workshop/raw_data/Grafton_20221028/records/221028/channelA_2022-10-28_20-17-22.wav with timestamp 2022-10-28 20:17:22\n",
      "Found file /home/jovyan/work/shared/data/AXOLOTL_workshop/raw_data/Grafton_20221028/records/221028/channelA_2022-10-28_20-27-36.wav with timestamp 2022-10-28 20:27:36\n",
      "Found file /home/jovyan/work/shared/data/AXOLOTL_workshop/raw_data/Grafton_20221028/records/221028/channelA_2022-10-28_20-37-50.wav with timestamp 2022-10-28 20:37:50\n",
      "Found file /home/jovyan/work/shared/data/AXOLOTL_workshop/raw_data/Grafton_20221028/records/221028/channelA_2022-10-28_20-48-03.wav with timestamp 2022-10-28 20:48:03\n",
      "Found file /home/jovyan/work/shared/data/AXOLOTL_workshop/raw_data/Grafton_20221028/records/221028/channelA_2022-10-28_20-58-17.wav with timestamp 2022-10-28 20:58:17\n",
      "Found file /home/jovyan/work/shared/data/AXOLOTL_workshop/raw_data/Grafton_20221028/records/221028/channelA_2022-10-28_21-08-31.wav with timestamp 2022-10-28 21:08:31\n",
      "Found file /home/jovyan/work/shared/data/AXOLOTL_workshop/raw_data/Grafton_20221028/records/221028/channelA_2022-10-28_21-18-44.wav with timestamp 2022-10-28 21:18:44\n",
      "Found file /home/jovyan/work/shared/data/AXOLOTL_workshop/raw_data/Grafton_20221028/records/221028/channelA_2022-10-28_21-28-58.wav with timestamp 2022-10-28 21:28:58\n",
      "Found file /home/jovyan/work/shared/data/AXOLOTL_workshop/raw_data/Grafton_20221028/records/221028/channelA_2022-10-28_21-39-11.wav with timestamp 2022-10-28 21:39:11\n",
      "Found file /home/jovyan/work/shared/data/AXOLOTL_workshop/raw_data/Grafton_20221028/records/221028/channelA_2022-10-28_21-49-25.wav with timestamp 2022-10-28 21:49:25\n",
      "Found file /home/jovyan/work/shared/data/AXOLOTL_workshop/raw_data/Grafton_20221028/records/221028/channelA_2022-10-28_21-59-39.wav with timestamp 2022-10-28 21:59:39\n",
      "Found file /home/jovyan/work/shared/data/AXOLOTL_workshop/raw_data/Grafton_20221028/records/221028/channelA_2022-10-28_22-09-52.wav with timestamp 2022-10-28 22:09:52\n",
      "Found file /home/jovyan/work/shared/data/AXOLOTL_workshop/raw_data/Grafton_20221028/records/221028/channelA_2022-10-28_22-20-06.wav with timestamp 2022-10-28 22:20:06\n",
      "Found file /home/jovyan/work/shared/data/AXOLOTL_workshop/raw_data/Grafton_20221028/records/221028/channelA_2022-10-28_22-30-19.wav with timestamp 2022-10-28 22:30:19\n",
      "Found file /home/jovyan/work/shared/data/AXOLOTL_workshop/raw_data/Grafton_20221028/records/221028/channelA_2022-10-28_22-40-33.wav with timestamp 2022-10-28 22:40:33\n",
      "Found file /home/jovyan/work/shared/data/AXOLOTL_workshop/raw_data/Grafton_20221028/records/221028/channelA_2022-10-28_22-50-47.wav with timestamp 2022-10-28 22:50:47\n",
      "Found file /home/jovyan/work/shared/data/AXOLOTL_workshop/raw_data/Grafton_20221028/records/221028/channelA_2022-10-28_23-01-00.wav with timestamp 2022-10-28 23:01:00\n",
      "Found file /home/jovyan/work/shared/data/AXOLOTL_workshop/raw_data/Grafton_20221028/records/221028/channelA_2022-10-28_23-11-14.wav with timestamp 2022-10-28 23:11:14\n",
      "Found file /home/jovyan/work/shared/data/AXOLOTL_workshop/raw_data/Grafton_20221028/records/221028/channelA_2022-10-28_23-21-28.wav with timestamp 2022-10-28 23:21:28\n",
      "Found file /home/jovyan/work/shared/data/AXOLOTL_workshop/raw_data/Grafton_20221028/records/221028/channelA_2022-10-28_23-31-41.wav with timestamp 2022-10-28 23:31:41\n",
      "Found file /home/jovyan/work/shared/data/AXOLOTL_workshop/raw_data/Grafton_20221028/records/221028/channelA_2022-10-28_23-41-55.wav with timestamp 2022-10-28 23:41:55\n",
      "Found file /home/jovyan/work/shared/data/AXOLOTL_workshop/raw_data/Grafton_20221028/records/221028/channelA_2022-10-28_23-52-08.wav with timestamp 2022-10-28 23:52:08\n"
     ]
    },
    {
     "name": "stderr",
     "output_type": "stream",
     "text": [
      "Searching : 100% (846 of 846) |##########| Elapsed Time: 0:00:00 Time:  0:00:00\n"
     ]
    },
    {
     "name": "stdout",
     "output_type": "stream",
     "text": [
      "Done correcting metadata for 2022-10-28 00:00:00. Saved to /home/jovyan/work/shared/data/AXOLOTL_workshop/raw_data/Grafton_20221028/metadata/json/2022/20221028.json\n",
      "ReseaMetadataGenerator 20221028 Searching in file:///home/jovyan/work/shared/data/AXOLOTL_workshop/raw_data/Grafton_20221028/records/*.wav for wav files that match the search patterns channelA_* ...\n",
      "ReseaMetadataGenerator 20221028 Searching in file:///home/jovyan/work/shared/data/AXOLOTL_workshop/raw_data/Grafton_20221028/records/*.wav for wav files that match the search patterns channelAC_* ...\n"
     ]
    },
    {
     "name": "stderr",
     "output_type": "stream",
     "text": [
      "Searching : N/A% (0 of 846) |            | Elapsed Time: 0:00:00 ETA:  --:--:--"
     ]
    },
    {
     "name": "stdout",
     "output_type": "stream",
     "text": [
      "Found file /home/jovyan/work/shared/data/AXOLOTL_workshop/raw_data/Grafton_20221028/records/221028/channelA_2022-10-28_23-01-00.wav with timestamp 2022-10-28 23:01:00\n",
      "Found file /home/jovyan/work/shared/data/AXOLOTL_workshop/raw_data/Grafton_20221028/records/221028/channelA_2022-10-28_23-11-14.wav with timestamp 2022-10-28 23:11:14\n",
      "Found file /home/jovyan/work/shared/data/AXOLOTL_workshop/raw_data/Grafton_20221028/records/221028/channelA_2022-10-28_23-21-28.wav with timestamp 2022-10-28 23:21:28\n",
      "Found file /home/jovyan/work/shared/data/AXOLOTL_workshop/raw_data/Grafton_20221028/records/221028/channelA_2022-10-28_23-31-41.wav with timestamp 2022-10-28 23:31:41\n",
      "Found file /home/jovyan/work/shared/data/AXOLOTL_workshop/raw_data/Grafton_20221028/records/221028/channelA_2022-10-28_23-41-55.wav with timestamp 2022-10-28 23:41:55\n",
      "Found file /home/jovyan/work/shared/data/AXOLOTL_workshop/raw_data/Grafton_20221028/records/221028/channelA_2022-10-28_23-52-08.wav with timestamp 2022-10-28 23:52:08\n"
     ]
    },
    {
     "name": "stderr",
     "output_type": "stream",
     "text": [
      "Searching : 100% (846 of 846) |##########| Elapsed Time: 0:00:00 Time:  0:00:00\n"
     ]
    },
    {
     "name": "stdout",
     "output_type": "stream",
     "text": [
      "Done correcting metadata for 2022-10-29 00:00:00. Saved to /home/jovyan/work/shared/data/AXOLOTL_workshop/raw_data/Grafton_20221028/metadata/json/2022/20221029.json\n",
      "ReseaMetadataGenerator 20221028 Searching in file:///home/jovyan/work/shared/data/AXOLOTL_workshop/raw_data/Grafton_20221028/records/*.wav for wav files that match the search patterns channelA_* ...\n",
      "ReseaMetadataGenerator 20221028 Searching in file:///home/jovyan/work/shared/data/AXOLOTL_workshop/raw_data/Grafton_20221028/records/*.wav for wav files that match the search patterns channelAC_* ...\n"
     ]
    },
    {
     "name": "stderr",
     "output_type": "stream",
     "text": [
      "Searching : N/A% (0 of 846) |            | Elapsed Time: 0:00:00 ETA:  --:--:--"
     ]
    },
    {
     "name": "stdout",
     "output_type": "stream",
     "text": [
      "Found file /home/jovyan/work/shared/data/AXOLOTL_workshop/raw_data/Grafton_20221028/records/221030/channelA_2022-10-30_00-00-19.wav with timestamp 2022-10-30 00:00:19\n",
      "Found file /home/jovyan/work/shared/data/AXOLOTL_workshop/raw_data/Grafton_20221028/records/221030/channelA_2022-10-30_00-10-34.wav with timestamp 2022-10-30 00:10:34\n",
      "Found file /home/jovyan/work/shared/data/AXOLOTL_workshop/raw_data/Grafton_20221028/records/221030/channelA_2022-10-30_00-20-48.wav with timestamp 2022-10-30 00:20:48\n",
      "Found file /home/jovyan/work/shared/data/AXOLOTL_workshop/raw_data/Grafton_20221028/records/221030/channelA_2022-10-30_00-31-02.wav with timestamp 2022-10-30 00:31:02\n",
      "Found file /home/jovyan/work/shared/data/AXOLOTL_workshop/raw_data/Grafton_20221028/records/221030/channelA_2022-10-30_00-41-15.wav with timestamp 2022-10-30 00:41:15\n",
      "Found file /home/jovyan/work/shared/data/AXOLOTL_workshop/raw_data/Grafton_20221028/records/221030/channelA_2022-10-30_00-51-29.wav with timestamp 2022-10-30 00:51:29\n",
      "Found file /home/jovyan/work/shared/data/AXOLOTL_workshop/raw_data/Grafton_20221028/records/221030/channelA_2022-10-30_01-01-43.wav with timestamp 2022-10-30 01:01:43\n",
      "Found file /home/jovyan/work/shared/data/AXOLOTL_workshop/raw_data/Grafton_20221028/records/221030/channelA_2022-10-30_01-11-56.wav with timestamp 2022-10-30 01:11:56\n",
      "Found file /home/jovyan/work/shared/data/AXOLOTL_workshop/raw_data/Grafton_20221028/records/221030/channelA_2022-10-30_01-22-10.wav with timestamp 2022-10-30 01:22:10\n",
      "Found file /home/jovyan/work/shared/data/AXOLOTL_workshop/raw_data/Grafton_20221028/records/221030/channelA_2022-10-30_01-32-23.wav with timestamp 2022-10-30 01:32:23\n",
      "Found file /home/jovyan/work/shared/data/AXOLOTL_workshop/raw_data/Grafton_20221028/records/221030/channelA_2022-10-30_01-42-37.wav with timestamp 2022-10-30 01:42:37\n",
      "Found file /home/jovyan/work/shared/data/AXOLOTL_workshop/raw_data/Grafton_20221028/records/221030/channelA_2022-10-30_01-52-51.wav with timestamp 2022-10-30 01:52:51\n",
      "Found file /home/jovyan/work/shared/data/AXOLOTL_workshop/raw_data/Grafton_20221028/records/221030/channelA_2022-10-30_02-03-04.wav with timestamp 2022-10-30 02:03:04\n",
      "Found file /home/jovyan/work/shared/data/AXOLOTL_workshop/raw_data/Grafton_20221028/records/221030/channelA_2022-10-30_02-13-18.wav with timestamp 2022-10-30 02:13:18\n",
      "Found file /home/jovyan/work/shared/data/AXOLOTL_workshop/raw_data/Grafton_20221028/records/221030/channelA_2022-10-30_02-23-31.wav with timestamp 2022-10-30 02:23:31\n",
      "Found file /home/jovyan/work/shared/data/AXOLOTL_workshop/raw_data/Grafton_20221028/records/221030/channelA_2022-10-30_02-33-45.wav with timestamp 2022-10-30 02:33:45\n",
      "Found file /home/jovyan/work/shared/data/AXOLOTL_workshop/raw_data/Grafton_20221028/records/221030/channelA_2022-10-30_02-43-59.wav with timestamp 2022-10-30 02:43:59\n",
      "Found file /home/jovyan/work/shared/data/AXOLOTL_workshop/raw_data/Grafton_20221028/records/221030/channelA_2022-10-30_02-54-12.wav with timestamp 2022-10-30 02:54:12\n",
      "Found file /home/jovyan/work/shared/data/AXOLOTL_workshop/raw_data/Grafton_20221028/records/221030/channelA_2022-10-30_03-04-26.wav with timestamp 2022-10-30 03:04:26\n",
      "Found file /home/jovyan/work/shared/data/AXOLOTL_workshop/raw_data/Grafton_20221028/records/221030/channelA_2022-10-30_03-14-40.wav with timestamp 2022-10-30 03:14:40\n",
      "Found file /home/jovyan/work/shared/data/AXOLOTL_workshop/raw_data/Grafton_20221028/records/221030/channelA_2022-10-30_03-24-53.wav with timestamp 2022-10-30 03:24:53\n",
      "Found file /home/jovyan/work/shared/data/AXOLOTL_workshop/raw_data/Grafton_20221028/records/221030/channelA_2022-10-30_03-35-07.wav with timestamp 2022-10-30 03:35:07\n",
      "Found file /home/jovyan/work/shared/data/AXOLOTL_workshop/raw_data/Grafton_20221028/records/221030/channelA_2022-10-30_03-45-20.wav with timestamp 2022-10-30 03:45:20\n",
      "Found file /home/jovyan/work/shared/data/AXOLOTL_workshop/raw_data/Grafton_20221028/records/221030/channelA_2022-10-30_03-55-34.wav with timestamp 2022-10-30 03:55:34\n",
      "Found file /home/jovyan/work/shared/data/AXOLOTL_workshop/raw_data/Grafton_20221028/records/221030/channelA_2022-10-30_04-05-48.wav with timestamp 2022-10-30 04:05:48\n",
      "Found file /home/jovyan/work/shared/data/AXOLOTL_workshop/raw_data/Grafton_20221028/records/221030/channelA_2022-10-30_04-16-01.wav with timestamp 2022-10-30 04:16:01\n",
      "Found file /home/jovyan/work/shared/data/AXOLOTL_workshop/raw_data/Grafton_20221028/records/221030/channelA_2022-10-30_04-26-15.wav with timestamp 2022-10-30 04:26:15\n",
      "Found file /home/jovyan/work/shared/data/AXOLOTL_workshop/raw_data/Grafton_20221028/records/221030/channelA_2022-10-30_04-36-29.wav with timestamp 2022-10-30 04:36:29\n",
      "Found file /home/jovyan/work/shared/data/AXOLOTL_workshop/raw_data/Grafton_20221028/records/221030/channelA_2022-10-30_04-46-42.wav with timestamp 2022-10-30 04:46:42\n",
      "Found file /home/jovyan/work/shared/data/AXOLOTL_workshop/raw_data/Grafton_20221028/records/221030/channelA_2022-10-30_04-56-56.wav with timestamp 2022-10-30 04:56:56\n",
      "Found file /home/jovyan/work/shared/data/AXOLOTL_workshop/raw_data/Grafton_20221028/records/221030/channelA_2022-10-30_05-07-09.wav with timestamp 2022-10-30 05:07:09\n"
     ]
    },
    {
     "name": "stderr",
     "output_type": "stream",
     "text": [
      "Searching :  20% (172 of 846) |##        | Elapsed Time: 0:00:00 ETA:  00:00:00"
     ]
    },
    {
     "name": "stdout",
     "output_type": "stream",
     "text": [
      "Found file /home/jovyan/work/shared/data/AXOLOTL_workshop/raw_data/Grafton_20221028/records/221030/channelA_2022-10-30_05-17-23.wav with timestamp 2022-10-30 05:17:23\n",
      "Found file /home/jovyan/work/shared/data/AXOLOTL_workshop/raw_data/Grafton_20221028/records/221030/channelA_2022-10-30_05-27-37.wav with timestamp 2022-10-30 05:27:37\n",
      "Found file /home/jovyan/work/shared/data/AXOLOTL_workshop/raw_data/Grafton_20221028/records/221030/channelA_2022-10-30_05-37-50.wav with timestamp 2022-10-30 05:37:50\n",
      "Found file /home/jovyan/work/shared/data/AXOLOTL_workshop/raw_data/Grafton_20221028/records/221030/channelA_2022-10-30_05-48-04.wav with timestamp 2022-10-30 05:48:04\n",
      "Found file /home/jovyan/work/shared/data/AXOLOTL_workshop/raw_data/Grafton_20221028/records/221030/channelA_2022-10-30_05-58-18.wav with timestamp 2022-10-30 05:58:18\n",
      "Found file /home/jovyan/work/shared/data/AXOLOTL_workshop/raw_data/Grafton_20221028/records/221030/channelA_2022-10-30_06-08-31.wav with timestamp 2022-10-30 06:08:31\n",
      "Found file /home/jovyan/work/shared/data/AXOLOTL_workshop/raw_data/Grafton_20221028/records/221030/channelA_2022-10-30_06-18-45.wav with timestamp 2022-10-30 06:18:45\n",
      "Found file /home/jovyan/work/shared/data/AXOLOTL_workshop/raw_data/Grafton_20221028/records/221030/channelA_2022-10-30_06-28-58.wav with timestamp 2022-10-30 06:28:58\n",
      "Found file /home/jovyan/work/shared/data/AXOLOTL_workshop/raw_data/Grafton_20221028/records/221030/channelA_2022-10-30_06-39-12.wav with timestamp 2022-10-30 06:39:12\n",
      "Found file /home/jovyan/work/shared/data/AXOLOTL_workshop/raw_data/Grafton_20221028/records/221030/channelA_2022-10-30_06-49-26.wav with timestamp 2022-10-30 06:49:26\n",
      "Found file /home/jovyan/work/shared/data/AXOLOTL_workshop/raw_data/Grafton_20221028/records/221030/channelA_2022-10-30_06-59-39.wav with timestamp 2022-10-30 06:59:39\n",
      "Found file /home/jovyan/work/shared/data/AXOLOTL_workshop/raw_data/Grafton_20221028/records/221030/channelA_2022-10-30_07-09-53.wav with timestamp 2022-10-30 07:09:53\n",
      "Found file /home/jovyan/work/shared/data/AXOLOTL_workshop/raw_data/Grafton_20221028/records/221030/channelA_2022-10-30_07-20-06.wav with timestamp 2022-10-30 07:20:06\n",
      "Found file /home/jovyan/work/shared/data/AXOLOTL_workshop/raw_data/Grafton_20221028/records/221030/channelA_2022-10-30_07-30-20.wav with timestamp 2022-10-30 07:30:20\n",
      "Found file /home/jovyan/work/shared/data/AXOLOTL_workshop/raw_data/Grafton_20221028/records/221030/channelA_2022-10-30_07-40-34.wav with timestamp 2022-10-30 07:40:34\n",
      "Found file /home/jovyan/work/shared/data/AXOLOTL_workshop/raw_data/Grafton_20221028/records/221030/channelA_2022-10-30_07-50-47.wav with timestamp 2022-10-30 07:50:47\n",
      "Found file /home/jovyan/work/shared/data/AXOLOTL_workshop/raw_data/Grafton_20221028/records/221030/channelA_2022-10-30_08-01-01.wav with timestamp 2022-10-30 08:01:01\n",
      "Found file /home/jovyan/work/shared/data/AXOLOTL_workshop/raw_data/Grafton_20221028/records/221030/channelA_2022-10-30_08-11-15.wav with timestamp 2022-10-30 08:11:15\n",
      "Found file /home/jovyan/work/shared/data/AXOLOTL_workshop/raw_data/Grafton_20221028/records/221030/channelA_2022-10-30_08-21-28.wav with timestamp 2022-10-30 08:21:28\n",
      "Found file /home/jovyan/work/shared/data/AXOLOTL_workshop/raw_data/Grafton_20221028/records/221030/channelA_2022-10-30_08-31-42.wav with timestamp 2022-10-30 08:31:42\n",
      "Found file /home/jovyan/work/shared/data/AXOLOTL_workshop/raw_data/Grafton_20221028/records/221030/channelA_2022-10-30_08-41-55.wav with timestamp 2022-10-30 08:41:55\n",
      "Found file /home/jovyan/work/shared/data/AXOLOTL_workshop/raw_data/Grafton_20221028/records/221030/channelA_2022-10-30_08-52-09.wav with timestamp 2022-10-30 08:52:09\n",
      "Found file /home/jovyan/work/shared/data/AXOLOTL_workshop/raw_data/Grafton_20221028/records/221030/channelA_2022-10-30_09-02-23.wav with timestamp 2022-10-30 09:02:23\n",
      "Found file /home/jovyan/work/shared/data/AXOLOTL_workshop/raw_data/Grafton_20221028/records/221030/channelA_2022-10-30_09-12-36.wav with timestamp 2022-10-30 09:12:36\n",
      "Found file /home/jovyan/work/shared/data/AXOLOTL_workshop/raw_data/Grafton_20221028/records/221030/channelA_2022-10-30_09-22-50.wav with timestamp 2022-10-30 09:22:50\n",
      "Found file /home/jovyan/work/shared/data/AXOLOTL_workshop/raw_data/Grafton_20221028/records/221030/channelA_2022-10-30_09-33-03.wav with timestamp 2022-10-30 09:33:03\n",
      "Found file /home/jovyan/work/shared/data/AXOLOTL_workshop/raw_data/Grafton_20221028/records/221030/channelA_2022-10-30_09-43-17.wav with timestamp 2022-10-30 09:43:17\n",
      "Found file /home/jovyan/work/shared/data/AXOLOTL_workshop/raw_data/Grafton_20221028/records/221030/channelA_2022-10-30_09-53-31.wav with timestamp 2022-10-30 09:53:31\n",
      "Found file /home/jovyan/work/shared/data/AXOLOTL_workshop/raw_data/Grafton_20221028/records/221030/channelA_2022-10-30_10-03-44.wav with timestamp 2022-10-30 10:03:44\n",
      "Found file /home/jovyan/work/shared/data/AXOLOTL_workshop/raw_data/Grafton_20221028/records/221030/channelA_2022-10-30_10-13-58.wav with timestamp 2022-10-30 10:13:58\n",
      "Found file /home/jovyan/work/shared/data/AXOLOTL_workshop/raw_data/Grafton_20221028/records/221030/channelA_2022-10-30_10-24-12.wav with timestamp 2022-10-30 10:24:12\n",
      "Found file /home/jovyan/work/shared/data/AXOLOTL_workshop/raw_data/Grafton_20221028/records/221030/channelA_2022-10-30_10-34-25.wav with timestamp 2022-10-30 10:34:25\n",
      "Found file /home/jovyan/work/shared/data/AXOLOTL_workshop/raw_data/Grafton_20221028/records/221030/channelA_2022-10-30_10-44-39.wav with timestamp 2022-10-30 10:44:39\n",
      "Found file /home/jovyan/work/shared/data/AXOLOTL_workshop/raw_data/Grafton_20221028/records/221030/channelA_2022-10-30_10-54-52.wav with timestamp 2022-10-30 10:54:52\n",
      "Found file /home/jovyan/work/shared/data/AXOLOTL_workshop/raw_data/Grafton_20221028/records/221030/channelA_2022-10-30_11-05-06.wav with timestamp 2022-10-30 11:05:06\n",
      "Found file /home/jovyan/work/shared/data/AXOLOTL_workshop/raw_data/Grafton_20221028/records/221030/channelA_2022-10-30_11-15-20.wav with timestamp 2022-10-30 11:15:20\n",
      "Found file /home/jovyan/work/shared/data/AXOLOTL_workshop/raw_data/Grafton_20221028/records/221030/channelA_2022-10-30_11-25-33.wav with timestamp 2022-10-30 11:25:33\n",
      "Found file /home/jovyan/work/shared/data/AXOLOTL_workshop/raw_data/Grafton_20221028/records/221030/channelA_2022-10-30_11-35-47.wav with timestamp 2022-10-30 11:35:47\n",
      "Found file /home/jovyan/work/shared/data/AXOLOTL_workshop/raw_data/Grafton_20221028/records/221030/channelA_2022-10-30_11-46-01.wav with timestamp 2022-10-30 11:46:01\n",
      "Found file /home/jovyan/work/shared/data/AXOLOTL_workshop/raw_data/Grafton_20221028/records/221030/channelA_2022-10-30_11-56-14.wav with timestamp 2022-10-30 11:56:14\n",
      "Found file /home/jovyan/work/shared/data/AXOLOTL_workshop/raw_data/Grafton_20221028/records/221030/channelA_2022-10-30_12-06-28.wav with timestamp 2022-10-30 12:06:28\n",
      "Found file /home/jovyan/work/shared/data/AXOLOTL_workshop/raw_data/Grafton_20221028/records/221030/channelA_2022-10-30_12-16-41.wav with timestamp 2022-10-30 12:16:41\n",
      "Found file /home/jovyan/work/shared/data/AXOLOTL_workshop/raw_data/Grafton_20221028/records/221030/channelA_2022-10-30_12-26-55.wav with timestamp 2022-10-30 12:26:55\n"
     ]
    },
    {
     "name": "stderr",
     "output_type": "stream",
     "text": [
      "Searching :  25% (215 of 846) |##        | Elapsed Time: 0:00:00 ETA:   0:00:00"
     ]
    },
    {
     "name": "stdout",
     "output_type": "stream",
     "text": [
      "Found file /home/jovyan/work/shared/data/AXOLOTL_workshop/raw_data/Grafton_20221028/records/221030/channelA_2022-10-30_12-37-09.wav with timestamp 2022-10-30 12:37:09\n",
      "Found file /home/jovyan/work/shared/data/AXOLOTL_workshop/raw_data/Grafton_20221028/records/221030/channelA_2022-10-30_12-47-22.wav with timestamp 2022-10-30 12:47:22\n",
      "Found file /home/jovyan/work/shared/data/AXOLOTL_workshop/raw_data/Grafton_20221028/records/221030/channelA_2022-10-30_12-57-36.wav with timestamp 2022-10-30 12:57:36\n",
      "Found file /home/jovyan/work/shared/data/AXOLOTL_workshop/raw_data/Grafton_20221028/records/221030/channelA_2022-10-30_13-07-49.wav with timestamp 2022-10-30 13:07:49\n",
      "Found file /home/jovyan/work/shared/data/AXOLOTL_workshop/raw_data/Grafton_20221028/records/221030/channelA_2022-10-30_13-18-03.wav with timestamp 2022-10-30 13:18:03\n",
      "Found file /home/jovyan/work/shared/data/AXOLOTL_workshop/raw_data/Grafton_20221028/records/221030/channelA_2022-10-30_13-28-17.wav with timestamp 2022-10-30 13:28:17\n",
      "Found file /home/jovyan/work/shared/data/AXOLOTL_workshop/raw_data/Grafton_20221028/records/221030/channelA_2022-10-30_13-38-30.wav with timestamp 2022-10-30 13:38:30\n",
      "Found file /home/jovyan/work/shared/data/AXOLOTL_workshop/raw_data/Grafton_20221028/records/221030/channelA_2022-10-30_13-48-44.wav with timestamp 2022-10-30 13:48:44\n",
      "Found file /home/jovyan/work/shared/data/AXOLOTL_workshop/raw_data/Grafton_20221028/records/221030/channelA_2022-10-30_13-58-58.wav with timestamp 2022-10-30 13:58:58\n",
      "Found file /home/jovyan/work/shared/data/AXOLOTL_workshop/raw_data/Grafton_20221028/records/221030/channelA_2022-10-30_14-09-11.wav with timestamp 2022-10-30 14:09:11\n",
      "Found file /home/jovyan/work/shared/data/AXOLOTL_workshop/raw_data/Grafton_20221028/records/221030/channelA_2022-10-30_14-19-25.wav with timestamp 2022-10-30 14:19:25\n",
      "Found file /home/jovyan/work/shared/data/AXOLOTL_workshop/raw_data/Grafton_20221028/records/221030/channelA_2022-10-30_14-29-38.wav with timestamp 2022-10-30 14:29:38\n",
      "Found file /home/jovyan/work/shared/data/AXOLOTL_workshop/raw_data/Grafton_20221028/records/221030/channelA_2022-10-30_14-39-52.wav with timestamp 2022-10-30 14:39:52\n",
      "Found file /home/jovyan/work/shared/data/AXOLOTL_workshop/raw_data/Grafton_20221028/records/221030/channelA_2022-10-30_14-50-06.wav with timestamp 2022-10-30 14:50:06\n",
      "Found file /home/jovyan/work/shared/data/AXOLOTL_workshop/raw_data/Grafton_20221028/records/221030/channelA_2022-10-30_15-00-19.wav with timestamp 2022-10-30 15:00:19\n",
      "Found file /home/jovyan/work/shared/data/AXOLOTL_workshop/raw_data/Grafton_20221028/records/221030/channelA_2022-10-30_15-10-33.wav with timestamp 2022-10-30 15:10:33\n",
      "Found file /home/jovyan/work/shared/data/AXOLOTL_workshop/raw_data/Grafton_20221028/records/221030/channelA_2022-10-30_15-20-47.wav with timestamp 2022-10-30 15:20:47\n",
      "Found file /home/jovyan/work/shared/data/AXOLOTL_workshop/raw_data/Grafton_20221028/records/221030/channelA_2022-10-30_15-31-00.wav with timestamp 2022-10-30 15:31:00\n",
      "Found file /home/jovyan/work/shared/data/AXOLOTL_workshop/raw_data/Grafton_20221028/records/221030/channelA_2022-10-30_15-41-14.wav with timestamp 2022-10-30 15:41:14\n",
      "Found file /home/jovyan/work/shared/data/AXOLOTL_workshop/raw_data/Grafton_20221028/records/221030/channelA_2022-10-30_15-51-27.wav with timestamp 2022-10-30 15:51:27\n",
      "Found file /home/jovyan/work/shared/data/AXOLOTL_workshop/raw_data/Grafton_20221028/records/221030/channelA_2022-10-30_16-01-41.wav with timestamp 2022-10-30 16:01:41\n",
      "Found file /home/jovyan/work/shared/data/AXOLOTL_workshop/raw_data/Grafton_20221028/records/221030/channelA_2022-10-30_16-11-55.wav with timestamp 2022-10-30 16:11:55\n",
      "Found file /home/jovyan/work/shared/data/AXOLOTL_workshop/raw_data/Grafton_20221028/records/221030/channelA_2022-10-30_16-22-08.wav with timestamp 2022-10-30 16:22:08\n",
      "Found file /home/jovyan/work/shared/data/AXOLOTL_workshop/raw_data/Grafton_20221028/records/221030/channelA_2022-10-30_16-32-22.wav with timestamp 2022-10-30 16:32:22\n",
      "Found file /home/jovyan/work/shared/data/AXOLOTL_workshop/raw_data/Grafton_20221028/records/221030/channelA_2022-10-30_16-42-35.wav with timestamp 2022-10-30 16:42:35\n",
      "Found file /home/jovyan/work/shared/data/AXOLOTL_workshop/raw_data/Grafton_20221028/records/221030/channelA_2022-10-30_16-52-49.wav with timestamp 2022-10-30 16:52:49\n",
      "Found file /home/jovyan/work/shared/data/AXOLOTL_workshop/raw_data/Grafton_20221028/records/221030/channelA_2022-10-30_17-03-03.wav with timestamp 2022-10-30 17:03:03\n",
      "Found file /home/jovyan/work/shared/data/AXOLOTL_workshop/raw_data/Grafton_20221028/records/221030/channelA_2022-10-30_17-13-16.wav with timestamp 2022-10-30 17:13:16\n",
      "Found file /home/jovyan/work/shared/data/AXOLOTL_workshop/raw_data/Grafton_20221028/records/221030/channelA_2022-10-30_17-23-30.wav with timestamp 2022-10-30 17:23:30\n",
      "Found file /home/jovyan/work/shared/data/AXOLOTL_workshop/raw_data/Grafton_20221028/records/221030/channelA_2022-10-30_17-33-44.wav with timestamp 2022-10-30 17:33:44\n",
      "Found file /home/jovyan/work/shared/data/AXOLOTL_workshop/raw_data/Grafton_20221028/records/221030/channelA_2022-10-30_17-43-57.wav with timestamp 2022-10-30 17:43:57\n",
      "Found file /home/jovyan/work/shared/data/AXOLOTL_workshop/raw_data/Grafton_20221028/records/221030/channelA_2022-10-30_17-54-11.wav with timestamp 2022-10-30 17:54:11\n",
      "Found file /home/jovyan/work/shared/data/AXOLOTL_workshop/raw_data/Grafton_20221028/records/221030/channelA_2022-10-30_18-04-24.wav with timestamp 2022-10-30 18:04:24\n",
      "Found file /home/jovyan/work/shared/data/AXOLOTL_workshop/raw_data/Grafton_20221028/records/221030/channelA_2022-10-30_18-14-38.wav with timestamp 2022-10-30 18:14:38\n",
      "Found file /home/jovyan/work/shared/data/AXOLOTL_workshop/raw_data/Grafton_20221028/records/221030/channelA_2022-10-30_18-24-52.wav with timestamp 2022-10-30 18:24:52\n",
      "Found file /home/jovyan/work/shared/data/AXOLOTL_workshop/raw_data/Grafton_20221028/records/221030/channelA_2022-10-30_18-35-05.wav with timestamp 2022-10-30 18:35:05\n",
      "Found file /home/jovyan/work/shared/data/AXOLOTL_workshop/raw_data/Grafton_20221028/records/221030/channelA_2022-10-30_18-45-19.wav with timestamp 2022-10-30 18:45:19\n",
      "Found file /home/jovyan/work/shared/data/AXOLOTL_workshop/raw_data/Grafton_20221028/records/221030/channelA_2022-10-30_18-55-33.wav with timestamp 2022-10-30 18:55:33\n",
      "Found file /home/jovyan/work/shared/data/AXOLOTL_workshop/raw_data/Grafton_20221028/records/221030/channelA_2022-10-30_19-05-46.wav with timestamp 2022-10-30 19:05:46\n",
      "Found file /home/jovyan/work/shared/data/AXOLOTL_workshop/raw_data/Grafton_20221028/records/221030/channelA_2022-10-30_19-16-00.wav with timestamp 2022-10-30 19:16:00\n",
      "Found file /home/jovyan/work/shared/data/AXOLOTL_workshop/raw_data/Grafton_20221028/records/221030/channelA_2022-10-30_19-26-13.wav with timestamp 2022-10-30 19:26:13\n",
      "Found file /home/jovyan/work/shared/data/AXOLOTL_workshop/raw_data/Grafton_20221028/records/221030/channelA_2022-10-30_19-36-27.wav with timestamp 2022-10-30 19:36:27\n",
      "Found file /home/jovyan/work/shared/data/AXOLOTL_workshop/raw_data/Grafton_20221028/records/221030/channelA_2022-10-30_19-46-41.wav with timestamp 2022-10-30 19:46:41\n"
     ]
    },
    {
     "name": "stderr",
     "output_type": "stream",
     "text": [
      "Searching :  30% (258 of 846) |###       | Elapsed Time: 0:00:00 ETA:   0:00:00"
     ]
    },
    {
     "name": "stdout",
     "output_type": "stream",
     "text": [
      "Found file /home/jovyan/work/shared/data/AXOLOTL_workshop/raw_data/Grafton_20221028/records/221030/channelA_2022-10-30_19-56-54.wav with timestamp 2022-10-30 19:56:54\n",
      "Found file /home/jovyan/work/shared/data/AXOLOTL_workshop/raw_data/Grafton_20221028/records/221030/channelA_2022-10-30_20-07-08.wav with timestamp 2022-10-30 20:07:08\n",
      "Found file /home/jovyan/work/shared/data/AXOLOTL_workshop/raw_data/Grafton_20221028/records/221030/channelA_2022-10-30_20-17-21.wav with timestamp 2022-10-30 20:17:21\n",
      "Found file /home/jovyan/work/shared/data/AXOLOTL_workshop/raw_data/Grafton_20221028/records/221030/channelA_2022-10-30_20-27-35.wav with timestamp 2022-10-30 20:27:35\n",
      "Found file /home/jovyan/work/shared/data/AXOLOTL_workshop/raw_data/Grafton_20221028/records/221030/channelA_2022-10-30_20-37-49.wav with timestamp 2022-10-30 20:37:49\n",
      "Found file /home/jovyan/work/shared/data/AXOLOTL_workshop/raw_data/Grafton_20221028/records/221030/channelA_2022-10-30_20-48-02.wav with timestamp 2022-10-30 20:48:02\n",
      "Found file /home/jovyan/work/shared/data/AXOLOTL_workshop/raw_data/Grafton_20221028/records/221030/channelA_2022-10-30_20-58-16.wav with timestamp 2022-10-30 20:58:16\n",
      "Found file /home/jovyan/work/shared/data/AXOLOTL_workshop/raw_data/Grafton_20221028/records/221030/channelA_2022-10-30_21-08-30.wav with timestamp 2022-10-30 21:08:30\n",
      "Found file /home/jovyan/work/shared/data/AXOLOTL_workshop/raw_data/Grafton_20221028/records/221030/channelA_2022-10-30_21-18-43.wav with timestamp 2022-10-30 21:18:43\n",
      "Found file /home/jovyan/work/shared/data/AXOLOTL_workshop/raw_data/Grafton_20221028/records/221030/channelA_2022-10-30_21-28-57.wav with timestamp 2022-10-30 21:28:57\n",
      "Found file /home/jovyan/work/shared/data/AXOLOTL_workshop/raw_data/Grafton_20221028/records/221030/channelA_2022-10-30_21-39-10.wav with timestamp 2022-10-30 21:39:10\n",
      "Found file /home/jovyan/work/shared/data/AXOLOTL_workshop/raw_data/Grafton_20221028/records/221030/channelA_2022-10-30_21-49-24.wav with timestamp 2022-10-30 21:49:24\n",
      "Found file /home/jovyan/work/shared/data/AXOLOTL_workshop/raw_data/Grafton_20221028/records/221030/channelA_2022-10-30_21-59-38.wav with timestamp 2022-10-30 21:59:38\n",
      "Found file /home/jovyan/work/shared/data/AXOLOTL_workshop/raw_data/Grafton_20221028/records/221030/channelA_2022-10-30_22-09-51.wav with timestamp 2022-10-30 22:09:51\n",
      "Found file /home/jovyan/work/shared/data/AXOLOTL_workshop/raw_data/Grafton_20221028/records/221030/channelA_2022-10-30_22-20-05.wav with timestamp 2022-10-30 22:20:05\n",
      "Found file /home/jovyan/work/shared/data/AXOLOTL_workshop/raw_data/Grafton_20221028/records/221030/channelA_2022-10-30_22-30-18.wav with timestamp 2022-10-30 22:30:18\n",
      "Found file /home/jovyan/work/shared/data/AXOLOTL_workshop/raw_data/Grafton_20221028/records/221030/channelA_2022-10-30_22-40-32.wav with timestamp 2022-10-30 22:40:32\n",
      "Found file /home/jovyan/work/shared/data/AXOLOTL_workshop/raw_data/Grafton_20221028/records/221030/channelA_2022-10-30_22-50-46.wav with timestamp 2022-10-30 22:50:46\n",
      "Found file /home/jovyan/work/shared/data/AXOLOTL_workshop/raw_data/Grafton_20221028/records/221030/channelA_2022-10-30_23-00-59.wav with timestamp 2022-10-30 23:00:59\n",
      "Found file /home/jovyan/work/shared/data/AXOLOTL_workshop/raw_data/Grafton_20221028/records/221030/channelA_2022-10-30_23-11-13.wav with timestamp 2022-10-30 23:11:13\n",
      "Found file /home/jovyan/work/shared/data/AXOLOTL_workshop/raw_data/Grafton_20221028/records/221030/channelA_2022-10-30_23-21-27.wav with timestamp 2022-10-30 23:21:27\n",
      "Found file /home/jovyan/work/shared/data/AXOLOTL_workshop/raw_data/Grafton_20221028/records/221030/channelA_2022-10-30_23-31-40.wav with timestamp 2022-10-30 23:31:40\n",
      "Found file /home/jovyan/work/shared/data/AXOLOTL_workshop/raw_data/Grafton_20221028/records/221030/channelA_2022-10-30_23-41-54.wav with timestamp 2022-10-30 23:41:54\n",
      "Found file /home/jovyan/work/shared/data/AXOLOTL_workshop/raw_data/Grafton_20221028/records/221030/channelA_2022-10-30_23-52-07.wav with timestamp 2022-10-30 23:52:07\n"
     ]
    },
    {
     "name": "stderr",
     "output_type": "stream",
     "text": [
      "Searching : 100% (846 of 846) |##########| Elapsed Time: 0:00:00 Time:  0:00:00\n"
     ]
    },
    {
     "name": "stdout",
     "output_type": "stream",
     "text": [
      "Done correcting metadata for 2022-10-30 00:00:00. Saved to /home/jovyan/work/shared/data/AXOLOTL_workshop/raw_data/Grafton_20221028/metadata/json/2022/20221030.json\n",
      "ReseaMetadataGenerator 20221028 Searching in file:///home/jovyan/work/shared/data/AXOLOTL_workshop/raw_data/Grafton_20221028/records/*.wav for wav files that match the search patterns channelA_* ...\n",
      "ReseaMetadataGenerator 20221028 Searching in file:///home/jovyan/work/shared/data/AXOLOTL_workshop/raw_data/Grafton_20221028/records/*.wav for wav files that match the search patterns channelAC_* ...\n"
     ]
    },
    {
     "name": "stderr",
     "output_type": "stream",
     "text": [
      "Searching : N/A% (0 of 846) |            | Elapsed Time: 0:00:00 ETA:  --:--:--"
     ]
    },
    {
     "name": "stdout",
     "output_type": "stream",
     "text": [
      "Found file /home/jovyan/work/shared/data/AXOLOTL_workshop/raw_data/Grafton_20221028/records/221030/channelA_2022-10-30_23-00-59.wav with timestamp 2022-10-30 23:00:59\n",
      "Found file /home/jovyan/work/shared/data/AXOLOTL_workshop/raw_data/Grafton_20221028/records/221030/channelA_2022-10-30_23-11-13.wav with timestamp 2022-10-30 23:11:13\n",
      "Found file /home/jovyan/work/shared/data/AXOLOTL_workshop/raw_data/Grafton_20221028/records/221030/channelA_2022-10-30_23-21-27.wav with timestamp 2022-10-30 23:21:27\n",
      "Found file /home/jovyan/work/shared/data/AXOLOTL_workshop/raw_data/Grafton_20221028/records/221030/channelA_2022-10-30_23-31-40.wav with timestamp 2022-10-30 23:31:40\n",
      "Found file /home/jovyan/work/shared/data/AXOLOTL_workshop/raw_data/Grafton_20221028/records/221030/channelA_2022-10-30_23-41-54.wav with timestamp 2022-10-30 23:41:54\n",
      "Found file /home/jovyan/work/shared/data/AXOLOTL_workshop/raw_data/Grafton_20221028/records/221030/channelA_2022-10-30_23-52-07.wav with timestamp 2022-10-30 23:52:07\n"
     ]
    },
    {
     "name": "stderr",
     "output_type": "stream",
     "text": [
      "Searching : 100% (846 of 846) |##########| Elapsed Time: 0:00:00 Time:  0:00:00\n"
     ]
    },
    {
     "name": "stdout",
     "output_type": "stream",
     "text": [
      "Done correcting metadata for 2022-10-31 00:00:00. Saved to /home/jovyan/work/shared/data/AXOLOTL_workshop/raw_data/Grafton_20221028/metadata/json/2022/20221031.json\n",
      "ReseaMetadataGenerator 20221028 Searching in file:///home/jovyan/work/shared/data/AXOLOTL_workshop/raw_data/Grafton_20221028/records/*.wav for wav files that match the search patterns channelA_* ...\n",
      "ReseaMetadataGenerator 20221028 Searching in file:///home/jovyan/work/shared/data/AXOLOTL_workshop/raw_data/Grafton_20221028/records/*.wav for wav files that match the search patterns channelAC_* ...\n"
     ]
    },
    {
     "name": "stderr",
     "output_type": "stream",
     "text": [
      "Searching : N/A% (0 of 846) |            | Elapsed Time: 0:00:00 ETA:  --:--:--"
     ]
    },
    {
     "name": "stdout",
     "output_type": "stream",
     "text": [
      "Found file /home/jovyan/work/shared/data/AXOLOTL_workshop/raw_data/Grafton_20221028/records/221101/channelA_2022-11-01_00-00-19.wav with timestamp 2022-11-01 00:00:19\n",
      "Found file /home/jovyan/work/shared/data/AXOLOTL_workshop/raw_data/Grafton_20221028/records/221101/channelA_2022-11-01_00-10-34.wav with timestamp 2022-11-01 00:10:34\n",
      "Found file /home/jovyan/work/shared/data/AXOLOTL_workshop/raw_data/Grafton_20221028/records/221101/channelA_2022-11-01_00-20-48.wav with timestamp 2022-11-01 00:20:48\n",
      "Found file /home/jovyan/work/shared/data/AXOLOTL_workshop/raw_data/Grafton_20221028/records/221101/channelA_2022-11-01_00-31-02.wav with timestamp 2022-11-01 00:31:02\n",
      "Found file /home/jovyan/work/shared/data/AXOLOTL_workshop/raw_data/Grafton_20221028/records/221101/channelA_2022-11-01_00-41-15.wav with timestamp 2022-11-01 00:41:15\n",
      "Found file /home/jovyan/work/shared/data/AXOLOTL_workshop/raw_data/Grafton_20221028/records/221101/channelA_2022-11-01_00-51-29.wav with timestamp 2022-11-01 00:51:29\n",
      "Found file /home/jovyan/work/shared/data/AXOLOTL_workshop/raw_data/Grafton_20221028/records/221101/channelA_2022-11-01_01-01-43.wav with timestamp 2022-11-01 01:01:43\n",
      "Found file /home/jovyan/work/shared/data/AXOLOTL_workshop/raw_data/Grafton_20221028/records/221101/channelA_2022-11-01_01-11-56.wav with timestamp 2022-11-01 01:11:56\n",
      "Found file /home/jovyan/work/shared/data/AXOLOTL_workshop/raw_data/Grafton_20221028/records/221101/channelA_2022-11-01_01-22-10.wav with timestamp 2022-11-01 01:22:10\n",
      "Found file /home/jovyan/work/shared/data/AXOLOTL_workshop/raw_data/Grafton_20221028/records/221101/channelA_2022-11-01_01-32-23.wav with timestamp 2022-11-01 01:32:23\n",
      "Found file /home/jovyan/work/shared/data/AXOLOTL_workshop/raw_data/Grafton_20221028/records/221101/channelA_2022-11-01_01-42-37.wav with timestamp 2022-11-01 01:42:37\n",
      "Found file /home/jovyan/work/shared/data/AXOLOTL_workshop/raw_data/Grafton_20221028/records/221101/channelA_2022-11-01_01-52-51.wav with timestamp 2022-11-01 01:52:51\n",
      "Found file /home/jovyan/work/shared/data/AXOLOTL_workshop/raw_data/Grafton_20221028/records/221101/channelA_2022-11-01_02-03-04.wav with timestamp 2022-11-01 02:03:04\n",
      "Found file /home/jovyan/work/shared/data/AXOLOTL_workshop/raw_data/Grafton_20221028/records/221101/channelA_2022-11-01_02-13-18.wav with timestamp 2022-11-01 02:13:18\n",
      "Found file /home/jovyan/work/shared/data/AXOLOTL_workshop/raw_data/Grafton_20221028/records/221101/channelA_2022-11-01_02-23-32.wav with timestamp 2022-11-01 02:23:32\n",
      "Found file /home/jovyan/work/shared/data/AXOLOTL_workshop/raw_data/Grafton_20221028/records/221101/channelA_2022-11-01_02-33-45.wav with timestamp 2022-11-01 02:33:45\n",
      "Found file /home/jovyan/work/shared/data/AXOLOTL_workshop/raw_data/Grafton_20221028/records/221101/channelA_2022-11-01_02-43-59.wav with timestamp 2022-11-01 02:43:59\n",
      "Found file /home/jovyan/work/shared/data/AXOLOTL_workshop/raw_data/Grafton_20221028/records/221101/channelA_2022-11-01_02-54-12.wav with timestamp 2022-11-01 02:54:12\n",
      "Found file /home/jovyan/work/shared/data/AXOLOTL_workshop/raw_data/Grafton_20221028/records/221101/channelA_2022-11-01_03-04-26.wav with timestamp 2022-11-01 03:04:26\n",
      "Found file /home/jovyan/work/shared/data/AXOLOTL_workshop/raw_data/Grafton_20221028/records/221101/channelA_2022-11-01_03-14-40.wav with timestamp 2022-11-01 03:14:40\n",
      "Found file /home/jovyan/work/shared/data/AXOLOTL_workshop/raw_data/Grafton_20221028/records/221101/channelA_2022-11-01_03-24-53.wav with timestamp 2022-11-01 03:24:53\n",
      "Found file /home/jovyan/work/shared/data/AXOLOTL_workshop/raw_data/Grafton_20221028/records/221101/channelA_2022-11-01_03-35-07.wav with timestamp 2022-11-01 03:35:07\n",
      "Found file /home/jovyan/work/shared/data/AXOLOTL_workshop/raw_data/Grafton_20221028/records/221101/channelA_2022-11-01_03-45-21.wav with timestamp 2022-11-01 03:45:21\n",
      "Found file /home/jovyan/work/shared/data/AXOLOTL_workshop/raw_data/Grafton_20221028/records/221101/channelA_2022-11-01_03-55-34.wav with timestamp 2022-11-01 03:55:34\n",
      "Found file /home/jovyan/work/shared/data/AXOLOTL_workshop/raw_data/Grafton_20221028/records/221101/channelA_2022-11-01_04-05-48.wav with timestamp 2022-11-01 04:05:48\n",
      "Found file /home/jovyan/work/shared/data/AXOLOTL_workshop/raw_data/Grafton_20221028/records/221101/channelA_2022-11-01_04-16-01.wav with timestamp 2022-11-01 04:16:01\n",
      "Found file /home/jovyan/work/shared/data/AXOLOTL_workshop/raw_data/Grafton_20221028/records/221101/channelA_2022-11-01_04-26-15.wav with timestamp 2022-11-01 04:26:15\n",
      "Found file /home/jovyan/work/shared/data/AXOLOTL_workshop/raw_data/Grafton_20221028/records/221101/channelA_2022-11-01_04-36-29.wav with timestamp 2022-11-01 04:36:29\n",
      "Found file /home/jovyan/work/shared/data/AXOLOTL_workshop/raw_data/Grafton_20221028/records/221101/channelA_2022-11-01_04-46-42.wav with timestamp 2022-11-01 04:46:42\n"
     ]
    },
    {
     "name": "stderr",
     "output_type": "stream",
     "text": [
      "Searching :  36% (311 of 846) |###       | Elapsed Time: 0:00:00 ETA:  00:00:00"
     ]
    },
    {
     "name": "stdout",
     "output_type": "stream",
     "text": [
      "Found file /home/jovyan/work/shared/data/AXOLOTL_workshop/raw_data/Grafton_20221028/records/221101/channelA_2022-11-01_04-56-56.wav with timestamp 2022-11-01 04:56:56\n",
      "Found file /home/jovyan/work/shared/data/AXOLOTL_workshop/raw_data/Grafton_20221028/records/221101/channelA_2022-11-01_05-07-09.wav with timestamp 2022-11-01 05:07:09\n",
      "Found file /home/jovyan/work/shared/data/AXOLOTL_workshop/raw_data/Grafton_20221028/records/221101/channelA_2022-11-01_05-17-23.wav with timestamp 2022-11-01 05:17:23\n",
      "Found file /home/jovyan/work/shared/data/AXOLOTL_workshop/raw_data/Grafton_20221028/records/221101/channelA_2022-11-01_05-27-37.wav with timestamp 2022-11-01 05:27:37\n",
      "Found file /home/jovyan/work/shared/data/AXOLOTL_workshop/raw_data/Grafton_20221028/records/221101/channelA_2022-11-01_05-37-50.wav with timestamp 2022-11-01 05:37:50\n",
      "Found file /home/jovyan/work/shared/data/AXOLOTL_workshop/raw_data/Grafton_20221028/records/221101/channelA_2022-11-01_05-48-04.wav with timestamp 2022-11-01 05:48:04\n",
      "Found file /home/jovyan/work/shared/data/AXOLOTL_workshop/raw_data/Grafton_20221028/records/221101/channelA_2022-11-01_05-58-18.wav with timestamp 2022-11-01 05:58:18\n",
      "Found file /home/jovyan/work/shared/data/AXOLOTL_workshop/raw_data/Grafton_20221028/records/221101/channelA_2022-11-01_06-08-31.wav with timestamp 2022-11-01 06:08:31\n",
      "Found file /home/jovyan/work/shared/data/AXOLOTL_workshop/raw_data/Grafton_20221028/records/221101/channelA_2022-11-01_06-18-45.wav with timestamp 2022-11-01 06:18:45\n",
      "Found file /home/jovyan/work/shared/data/AXOLOTL_workshop/raw_data/Grafton_20221028/records/221101/channelA_2022-11-01_06-28-58.wav with timestamp 2022-11-01 06:28:58\n",
      "Found file /home/jovyan/work/shared/data/AXOLOTL_workshop/raw_data/Grafton_20221028/records/221101/channelA_2022-11-01_06-39-12.wav with timestamp 2022-11-01 06:39:12\n",
      "Found file /home/jovyan/work/shared/data/AXOLOTL_workshop/raw_data/Grafton_20221028/records/221101/channelA_2022-11-01_06-49-26.wav with timestamp 2022-11-01 06:49:26\n",
      "Found file /home/jovyan/work/shared/data/AXOLOTL_workshop/raw_data/Grafton_20221028/records/221101/channelA_2022-11-01_06-59-39.wav with timestamp 2022-11-01 06:59:39\n",
      "Found file /home/jovyan/work/shared/data/AXOLOTL_workshop/raw_data/Grafton_20221028/records/221101/channelA_2022-11-01_07-09-53.wav with timestamp 2022-11-01 07:09:53\n",
      "Found file /home/jovyan/work/shared/data/AXOLOTL_workshop/raw_data/Grafton_20221028/records/221101/channelA_2022-11-01_07-20-06.wav with timestamp 2022-11-01 07:20:06\n",
      "Found file /home/jovyan/work/shared/data/AXOLOTL_workshop/raw_data/Grafton_20221028/records/221101/channelA_2022-11-01_07-30-20.wav with timestamp 2022-11-01 07:30:20\n",
      "Found file /home/jovyan/work/shared/data/AXOLOTL_workshop/raw_data/Grafton_20221028/records/221101/channelA_2022-11-01_07-40-34.wav with timestamp 2022-11-01 07:40:34\n",
      "Found file /home/jovyan/work/shared/data/AXOLOTL_workshop/raw_data/Grafton_20221028/records/221101/channelA_2022-11-01_07-50-47.wav with timestamp 2022-11-01 07:50:47\n",
      "Found file /home/jovyan/work/shared/data/AXOLOTL_workshop/raw_data/Grafton_20221028/records/221101/channelA_2022-11-01_08-01-01.wav with timestamp 2022-11-01 08:01:01\n",
      "Found file /home/jovyan/work/shared/data/AXOLOTL_workshop/raw_data/Grafton_20221028/records/221101/channelA_2022-11-01_08-11-15.wav with timestamp 2022-11-01 08:11:15\n",
      "Found file /home/jovyan/work/shared/data/AXOLOTL_workshop/raw_data/Grafton_20221028/records/221101/channelA_2022-11-01_08-21-28.wav with timestamp 2022-11-01 08:21:28\n",
      "Found file /home/jovyan/work/shared/data/AXOLOTL_workshop/raw_data/Grafton_20221028/records/221101/channelA_2022-11-01_08-31-42.wav with timestamp 2022-11-01 08:31:42\n",
      "Found file /home/jovyan/work/shared/data/AXOLOTL_workshop/raw_data/Grafton_20221028/records/221101/channelA_2022-11-01_08-41-55.wav with timestamp 2022-11-01 08:41:55\n",
      "Found file /home/jovyan/work/shared/data/AXOLOTL_workshop/raw_data/Grafton_20221028/records/221101/channelA_2022-11-01_08-52-09.wav with timestamp 2022-11-01 08:52:09\n",
      "Found file /home/jovyan/work/shared/data/AXOLOTL_workshop/raw_data/Grafton_20221028/records/221101/channelA_2022-11-01_09-02-23.wav with timestamp 2022-11-01 09:02:23\n",
      "Found file /home/jovyan/work/shared/data/AXOLOTL_workshop/raw_data/Grafton_20221028/records/221101/channelA_2022-11-01_09-12-36.wav with timestamp 2022-11-01 09:12:36\n",
      "Found file /home/jovyan/work/shared/data/AXOLOTL_workshop/raw_data/Grafton_20221028/records/221101/channelA_2022-11-01_09-22-50.wav with timestamp 2022-11-01 09:22:50\n",
      "Found file /home/jovyan/work/shared/data/AXOLOTL_workshop/raw_data/Grafton_20221028/records/221101/channelA_2022-11-01_09-33-04.wav with timestamp 2022-11-01 09:33:04\n",
      "Found file /home/jovyan/work/shared/data/AXOLOTL_workshop/raw_data/Grafton_20221028/records/221101/channelA_2022-11-01_09-43-17.wav with timestamp 2022-11-01 09:43:17\n",
      "Found file /home/jovyan/work/shared/data/AXOLOTL_workshop/raw_data/Grafton_20221028/records/221101/channelA_2022-11-01_09-53-31.wav with timestamp 2022-11-01 09:53:31\n",
      "Found file /home/jovyan/work/shared/data/AXOLOTL_workshop/raw_data/Grafton_20221028/records/221101/channelA_2022-11-01_10-03-44.wav with timestamp 2022-11-01 10:03:44\n",
      "Found file /home/jovyan/work/shared/data/AXOLOTL_workshop/raw_data/Grafton_20221028/records/221101/channelA_2022-11-01_10-13-58.wav with timestamp 2022-11-01 10:13:58\n",
      "Found file /home/jovyan/work/shared/data/AXOLOTL_workshop/raw_data/Grafton_20221028/records/221101/channelA_2022-11-01_10-24-12.wav with timestamp 2022-11-01 10:24:12\n",
      "Found file /home/jovyan/work/shared/data/AXOLOTL_workshop/raw_data/Grafton_20221028/records/221101/channelA_2022-11-01_10-34-25.wav with timestamp 2022-11-01 10:34:25\n",
      "Found file /home/jovyan/work/shared/data/AXOLOTL_workshop/raw_data/Grafton_20221028/records/221101/channelA_2022-11-01_10-44-39.wav with timestamp 2022-11-01 10:44:39\n",
      "Found file /home/jovyan/work/shared/data/AXOLOTL_workshop/raw_data/Grafton_20221028/records/221101/channelA_2022-11-01_10-54-52.wav with timestamp 2022-11-01 10:54:52\n",
      "Found file /home/jovyan/work/shared/data/AXOLOTL_workshop/raw_data/Grafton_20221028/records/221101/channelA_2022-11-01_11-05-06.wav with timestamp 2022-11-01 11:05:06\n",
      "Found file /home/jovyan/work/shared/data/AXOLOTL_workshop/raw_data/Grafton_20221028/records/221101/channelA_2022-11-01_11-15-20.wav with timestamp 2022-11-01 11:15:20\n",
      "Found file /home/jovyan/work/shared/data/AXOLOTL_workshop/raw_data/Grafton_20221028/records/221101/channelA_2022-11-01_11-25-33.wav with timestamp 2022-11-01 11:25:33\n",
      "Found file /home/jovyan/work/shared/data/AXOLOTL_workshop/raw_data/Grafton_20221028/records/221101/channelA_2022-11-01_11-35-47.wav with timestamp 2022-11-01 11:35:47\n",
      "Found file /home/jovyan/work/shared/data/AXOLOTL_workshop/raw_data/Grafton_20221028/records/221101/channelA_2022-11-01_11-46-01.wav with timestamp 2022-11-01 11:46:01\n",
      "Found file /home/jovyan/work/shared/data/AXOLOTL_workshop/raw_data/Grafton_20221028/records/221101/channelA_2022-11-01_11-56-14.wav with timestamp 2022-11-01 11:56:14\n",
      "Found file /home/jovyan/work/shared/data/AXOLOTL_workshop/raw_data/Grafton_20221028/records/221101/channelA_2022-11-01_12-06-28.wav with timestamp 2022-11-01 12:06:28\n"
     ]
    },
    {
     "name": "stderr",
     "output_type": "stream",
     "text": [
      "Searching :  41% (354 of 846) |####      | Elapsed Time: 0:00:00 ETA:   0:00:00"
     ]
    },
    {
     "name": "stdout",
     "output_type": "stream",
     "text": [
      "Found file /home/jovyan/work/shared/data/AXOLOTL_workshop/raw_data/Grafton_20221028/records/221101/channelA_2022-11-01_12-16-41.wav with timestamp 2022-11-01 12:16:41\n",
      "Found file /home/jovyan/work/shared/data/AXOLOTL_workshop/raw_data/Grafton_20221028/records/221101/channelA_2022-11-01_12-26-55.wav with timestamp 2022-11-01 12:26:55\n",
      "Found file /home/jovyan/work/shared/data/AXOLOTL_workshop/raw_data/Grafton_20221028/records/221101/channelA_2022-11-01_12-37-09.wav with timestamp 2022-11-01 12:37:09\n",
      "Found file /home/jovyan/work/shared/data/AXOLOTL_workshop/raw_data/Grafton_20221028/records/221101/channelA_2022-11-01_12-47-22.wav with timestamp 2022-11-01 12:47:22\n",
      "Found file /home/jovyan/work/shared/data/AXOLOTL_workshop/raw_data/Grafton_20221028/records/221101/channelA_2022-11-01_12-57-36.wav with timestamp 2022-11-01 12:57:36\n",
      "Found file /home/jovyan/work/shared/data/AXOLOTL_workshop/raw_data/Grafton_20221028/records/221101/channelA_2022-11-01_13-07-50.wav with timestamp 2022-11-01 13:07:50\n",
      "Found file /home/jovyan/work/shared/data/AXOLOTL_workshop/raw_data/Grafton_20221028/records/221101/channelA_2022-11-01_13-18-03.wav with timestamp 2022-11-01 13:18:03\n",
      "Found file /home/jovyan/work/shared/data/AXOLOTL_workshop/raw_data/Grafton_20221028/records/221101/channelA_2022-11-01_13-28-17.wav with timestamp 2022-11-01 13:28:17\n",
      "Found file /home/jovyan/work/shared/data/AXOLOTL_workshop/raw_data/Grafton_20221028/records/221101/channelA_2022-11-01_13-38-30.wav with timestamp 2022-11-01 13:38:30\n",
      "Found file /home/jovyan/work/shared/data/AXOLOTL_workshop/raw_data/Grafton_20221028/records/221101/channelA_2022-11-01_13-48-44.wav with timestamp 2022-11-01 13:48:44\n",
      "Found file /home/jovyan/work/shared/data/AXOLOTL_workshop/raw_data/Grafton_20221028/records/221101/channelA_2022-11-01_13-58-58.wav with timestamp 2022-11-01 13:58:58\n",
      "Found file /home/jovyan/work/shared/data/AXOLOTL_workshop/raw_data/Grafton_20221028/records/221101/channelA_2022-11-01_14-09-11.wav with timestamp 2022-11-01 14:09:11\n",
      "Found file /home/jovyan/work/shared/data/AXOLOTL_workshop/raw_data/Grafton_20221028/records/221101/channelA_2022-11-01_14-19-25.wav with timestamp 2022-11-01 14:19:25\n",
      "Found file /home/jovyan/work/shared/data/AXOLOTL_workshop/raw_data/Grafton_20221028/records/221101/channelA_2022-11-01_14-29-38.wav with timestamp 2022-11-01 14:29:38\n",
      "Found file /home/jovyan/work/shared/data/AXOLOTL_workshop/raw_data/Grafton_20221028/records/221101/channelA_2022-11-01_14-39-52.wav with timestamp 2022-11-01 14:39:52\n",
      "Found file /home/jovyan/work/shared/data/AXOLOTL_workshop/raw_data/Grafton_20221028/records/221101/channelA_2022-11-01_14-50-06.wav with timestamp 2022-11-01 14:50:06\n",
      "Found file /home/jovyan/work/shared/data/AXOLOTL_workshop/raw_data/Grafton_20221028/records/221101/channelA_2022-11-01_15-00-19.wav with timestamp 2022-11-01 15:00:19\n",
      "Found file /home/jovyan/work/shared/data/AXOLOTL_workshop/raw_data/Grafton_20221028/records/221101/channelA_2022-11-01_15-10-33.wav with timestamp 2022-11-01 15:10:33\n",
      "Found file /home/jovyan/work/shared/data/AXOLOTL_workshop/raw_data/Grafton_20221028/records/221101/channelA_2022-11-01_15-20-47.wav with timestamp 2022-11-01 15:20:47\n",
      "Found file /home/jovyan/work/shared/data/AXOLOTL_workshop/raw_data/Grafton_20221028/records/221101/channelA_2022-11-01_15-31-00.wav with timestamp 2022-11-01 15:31:00\n",
      "Found file /home/jovyan/work/shared/data/AXOLOTL_workshop/raw_data/Grafton_20221028/records/221101/channelA_2022-11-01_15-41-14.wav with timestamp 2022-11-01 15:41:14\n",
      "Found file /home/jovyan/work/shared/data/AXOLOTL_workshop/raw_data/Grafton_20221028/records/221101/channelA_2022-11-01_15-51-27.wav with timestamp 2022-11-01 15:51:27\n",
      "Found file /home/jovyan/work/shared/data/AXOLOTL_workshop/raw_data/Grafton_20221028/records/221101/channelA_2022-11-01_16-01-41.wav with timestamp 2022-11-01 16:01:41\n",
      "Found file /home/jovyan/work/shared/data/AXOLOTL_workshop/raw_data/Grafton_20221028/records/221101/channelA_2022-11-01_16-11-55.wav with timestamp 2022-11-01 16:11:55\n",
      "Found file /home/jovyan/work/shared/data/AXOLOTL_workshop/raw_data/Grafton_20221028/records/221101/channelA_2022-11-01_16-22-08.wav with timestamp 2022-11-01 16:22:08\n",
      "Found file /home/jovyan/work/shared/data/AXOLOTL_workshop/raw_data/Grafton_20221028/records/221101/channelA_2022-11-01_16-32-22.wav with timestamp 2022-11-01 16:32:22\n",
      "Found file /home/jovyan/work/shared/data/AXOLOTL_workshop/raw_data/Grafton_20221028/records/221101/channelA_2022-11-01_16-42-36.wav with timestamp 2022-11-01 16:42:36\n",
      "Found file /home/jovyan/work/shared/data/AXOLOTL_workshop/raw_data/Grafton_20221028/records/221101/channelA_2022-11-01_16-52-49.wav with timestamp 2022-11-01 16:52:49\n",
      "Found file /home/jovyan/work/shared/data/AXOLOTL_workshop/raw_data/Grafton_20221028/records/221101/channelA_2022-11-01_17-03-03.wav with timestamp 2022-11-01 17:03:03\n",
      "Found file /home/jovyan/work/shared/data/AXOLOTL_workshop/raw_data/Grafton_20221028/records/221101/channelA_2022-11-01_17-13-16.wav with timestamp 2022-11-01 17:13:16\n",
      "Found file /home/jovyan/work/shared/data/AXOLOTL_workshop/raw_data/Grafton_20221028/records/221101/channelA_2022-11-01_17-23-30.wav with timestamp 2022-11-01 17:23:30\n",
      "Found file /home/jovyan/work/shared/data/AXOLOTL_workshop/raw_data/Grafton_20221028/records/221101/channelA_2022-11-01_17-33-44.wav with timestamp 2022-11-01 17:33:44\n",
      "Found file /home/jovyan/work/shared/data/AXOLOTL_workshop/raw_data/Grafton_20221028/records/221101/channelA_2022-11-01_17-43-57.wav with timestamp 2022-11-01 17:43:57\n",
      "Found file /home/jovyan/work/shared/data/AXOLOTL_workshop/raw_data/Grafton_20221028/records/221101/channelA_2022-11-01_17-54-11.wav with timestamp 2022-11-01 17:54:11\n",
      "Found file /home/jovyan/work/shared/data/AXOLOTL_workshop/raw_data/Grafton_20221028/records/221101/channelA_2022-11-01_18-04-24.wav with timestamp 2022-11-01 18:04:24\n",
      "Found file /home/jovyan/work/shared/data/AXOLOTL_workshop/raw_data/Grafton_20221028/records/221101/channelA_2022-11-01_18-14-38.wav with timestamp 2022-11-01 18:14:38\n",
      "Found file /home/jovyan/work/shared/data/AXOLOTL_workshop/raw_data/Grafton_20221028/records/221101/channelA_2022-11-01_18-24-52.wav with timestamp 2022-11-01 18:24:52\n",
      "Found file /home/jovyan/work/shared/data/AXOLOTL_workshop/raw_data/Grafton_20221028/records/221101/channelA_2022-11-01_18-35-05.wav with timestamp 2022-11-01 18:35:05\n",
      "Found file /home/jovyan/work/shared/data/AXOLOTL_workshop/raw_data/Grafton_20221028/records/221101/channelA_2022-11-01_18-45-19.wav with timestamp 2022-11-01 18:45:19\n",
      "Found file /home/jovyan/work/shared/data/AXOLOTL_workshop/raw_data/Grafton_20221028/records/221101/channelA_2022-11-01_18-55-33.wav with timestamp 2022-11-01 18:55:33\n",
      "Found file /home/jovyan/work/shared/data/AXOLOTL_workshop/raw_data/Grafton_20221028/records/221101/channelA_2022-11-01_19-05-46.wav with timestamp 2022-11-01 19:05:46\n",
      "Found file /home/jovyan/work/shared/data/AXOLOTL_workshop/raw_data/Grafton_20221028/records/221101/channelA_2022-11-01_19-16-00.wav with timestamp 2022-11-01 19:16:00\n",
      "Found file /home/jovyan/work/shared/data/AXOLOTL_workshop/raw_data/Grafton_20221028/records/221101/channelA_2022-11-01_19-26-13.wav with timestamp 2022-11-01 19:26:13\n"
     ]
    },
    {
     "name": "stderr",
     "output_type": "stream",
     "text": [
      "Searching :  46% (397 of 846) |####      | Elapsed Time: 0:00:00 ETA:   0:00:00"
     ]
    },
    {
     "name": "stdout",
     "output_type": "stream",
     "text": [
      "Found file /home/jovyan/work/shared/data/AXOLOTL_workshop/raw_data/Grafton_20221028/records/221101/channelA_2022-11-01_19-36-27.wav with timestamp 2022-11-01 19:36:27\n",
      "Found file /home/jovyan/work/shared/data/AXOLOTL_workshop/raw_data/Grafton_20221028/records/221101/channelA_2022-11-01_19-46-41.wav with timestamp 2022-11-01 19:46:41\n",
      "Found file /home/jovyan/work/shared/data/AXOLOTL_workshop/raw_data/Grafton_20221028/records/221101/channelA_2022-11-01_19-56-54.wav with timestamp 2022-11-01 19:56:54\n",
      "Found file /home/jovyan/work/shared/data/AXOLOTL_workshop/raw_data/Grafton_20221028/records/221101/channelA_2022-11-01_20-07-08.wav with timestamp 2022-11-01 20:07:08\n",
      "Found file /home/jovyan/work/shared/data/AXOLOTL_workshop/raw_data/Grafton_20221028/records/221101/channelA_2022-11-01_20-17-21.wav with timestamp 2022-11-01 20:17:21\n",
      "Found file /home/jovyan/work/shared/data/AXOLOTL_workshop/raw_data/Grafton_20221028/records/221101/channelA_2022-11-01_20-27-35.wav with timestamp 2022-11-01 20:27:35\n",
      "Found file /home/jovyan/work/shared/data/AXOLOTL_workshop/raw_data/Grafton_20221028/records/221101/channelA_2022-11-01_20-37-49.wav with timestamp 2022-11-01 20:37:49\n",
      "Found file /home/jovyan/work/shared/data/AXOLOTL_workshop/raw_data/Grafton_20221028/records/221101/channelA_2022-11-01_20-48-02.wav with timestamp 2022-11-01 20:48:02\n",
      "Found file /home/jovyan/work/shared/data/AXOLOTL_workshop/raw_data/Grafton_20221028/records/221101/channelA_2022-11-01_20-58-16.wav with timestamp 2022-11-01 20:58:16\n",
      "Found file /home/jovyan/work/shared/data/AXOLOTL_workshop/raw_data/Grafton_20221028/records/221101/channelA_2022-11-01_21-08-30.wav with timestamp 2022-11-01 21:08:30\n",
      "Found file /home/jovyan/work/shared/data/AXOLOTL_workshop/raw_data/Grafton_20221028/records/221101/channelA_2022-11-01_21-18-43.wav with timestamp 2022-11-01 21:18:43\n",
      "Found file /home/jovyan/work/shared/data/AXOLOTL_workshop/raw_data/Grafton_20221028/records/221101/channelA_2022-11-01_21-28-57.wav with timestamp 2022-11-01 21:28:57\n",
      "Found file /home/jovyan/work/shared/data/AXOLOTL_workshop/raw_data/Grafton_20221028/records/221101/channelA_2022-11-01_21-39-10.wav with timestamp 2022-11-01 21:39:10\n",
      "Found file /home/jovyan/work/shared/data/AXOLOTL_workshop/raw_data/Grafton_20221028/records/221101/channelA_2022-11-01_21-49-24.wav with timestamp 2022-11-01 21:49:24\n",
      "Found file /home/jovyan/work/shared/data/AXOLOTL_workshop/raw_data/Grafton_20221028/records/221101/channelA_2022-11-01_21-59-38.wav with timestamp 2022-11-01 21:59:38\n",
      "Found file /home/jovyan/work/shared/data/AXOLOTL_workshop/raw_data/Grafton_20221028/records/221101/channelA_2022-11-01_22-09-51.wav with timestamp 2022-11-01 22:09:51\n",
      "Found file /home/jovyan/work/shared/data/AXOLOTL_workshop/raw_data/Grafton_20221028/records/221101/channelA_2022-11-01_22-20-05.wav with timestamp 2022-11-01 22:20:05\n",
      "Found file /home/jovyan/work/shared/data/AXOLOTL_workshop/raw_data/Grafton_20221028/records/221101/channelA_2022-11-01_22-30-19.wav with timestamp 2022-11-01 22:30:19\n",
      "Found file /home/jovyan/work/shared/data/AXOLOTL_workshop/raw_data/Grafton_20221028/records/221101/channelA_2022-11-01_22-40-32.wav with timestamp 2022-11-01 22:40:32\n",
      "Found file /home/jovyan/work/shared/data/AXOLOTL_workshop/raw_data/Grafton_20221028/records/221101/channelA_2022-11-01_22-50-46.wav with timestamp 2022-11-01 22:50:46\n",
      "Found file /home/jovyan/work/shared/data/AXOLOTL_workshop/raw_data/Grafton_20221028/records/221101/channelA_2022-11-01_23-00-59.wav with timestamp 2022-11-01 23:00:59\n",
      "Found file /home/jovyan/work/shared/data/AXOLOTL_workshop/raw_data/Grafton_20221028/records/221101/channelA_2022-11-01_23-11-13.wav with timestamp 2022-11-01 23:11:13\n",
      "Found file /home/jovyan/work/shared/data/AXOLOTL_workshop/raw_data/Grafton_20221028/records/221101/channelA_2022-11-01_23-21-27.wav with timestamp 2022-11-01 23:21:27\n",
      "Found file /home/jovyan/work/shared/data/AXOLOTL_workshop/raw_data/Grafton_20221028/records/221101/channelA_2022-11-01_23-31-40.wav with timestamp 2022-11-01 23:31:40\n",
      "Found file /home/jovyan/work/shared/data/AXOLOTL_workshop/raw_data/Grafton_20221028/records/221101/channelA_2022-11-01_23-41-54.wav with timestamp 2022-11-01 23:41:54\n",
      "Found file /home/jovyan/work/shared/data/AXOLOTL_workshop/raw_data/Grafton_20221028/records/221101/channelA_2022-11-01_23-52-07.wav with timestamp 2022-11-01 23:52:07\n"
     ]
    },
    {
     "name": "stderr",
     "output_type": "stream",
     "text": [
      "Searching : 100% (846 of 846) |##########| Elapsed Time: 0:00:00 Time:  0:00:00\n"
     ]
    },
    {
     "name": "stdout",
     "output_type": "stream",
     "text": [
      "Done correcting metadata for 2022-11-01 00:00:00. Saved to /home/jovyan/work/shared/data/AXOLOTL_workshop/raw_data/Grafton_20221028/metadata/json/2022/20221101.json\n",
      "ReseaMetadataGenerator 20221028 Searching in file:///home/jovyan/work/shared/data/AXOLOTL_workshop/raw_data/Grafton_20221028/records/*.wav for wav files that match the search patterns channelA_* ...\n",
      "ReseaMetadataGenerator 20221028 Searching in file:///home/jovyan/work/shared/data/AXOLOTL_workshop/raw_data/Grafton_20221028/records/*.wav for wav files that match the search patterns channelAC_* ...\n"
     ]
    },
    {
     "name": "stderr",
     "output_type": "stream",
     "text": [
      "Searching : N/A% (0 of 846) |            | Elapsed Time: 0:00:00 ETA:  --:--:--"
     ]
    },
    {
     "name": "stdout",
     "output_type": "stream",
     "text": [
      "Found file /home/jovyan/work/shared/data/AXOLOTL_workshop/raw_data/Grafton_20221028/records/221101/channelA_2022-11-01_23-00-59.wav with timestamp 2022-11-01 23:00:59\n",
      "Found file /home/jovyan/work/shared/data/AXOLOTL_workshop/raw_data/Grafton_20221028/records/221101/channelA_2022-11-01_23-11-13.wav with timestamp 2022-11-01 23:11:13\n",
      "Found file /home/jovyan/work/shared/data/AXOLOTL_workshop/raw_data/Grafton_20221028/records/221101/channelA_2022-11-01_23-21-27.wav with timestamp 2022-11-01 23:21:27\n",
      "Found file /home/jovyan/work/shared/data/AXOLOTL_workshop/raw_data/Grafton_20221028/records/221101/channelA_2022-11-01_23-31-40.wav with timestamp 2022-11-01 23:31:40\n",
      "Found file /home/jovyan/work/shared/data/AXOLOTL_workshop/raw_data/Grafton_20221028/records/221101/channelA_2022-11-01_23-41-54.wav with timestamp 2022-11-01 23:41:54\n",
      "Found file /home/jovyan/work/shared/data/AXOLOTL_workshop/raw_data/Grafton_20221028/records/221101/channelA_2022-11-01_23-52-07.wav with timestamp 2022-11-01 23:52:07\n"
     ]
    },
    {
     "name": "stderr",
     "output_type": "stream",
     "text": [
      "Searching : 100% (846 of 846) |##########| Elapsed Time: 0:00:00 Time:  0:00:00\n"
     ]
    },
    {
     "name": "stdout",
     "output_type": "stream",
     "text": [
      "Done correcting metadata for 2022-11-02 00:00:00. Saved to /home/jovyan/work/shared/data/AXOLOTL_workshop/raw_data/Grafton_20221028/metadata/json/2022/20221102.json\n",
      "ReseaMetadataGenerator 20221028 Searching in file:///home/jovyan/work/shared/data/AXOLOTL_workshop/raw_data/Grafton_20221028/records/*.wav for wav files that match the search patterns channelA_* ...\n",
      "ReseaMetadataGenerator 20221028 Searching in file:///home/jovyan/work/shared/data/AXOLOTL_workshop/raw_data/Grafton_20221028/records/*.wav for wav files that match the search patterns channelAC_* ...\n"
     ]
    },
    {
     "name": "stderr",
     "output_type": "stream",
     "text": [
      "Searching : N/A% (0 of 846) |            | Elapsed Time: 0:00:00 ETA:  --:--:--"
     ]
    },
    {
     "name": "stdout",
     "output_type": "stream",
     "text": [
      "Found file /home/jovyan/work/shared/data/AXOLOTL_workshop/raw_data/Grafton_20221028/records/221103/channelA_2022-11-03_00-00-19.wav with timestamp 2022-11-03 00:00:19\n",
      "Found file /home/jovyan/work/shared/data/AXOLOTL_workshop/raw_data/Grafton_20221028/records/221103/channelA_2022-11-03_00-10-34.wav with timestamp 2022-11-03 00:10:34\n",
      "Found file /home/jovyan/work/shared/data/AXOLOTL_workshop/raw_data/Grafton_20221028/records/221103/channelA_2022-11-03_00-20-48.wav with timestamp 2022-11-03 00:20:48\n",
      "Found file /home/jovyan/work/shared/data/AXOLOTL_workshop/raw_data/Grafton_20221028/records/221103/channelA_2022-11-03_00-31-02.wav with timestamp 2022-11-03 00:31:02\n",
      "Found file /home/jovyan/work/shared/data/AXOLOTL_workshop/raw_data/Grafton_20221028/records/221103/channelA_2022-11-03_00-41-15.wav with timestamp 2022-11-03 00:41:15\n",
      "Found file /home/jovyan/work/shared/data/AXOLOTL_workshop/raw_data/Grafton_20221028/records/221103/channelA_2022-11-03_00-51-29.wav with timestamp 2022-11-03 00:51:29\n",
      "Found file /home/jovyan/work/shared/data/AXOLOTL_workshop/raw_data/Grafton_20221028/records/221103/channelA_2022-11-03_01-01-43.wav with timestamp 2022-11-03 01:01:43\n",
      "Found file /home/jovyan/work/shared/data/AXOLOTL_workshop/raw_data/Grafton_20221028/records/221103/channelA_2022-11-03_01-11-56.wav with timestamp 2022-11-03 01:11:56\n",
      "Found file /home/jovyan/work/shared/data/AXOLOTL_workshop/raw_data/Grafton_20221028/records/221103/channelA_2022-11-03_01-22-10.wav with timestamp 2022-11-03 01:22:10\n",
      "Found file /home/jovyan/work/shared/data/AXOLOTL_workshop/raw_data/Grafton_20221028/records/221103/channelA_2022-11-03_01-32-23.wav with timestamp 2022-11-03 01:32:23\n",
      "Found file /home/jovyan/work/shared/data/AXOLOTL_workshop/raw_data/Grafton_20221028/records/221103/channelA_2022-11-03_01-42-37.wav with timestamp 2022-11-03 01:42:37\n",
      "Found file /home/jovyan/work/shared/data/AXOLOTL_workshop/raw_data/Grafton_20221028/records/221103/channelA_2022-11-03_01-52-51.wav with timestamp 2022-11-03 01:52:51\n",
      "Found file /home/jovyan/work/shared/data/AXOLOTL_workshop/raw_data/Grafton_20221028/records/221103/channelA_2022-11-03_02-03-04.wav with timestamp 2022-11-03 02:03:04\n",
      "Found file /home/jovyan/work/shared/data/AXOLOTL_workshop/raw_data/Grafton_20221028/records/221103/channelA_2022-11-03_02-13-18.wav with timestamp 2022-11-03 02:13:18\n",
      "Found file /home/jovyan/work/shared/data/AXOLOTL_workshop/raw_data/Grafton_20221028/records/221103/channelA_2022-11-03_02-23-31.wav with timestamp 2022-11-03 02:23:31\n",
      "Found file /home/jovyan/work/shared/data/AXOLOTL_workshop/raw_data/Grafton_20221028/records/221103/channelA_2022-11-03_02-33-45.wav with timestamp 2022-11-03 02:33:45\n",
      "Found file /home/jovyan/work/shared/data/AXOLOTL_workshop/raw_data/Grafton_20221028/records/221103/channelA_2022-11-03_02-43-59.wav with timestamp 2022-11-03 02:43:59\n"
     ]
    },
    {
     "name": "stderr",
     "output_type": "stream",
     "text": [
      "Searching :  52% (440 of 846) |#####     | Elapsed Time: 0:00:00 ETA:  00:00:00"
     ]
    },
    {
     "name": "stdout",
     "output_type": "stream",
     "text": [
      "Found file /home/jovyan/work/shared/data/AXOLOTL_workshop/raw_data/Grafton_20221028/records/221103/channelA_2022-11-03_02-54-12.wav with timestamp 2022-11-03 02:54:12\n",
      "Found file /home/jovyan/work/shared/data/AXOLOTL_workshop/raw_data/Grafton_20221028/records/221103/channelA_2022-11-03_03-04-26.wav with timestamp 2022-11-03 03:04:26\n",
      "Found file /home/jovyan/work/shared/data/AXOLOTL_workshop/raw_data/Grafton_20221028/records/221103/channelA_2022-11-03_03-14-40.wav with timestamp 2022-11-03 03:14:40\n",
      "Found file /home/jovyan/work/shared/data/AXOLOTL_workshop/raw_data/Grafton_20221028/records/221103/channelA_2022-11-03_03-24-53.wav with timestamp 2022-11-03 03:24:53\n",
      "Found file /home/jovyan/work/shared/data/AXOLOTL_workshop/raw_data/Grafton_20221028/records/221103/channelA_2022-11-03_03-35-07.wav with timestamp 2022-11-03 03:35:07\n",
      "Found file /home/jovyan/work/shared/data/AXOLOTL_workshop/raw_data/Grafton_20221028/records/221103/channelA_2022-11-03_03-45-20.wav with timestamp 2022-11-03 03:45:20\n",
      "Found file /home/jovyan/work/shared/data/AXOLOTL_workshop/raw_data/Grafton_20221028/records/221103/channelA_2022-11-03_03-55-34.wav with timestamp 2022-11-03 03:55:34\n",
      "Found file /home/jovyan/work/shared/data/AXOLOTL_workshop/raw_data/Grafton_20221028/records/221103/channelA_2022-11-03_04-05-48.wav with timestamp 2022-11-03 04:05:48\n",
      "Found file /home/jovyan/work/shared/data/AXOLOTL_workshop/raw_data/Grafton_20221028/records/221103/channelA_2022-11-03_04-16-01.wav with timestamp 2022-11-03 04:16:01\n",
      "Found file /home/jovyan/work/shared/data/AXOLOTL_workshop/raw_data/Grafton_20221028/records/221103/channelA_2022-11-03_04-26-15.wav with timestamp 2022-11-03 04:26:15\n",
      "Found file /home/jovyan/work/shared/data/AXOLOTL_workshop/raw_data/Grafton_20221028/records/221103/channelA_2022-11-03_04-36-29.wav with timestamp 2022-11-03 04:36:29\n",
      "Found file /home/jovyan/work/shared/data/AXOLOTL_workshop/raw_data/Grafton_20221028/records/221103/channelA_2022-11-03_04-46-42.wav with timestamp 2022-11-03 04:46:42\n",
      "Found file /home/jovyan/work/shared/data/AXOLOTL_workshop/raw_data/Grafton_20221028/records/221103/channelA_2022-11-03_04-56-56.wav with timestamp 2022-11-03 04:56:56\n",
      "Found file /home/jovyan/work/shared/data/AXOLOTL_workshop/raw_data/Grafton_20221028/records/221103/channelA_2022-11-03_05-07-09.wav with timestamp 2022-11-03 05:07:09\n",
      "Found file /home/jovyan/work/shared/data/AXOLOTL_workshop/raw_data/Grafton_20221028/records/221103/channelA_2022-11-03_05-17-23.wav with timestamp 2022-11-03 05:17:23\n",
      "Found file /home/jovyan/work/shared/data/AXOLOTL_workshop/raw_data/Grafton_20221028/records/221103/channelA_2022-11-03_05-27-37.wav with timestamp 2022-11-03 05:27:37\n",
      "Found file /home/jovyan/work/shared/data/AXOLOTL_workshop/raw_data/Grafton_20221028/records/221103/channelA_2022-11-03_05-37-50.wav with timestamp 2022-11-03 05:37:50\n",
      "Found file /home/jovyan/work/shared/data/AXOLOTL_workshop/raw_data/Grafton_20221028/records/221103/channelA_2022-11-03_05-48-04.wav with timestamp 2022-11-03 05:48:04\n",
      "Found file /home/jovyan/work/shared/data/AXOLOTL_workshop/raw_data/Grafton_20221028/records/221103/channelA_2022-11-03_05-58-17.wav with timestamp 2022-11-03 05:58:17\n",
      "Found file /home/jovyan/work/shared/data/AXOLOTL_workshop/raw_data/Grafton_20221028/records/221103/channelA_2022-11-03_06-08-31.wav with timestamp 2022-11-03 06:08:31\n",
      "Found file /home/jovyan/work/shared/data/AXOLOTL_workshop/raw_data/Grafton_20221028/records/221103/channelA_2022-11-03_06-18-45.wav with timestamp 2022-11-03 06:18:45\n",
      "Found file /home/jovyan/work/shared/data/AXOLOTL_workshop/raw_data/Grafton_20221028/records/221103/channelA_2022-11-03_06-28-58.wav with timestamp 2022-11-03 06:28:58\n",
      "Found file /home/jovyan/work/shared/data/AXOLOTL_workshop/raw_data/Grafton_20221028/records/221103/channelA_2022-11-03_06-39-12.wav with timestamp 2022-11-03 06:39:12\n",
      "Found file /home/jovyan/work/shared/data/AXOLOTL_workshop/raw_data/Grafton_20221028/records/221103/channelA_2022-11-03_06-49-26.wav with timestamp 2022-11-03 06:49:26\n",
      "Found file /home/jovyan/work/shared/data/AXOLOTL_workshop/raw_data/Grafton_20221028/records/221103/channelA_2022-11-03_06-59-39.wav with timestamp 2022-11-03 06:59:39\n",
      "Found file /home/jovyan/work/shared/data/AXOLOTL_workshop/raw_data/Grafton_20221028/records/221103/channelA_2022-11-03_07-09-53.wav with timestamp 2022-11-03 07:09:53\n",
      "Found file /home/jovyan/work/shared/data/AXOLOTL_workshop/raw_data/Grafton_20221028/records/221103/channelA_2022-11-03_07-20-06.wav with timestamp 2022-11-03 07:20:06\n",
      "Found file /home/jovyan/work/shared/data/AXOLOTL_workshop/raw_data/Grafton_20221028/records/221103/channelA_2022-11-03_07-30-20.wav with timestamp 2022-11-03 07:30:20\n",
      "Found file /home/jovyan/work/shared/data/AXOLOTL_workshop/raw_data/Grafton_20221028/records/221103/channelA_2022-11-03_07-40-34.wav with timestamp 2022-11-03 07:40:34\n",
      "Found file /home/jovyan/work/shared/data/AXOLOTL_workshop/raw_data/Grafton_20221028/records/221103/channelA_2022-11-03_07-50-47.wav with timestamp 2022-11-03 07:50:47\n",
      "Found file /home/jovyan/work/shared/data/AXOLOTL_workshop/raw_data/Grafton_20221028/records/221103/channelA_2022-11-03_08-01-01.wav with timestamp 2022-11-03 08:01:01\n",
      "Found file /home/jovyan/work/shared/data/AXOLOTL_workshop/raw_data/Grafton_20221028/records/221103/channelA_2022-11-03_08-11-15.wav with timestamp 2022-11-03 08:11:15\n",
      "Found file /home/jovyan/work/shared/data/AXOLOTL_workshop/raw_data/Grafton_20221028/records/221103/channelA_2022-11-03_08-21-28.wav with timestamp 2022-11-03 08:21:28\n",
      "Found file /home/jovyan/work/shared/data/AXOLOTL_workshop/raw_data/Grafton_20221028/records/221103/channelA_2022-11-03_08-31-42.wav with timestamp 2022-11-03 08:31:42\n",
      "Found file /home/jovyan/work/shared/data/AXOLOTL_workshop/raw_data/Grafton_20221028/records/221103/channelA_2022-11-03_08-41-55.wav with timestamp 2022-11-03 08:41:55\n",
      "Found file /home/jovyan/work/shared/data/AXOLOTL_workshop/raw_data/Grafton_20221028/records/221103/channelA_2022-11-03_08-52-09.wav with timestamp 2022-11-03 08:52:09\n",
      "Found file /home/jovyan/work/shared/data/AXOLOTL_workshop/raw_data/Grafton_20221028/records/221103/channelA_2022-11-03_09-02-23.wav with timestamp 2022-11-03 09:02:23\n",
      "Found file /home/jovyan/work/shared/data/AXOLOTL_workshop/raw_data/Grafton_20221028/records/221103/channelA_2022-11-03_09-12-36.wav with timestamp 2022-11-03 09:12:36\n",
      "Found file /home/jovyan/work/shared/data/AXOLOTL_workshop/raw_data/Grafton_20221028/records/221103/channelA_2022-11-03_09-22-50.wav with timestamp 2022-11-03 09:22:50\n",
      "Found file /home/jovyan/work/shared/data/AXOLOTL_workshop/raw_data/Grafton_20221028/records/221103/channelA_2022-11-03_09-33-03.wav with timestamp 2022-11-03 09:33:03\n",
      "Found file /home/jovyan/work/shared/data/AXOLOTL_workshop/raw_data/Grafton_20221028/records/221103/channelA_2022-11-03_09-43-17.wav with timestamp 2022-11-03 09:43:17\n",
      "Found file /home/jovyan/work/shared/data/AXOLOTL_workshop/raw_data/Grafton_20221028/records/221103/channelA_2022-11-03_09-53-31.wav with timestamp 2022-11-03 09:53:31\n"
     ]
    },
    {
     "name": "stderr",
     "output_type": "stream",
     "text": [
      "Searching :  56% (482 of 846) |#####     | Elapsed Time: 0:00:00 ETA:   0:00:00"
     ]
    },
    {
     "name": "stdout",
     "output_type": "stream",
     "text": [
      "Found file /home/jovyan/work/shared/data/AXOLOTL_workshop/raw_data/Grafton_20221028/records/221103/channelA_2022-11-03_10-03-44.wav with timestamp 2022-11-03 10:03:44\n",
      "Found file /home/jovyan/work/shared/data/AXOLOTL_workshop/raw_data/Grafton_20221028/records/221103/channelA_2022-11-03_10-13-58.wav with timestamp 2022-11-03 10:13:58\n",
      "Found file /home/jovyan/work/shared/data/AXOLOTL_workshop/raw_data/Grafton_20221028/records/221103/channelA_2022-11-03_10-24-12.wav with timestamp 2022-11-03 10:24:12\n",
      "Found file /home/jovyan/work/shared/data/AXOLOTL_workshop/raw_data/Grafton_20221028/records/221103/channelA_2022-11-03_10-34-25.wav with timestamp 2022-11-03 10:34:25\n",
      "Found file /home/jovyan/work/shared/data/AXOLOTL_workshop/raw_data/Grafton_20221028/records/221103/channelA_2022-11-03_10-44-39.wav with timestamp 2022-11-03 10:44:39\n",
      "Found file /home/jovyan/work/shared/data/AXOLOTL_workshop/raw_data/Grafton_20221028/records/221103/channelA_2022-11-03_10-54-52.wav with timestamp 2022-11-03 10:54:52\n",
      "Found file /home/jovyan/work/shared/data/AXOLOTL_workshop/raw_data/Grafton_20221028/records/221103/channelA_2022-11-03_11-05-06.wav with timestamp 2022-11-03 11:05:06\n",
      "Found file /home/jovyan/work/shared/data/AXOLOTL_workshop/raw_data/Grafton_20221028/records/221103/channelA_2022-11-03_11-15-20.wav with timestamp 2022-11-03 11:15:20\n",
      "Found file /home/jovyan/work/shared/data/AXOLOTL_workshop/raw_data/Grafton_20221028/records/221103/channelA_2022-11-03_11-25-33.wav with timestamp 2022-11-03 11:25:33\n",
      "Found file /home/jovyan/work/shared/data/AXOLOTL_workshop/raw_data/Grafton_20221028/records/221103/channelA_2022-11-03_11-35-47.wav with timestamp 2022-11-03 11:35:47\n",
      "Found file /home/jovyan/work/shared/data/AXOLOTL_workshop/raw_data/Grafton_20221028/records/221103/channelA_2022-11-03_11-46-01.wav with timestamp 2022-11-03 11:46:01\n",
      "Found file /home/jovyan/work/shared/data/AXOLOTL_workshop/raw_data/Grafton_20221028/records/221103/channelA_2022-11-03_11-56-14.wav with timestamp 2022-11-03 11:56:14\n",
      "Found file /home/jovyan/work/shared/data/AXOLOTL_workshop/raw_data/Grafton_20221028/records/221103/channelA_2022-11-03_12-06-28.wav with timestamp 2022-11-03 12:06:28\n",
      "Found file /home/jovyan/work/shared/data/AXOLOTL_workshop/raw_data/Grafton_20221028/records/221103/channelA_2022-11-03_12-16-41.wav with timestamp 2022-11-03 12:16:41\n",
      "Found file /home/jovyan/work/shared/data/AXOLOTL_workshop/raw_data/Grafton_20221028/records/221103/channelA_2022-11-03_12-26-55.wav with timestamp 2022-11-03 12:26:55\n",
      "Found file /home/jovyan/work/shared/data/AXOLOTL_workshop/raw_data/Grafton_20221028/records/221103/channelA_2022-11-03_12-37-09.wav with timestamp 2022-11-03 12:37:09\n",
      "Found file /home/jovyan/work/shared/data/AXOLOTL_workshop/raw_data/Grafton_20221028/records/221103/channelA_2022-11-03_12-47-22.wav with timestamp 2022-11-03 12:47:22\n",
      "Found file /home/jovyan/work/shared/data/AXOLOTL_workshop/raw_data/Grafton_20221028/records/221103/channelA_2022-11-03_12-57-36.wav with timestamp 2022-11-03 12:57:36\n",
      "Found file /home/jovyan/work/shared/data/AXOLOTL_workshop/raw_data/Grafton_20221028/records/221103/channelA_2022-11-03_13-07-49.wav with timestamp 2022-11-03 13:07:49\n",
      "Found file /home/jovyan/work/shared/data/AXOLOTL_workshop/raw_data/Grafton_20221028/records/221103/channelA_2022-11-03_13-18-03.wav with timestamp 2022-11-03 13:18:03\n",
      "Found file /home/jovyan/work/shared/data/AXOLOTL_workshop/raw_data/Grafton_20221028/records/221103/channelA_2022-11-03_13-28-17.wav with timestamp 2022-11-03 13:28:17\n",
      "Found file /home/jovyan/work/shared/data/AXOLOTL_workshop/raw_data/Grafton_20221028/records/221103/channelA_2022-11-03_13-38-30.wav with timestamp 2022-11-03 13:38:30\n",
      "Found file /home/jovyan/work/shared/data/AXOLOTL_workshop/raw_data/Grafton_20221028/records/221103/channelA_2022-11-03_13-48-44.wav with timestamp 2022-11-03 13:48:44\n",
      "Found file /home/jovyan/work/shared/data/AXOLOTL_workshop/raw_data/Grafton_20221028/records/221103/channelA_2022-11-03_13-58-58.wav with timestamp 2022-11-03 13:58:58\n",
      "Found file /home/jovyan/work/shared/data/AXOLOTL_workshop/raw_data/Grafton_20221028/records/221103/channelA_2022-11-03_14-09-11.wav with timestamp 2022-11-03 14:09:11\n",
      "Found file /home/jovyan/work/shared/data/AXOLOTL_workshop/raw_data/Grafton_20221028/records/221103/channelA_2022-11-03_14-19-25.wav with timestamp 2022-11-03 14:19:25\n",
      "Found file /home/jovyan/work/shared/data/AXOLOTL_workshop/raw_data/Grafton_20221028/records/221103/channelA_2022-11-03_14-29-38.wav with timestamp 2022-11-03 14:29:38\n",
      "Found file /home/jovyan/work/shared/data/AXOLOTL_workshop/raw_data/Grafton_20221028/records/221103/channelA_2022-11-03_14-39-52.wav with timestamp 2022-11-03 14:39:52\n",
      "Found file /home/jovyan/work/shared/data/AXOLOTL_workshop/raw_data/Grafton_20221028/records/221103/channelA_2022-11-03_14-50-06.wav with timestamp 2022-11-03 14:50:06\n",
      "Found file /home/jovyan/work/shared/data/AXOLOTL_workshop/raw_data/Grafton_20221028/records/221103/channelA_2022-11-03_15-00-19.wav with timestamp 2022-11-03 15:00:19\n",
      "Found file /home/jovyan/work/shared/data/AXOLOTL_workshop/raw_data/Grafton_20221028/records/221103/channelA_2022-11-03_15-10-33.wav with timestamp 2022-11-03 15:10:33\n",
      "Found file /home/jovyan/work/shared/data/AXOLOTL_workshop/raw_data/Grafton_20221028/records/221103/channelA_2022-11-03_15-20-47.wav with timestamp 2022-11-03 15:20:47\n",
      "Found file /home/jovyan/work/shared/data/AXOLOTL_workshop/raw_data/Grafton_20221028/records/221103/channelA_2022-11-03_15-31-00.wav with timestamp 2022-11-03 15:31:00\n",
      "Found file /home/jovyan/work/shared/data/AXOLOTL_workshop/raw_data/Grafton_20221028/records/221103/channelA_2022-11-03_15-41-14.wav with timestamp 2022-11-03 15:41:14\n",
      "Found file /home/jovyan/work/shared/data/AXOLOTL_workshop/raw_data/Grafton_20221028/records/221103/channelA_2022-11-03_15-51-27.wav with timestamp 2022-11-03 15:51:27\n",
      "Found file /home/jovyan/work/shared/data/AXOLOTL_workshop/raw_data/Grafton_20221028/records/221103/channelA_2022-11-03_16-01-41.wav with timestamp 2022-11-03 16:01:41\n",
      "Found file /home/jovyan/work/shared/data/AXOLOTL_workshop/raw_data/Grafton_20221028/records/221103/channelA_2022-11-03_16-11-55.wav with timestamp 2022-11-03 16:11:55\n",
      "Found file /home/jovyan/work/shared/data/AXOLOTL_workshop/raw_data/Grafton_20221028/records/221103/channelA_2022-11-03_16-22-08.wav with timestamp 2022-11-03 16:22:08\n",
      "Found file /home/jovyan/work/shared/data/AXOLOTL_workshop/raw_data/Grafton_20221028/records/221103/channelA_2022-11-03_16-32-22.wav with timestamp 2022-11-03 16:32:22\n",
      "Found file /home/jovyan/work/shared/data/AXOLOTL_workshop/raw_data/Grafton_20221028/records/221103/channelA_2022-11-03_16-42-35.wav with timestamp 2022-11-03 16:42:35\n",
      "Found file /home/jovyan/work/shared/data/AXOLOTL_workshop/raw_data/Grafton_20221028/records/221103/channelA_2022-11-03_16-52-49.wav with timestamp 2022-11-03 16:52:49\n",
      "Found file /home/jovyan/work/shared/data/AXOLOTL_workshop/raw_data/Grafton_20221028/records/221103/channelA_2022-11-03_17-03-03.wav with timestamp 2022-11-03 17:03:03\n",
      "Found file /home/jovyan/work/shared/data/AXOLOTL_workshop/raw_data/Grafton_20221028/records/221103/channelA_2022-11-03_17-13-16.wav with timestamp 2022-11-03 17:13:16\n"
     ]
    },
    {
     "name": "stderr",
     "output_type": "stream",
     "text": [
      "Searching :  62% (525 of 846) |######    | Elapsed Time: 0:00:00 ETA:   0:00:00"
     ]
    },
    {
     "name": "stdout",
     "output_type": "stream",
     "text": [
      "Found file /home/jovyan/work/shared/data/AXOLOTL_workshop/raw_data/Grafton_20221028/records/221103/channelA_2022-11-03_17-23-30.wav with timestamp 2022-11-03 17:23:30\n",
      "Found file /home/jovyan/work/shared/data/AXOLOTL_workshop/raw_data/Grafton_20221028/records/221103/channelA_2022-11-03_17-33-44.wav with timestamp 2022-11-03 17:33:44\n",
      "Found file /home/jovyan/work/shared/data/AXOLOTL_workshop/raw_data/Grafton_20221028/records/221103/channelA_2022-11-03_17-43-57.wav with timestamp 2022-11-03 17:43:57\n",
      "Found file /home/jovyan/work/shared/data/AXOLOTL_workshop/raw_data/Grafton_20221028/records/221103/channelA_2022-11-03_17-54-11.wav with timestamp 2022-11-03 17:54:11\n",
      "Found file /home/jovyan/work/shared/data/AXOLOTL_workshop/raw_data/Grafton_20221028/records/221103/channelA_2022-11-03_18-04-24.wav with timestamp 2022-11-03 18:04:24\n",
      "Found file /home/jovyan/work/shared/data/AXOLOTL_workshop/raw_data/Grafton_20221028/records/221103/channelA_2022-11-03_18-14-38.wav with timestamp 2022-11-03 18:14:38\n",
      "Found file /home/jovyan/work/shared/data/AXOLOTL_workshop/raw_data/Grafton_20221028/records/221103/channelA_2022-11-03_18-24-52.wav with timestamp 2022-11-03 18:24:52\n",
      "Found file /home/jovyan/work/shared/data/AXOLOTL_workshop/raw_data/Grafton_20221028/records/221103/channelA_2022-11-03_18-35-05.wav with timestamp 2022-11-03 18:35:05\n",
      "Found file /home/jovyan/work/shared/data/AXOLOTL_workshop/raw_data/Grafton_20221028/records/221103/channelA_2022-11-03_18-45-19.wav with timestamp 2022-11-03 18:45:19\n",
      "Found file /home/jovyan/work/shared/data/AXOLOTL_workshop/raw_data/Grafton_20221028/records/221103/channelA_2022-11-03_18-55-33.wav with timestamp 2022-11-03 18:55:33\n",
      "Found file /home/jovyan/work/shared/data/AXOLOTL_workshop/raw_data/Grafton_20221028/records/221103/channelA_2022-11-03_19-05-46.wav with timestamp 2022-11-03 19:05:46\n",
      "Found file /home/jovyan/work/shared/data/AXOLOTL_workshop/raw_data/Grafton_20221028/records/221103/channelA_2022-11-03_19-16-00.wav with timestamp 2022-11-03 19:16:00\n",
      "Found file /home/jovyan/work/shared/data/AXOLOTL_workshop/raw_data/Grafton_20221028/records/221103/channelA_2022-11-03_19-26-13.wav with timestamp 2022-11-03 19:26:13\n",
      "Found file /home/jovyan/work/shared/data/AXOLOTL_workshop/raw_data/Grafton_20221028/records/221103/channelA_2022-11-03_19-36-27.wav with timestamp 2022-11-03 19:36:27\n",
      "Found file /home/jovyan/work/shared/data/AXOLOTL_workshop/raw_data/Grafton_20221028/records/221103/channelA_2022-11-03_19-46-41.wav with timestamp 2022-11-03 19:46:41\n",
      "Found file /home/jovyan/work/shared/data/AXOLOTL_workshop/raw_data/Grafton_20221028/records/221103/channelA_2022-11-03_19-56-54.wav with timestamp 2022-11-03 19:56:54\n",
      "Found file /home/jovyan/work/shared/data/AXOLOTL_workshop/raw_data/Grafton_20221028/records/221103/channelA_2022-11-03_20-07-08.wav with timestamp 2022-11-03 20:07:08\n",
      "Found file /home/jovyan/work/shared/data/AXOLOTL_workshop/raw_data/Grafton_20221028/records/221103/channelA_2022-11-03_20-17-21.wav with timestamp 2022-11-03 20:17:21\n",
      "Found file /home/jovyan/work/shared/data/AXOLOTL_workshop/raw_data/Grafton_20221028/records/221103/channelA_2022-11-03_20-27-35.wav with timestamp 2022-11-03 20:27:35\n",
      "Found file /home/jovyan/work/shared/data/AXOLOTL_workshop/raw_data/Grafton_20221028/records/221103/channelA_2022-11-03_20-37-49.wav with timestamp 2022-11-03 20:37:49\n",
      "Found file /home/jovyan/work/shared/data/AXOLOTL_workshop/raw_data/Grafton_20221028/records/221103/channelA_2022-11-03_20-48-02.wav with timestamp 2022-11-03 20:48:02\n",
      "Found file /home/jovyan/work/shared/data/AXOLOTL_workshop/raw_data/Grafton_20221028/records/221103/channelA_2022-11-03_20-58-16.wav with timestamp 2022-11-03 20:58:16\n",
      "Found file /home/jovyan/work/shared/data/AXOLOTL_workshop/raw_data/Grafton_20221028/records/221103/channelA_2022-11-03_21-08-30.wav with timestamp 2022-11-03 21:08:30\n",
      "Found file /home/jovyan/work/shared/data/AXOLOTL_workshop/raw_data/Grafton_20221028/records/221103/channelA_2022-11-03_21-18-43.wav with timestamp 2022-11-03 21:18:43\n",
      "Found file /home/jovyan/work/shared/data/AXOLOTL_workshop/raw_data/Grafton_20221028/records/221103/channelA_2022-11-03_21-28-57.wav with timestamp 2022-11-03 21:28:57\n",
      "Found file /home/jovyan/work/shared/data/AXOLOTL_workshop/raw_data/Grafton_20221028/records/221103/channelA_2022-11-03_21-39-10.wav with timestamp 2022-11-03 21:39:10\n",
      "Found file /home/jovyan/work/shared/data/AXOLOTL_workshop/raw_data/Grafton_20221028/records/221103/channelA_2022-11-03_21-49-24.wav with timestamp 2022-11-03 21:49:24\n",
      "Found file /home/jovyan/work/shared/data/AXOLOTL_workshop/raw_data/Grafton_20221028/records/221103/channelA_2022-11-03_21-59-38.wav with timestamp 2022-11-03 21:59:38\n",
      "Found file /home/jovyan/work/shared/data/AXOLOTL_workshop/raw_data/Grafton_20221028/records/221103/channelA_2022-11-03_22-09-51.wav with timestamp 2022-11-03 22:09:51\n",
      "Found file /home/jovyan/work/shared/data/AXOLOTL_workshop/raw_data/Grafton_20221028/records/221103/channelA_2022-11-03_22-20-05.wav with timestamp 2022-11-03 22:20:05\n",
      "Found file /home/jovyan/work/shared/data/AXOLOTL_workshop/raw_data/Grafton_20221028/records/221103/channelA_2022-11-03_22-30-19.wav with timestamp 2022-11-03 22:30:19\n",
      "Found file /home/jovyan/work/shared/data/AXOLOTL_workshop/raw_data/Grafton_20221028/records/221103/channelA_2022-11-03_22-40-32.wav with timestamp 2022-11-03 22:40:32\n",
      "Found file /home/jovyan/work/shared/data/AXOLOTL_workshop/raw_data/Grafton_20221028/records/221103/channelA_2022-11-03_22-50-46.wav with timestamp 2022-11-03 22:50:46\n",
      "Found file /home/jovyan/work/shared/data/AXOLOTL_workshop/raw_data/Grafton_20221028/records/221103/channelA_2022-11-03_23-00-59.wav with timestamp 2022-11-03 23:00:59\n",
      "Found file /home/jovyan/work/shared/data/AXOLOTL_workshop/raw_data/Grafton_20221028/records/221103/channelA_2022-11-03_23-11-13.wav with timestamp 2022-11-03 23:11:13\n",
      "Found file /home/jovyan/work/shared/data/AXOLOTL_workshop/raw_data/Grafton_20221028/records/221103/channelA_2022-11-03_23-21-27.wav with timestamp 2022-11-03 23:21:27\n",
      "Found file /home/jovyan/work/shared/data/AXOLOTL_workshop/raw_data/Grafton_20221028/records/221103/channelA_2022-11-03_23-31-40.wav with timestamp 2022-11-03 23:31:40\n",
      "Found file /home/jovyan/work/shared/data/AXOLOTL_workshop/raw_data/Grafton_20221028/records/221103/channelA_2022-11-03_23-41-54.wav with timestamp 2022-11-03 23:41:54\n",
      "Found file /home/jovyan/work/shared/data/AXOLOTL_workshop/raw_data/Grafton_20221028/records/221103/channelA_2022-11-03_23-52-07.wav with timestamp 2022-11-03 23:52:07\n"
     ]
    },
    {
     "name": "stderr",
     "output_type": "stream",
     "text": [
      "Searching : 100% (846 of 846) |##########| Elapsed Time: 0:00:00 Time:  0:00:00\n"
     ]
    },
    {
     "name": "stdout",
     "output_type": "stream",
     "text": [
      "Done correcting metadata for 2022-11-03 00:00:00. Saved to /home/jovyan/work/shared/data/AXOLOTL_workshop/raw_data/Grafton_20221028/metadata/json/2022/20221103.json\n",
      "ReseaMetadataGenerator 20221028 Searching in file:///home/jovyan/work/shared/data/AXOLOTL_workshop/raw_data/Grafton_20221028/records/*.wav for wav files that match the search patterns channelA_* ...\n",
      "ReseaMetadataGenerator 20221028 Searching in file:///home/jovyan/work/shared/data/AXOLOTL_workshop/raw_data/Grafton_20221028/records/*.wav for wav files that match the search patterns channelAC_* ...\n"
     ]
    },
    {
     "name": "stderr",
     "output_type": "stream",
     "text": [
      "Searching : N/A% (0 of 846) |            | Elapsed Time: 0:00:00 ETA:  --:--:--"
     ]
    },
    {
     "name": "stdout",
     "output_type": "stream",
     "text": [
      "Found file /home/jovyan/work/shared/data/AXOLOTL_workshop/raw_data/Grafton_20221028/records/221103/channelA_2022-11-03_23-00-59.wav with timestamp 2022-11-03 23:00:59\n",
      "Found file /home/jovyan/work/shared/data/AXOLOTL_workshop/raw_data/Grafton_20221028/records/221103/channelA_2022-11-03_23-11-13.wav with timestamp 2022-11-03 23:11:13\n",
      "Found file /home/jovyan/work/shared/data/AXOLOTL_workshop/raw_data/Grafton_20221028/records/221103/channelA_2022-11-03_23-21-27.wav with timestamp 2022-11-03 23:21:27\n",
      "Found file /home/jovyan/work/shared/data/AXOLOTL_workshop/raw_data/Grafton_20221028/records/221103/channelA_2022-11-03_23-31-40.wav with timestamp 2022-11-03 23:31:40\n",
      "Found file /home/jovyan/work/shared/data/AXOLOTL_workshop/raw_data/Grafton_20221028/records/221103/channelA_2022-11-03_23-41-54.wav with timestamp 2022-11-03 23:41:54\n",
      "Found file /home/jovyan/work/shared/data/AXOLOTL_workshop/raw_data/Grafton_20221028/records/221103/channelA_2022-11-03_23-52-07.wav with timestamp 2022-11-03 23:52:07\n"
     ]
    },
    {
     "name": "stderr",
     "output_type": "stream",
     "text": [
      "Searching : 100% (846 of 846) |##########| Elapsed Time: 0:00:00 Time:  0:00:00\n"
     ]
    },
    {
     "name": "stdout",
     "output_type": "stream",
     "text": [
      "Done correcting metadata for 2022-11-04 00:00:00. Saved to /home/jovyan/work/shared/data/AXOLOTL_workshop/raw_data/Grafton_20221028/metadata/json/2022/20221104.json\n",
      "ReseaMetadataGenerator 20221028 Searching in file:///home/jovyan/work/shared/data/AXOLOTL_workshop/raw_data/Grafton_20221028/records/*.wav for wav files that match the search patterns channelA_* ...\n",
      "ReseaMetadataGenerator 20221028 Searching in file:///home/jovyan/work/shared/data/AXOLOTL_workshop/raw_data/Grafton_20221028/records/*.wav for wav files that match the search patterns channelAC_* ...\n"
     ]
    },
    {
     "name": "stderr",
     "output_type": "stream",
     "text": [
      "Searching : N/A% (0 of 846) |            | Elapsed Time: 0:00:00 ETA:  --:--:--"
     ]
    },
    {
     "name": "stdout",
     "output_type": "stream",
     "text": [
      "Found file /home/jovyan/work/shared/data/AXOLOTL_workshop/raw_data/Grafton_20221028/records/221105/channelA_2022-11-05_00-00-19.wav with timestamp 2022-11-05 00:00:19\n",
      "Found file /home/jovyan/work/shared/data/AXOLOTL_workshop/raw_data/Grafton_20221028/records/221105/channelA_2022-11-05_00-10-35.wav with timestamp 2022-11-05 00:10:35\n",
      "Found file /home/jovyan/work/shared/data/AXOLOTL_workshop/raw_data/Grafton_20221028/records/221105/channelA_2022-11-05_00-20-48.wav with timestamp 2022-11-05 00:20:48\n",
      "Found file /home/jovyan/work/shared/data/AXOLOTL_workshop/raw_data/Grafton_20221028/records/221105/channelA_2022-11-05_00-31-02.wav with timestamp 2022-11-05 00:31:02\n"
     ]
    },
    {
     "name": "stderr",
     "output_type": "stream",
     "text": [
      "Searching :  67% (568 of 846) |######    | Elapsed Time: 0:00:00 ETA:  00:00:00"
     ]
    },
    {
     "name": "stdout",
     "output_type": "stream",
     "text": [
      "Found file /home/jovyan/work/shared/data/AXOLOTL_workshop/raw_data/Grafton_20221028/records/221105/channelA_2022-11-05_00-41-15.wav with timestamp 2022-11-05 00:41:15\n",
      "Found file /home/jovyan/work/shared/data/AXOLOTL_workshop/raw_data/Grafton_20221028/records/221105/channelA_2022-11-05_00-51-29.wav with timestamp 2022-11-05 00:51:29\n",
      "Found file /home/jovyan/work/shared/data/AXOLOTL_workshop/raw_data/Grafton_20221028/records/221105/channelA_2022-11-05_01-01-43.wav with timestamp 2022-11-05 01:01:43\n",
      "Found file /home/jovyan/work/shared/data/AXOLOTL_workshop/raw_data/Grafton_20221028/records/221105/channelA_2022-11-05_01-11-56.wav with timestamp 2022-11-05 01:11:56\n",
      "Found file /home/jovyan/work/shared/data/AXOLOTL_workshop/raw_data/Grafton_20221028/records/221105/channelA_2022-11-05_01-22-10.wav with timestamp 2022-11-05 01:22:10\n",
      "Found file /home/jovyan/work/shared/data/AXOLOTL_workshop/raw_data/Grafton_20221028/records/221105/channelA_2022-11-05_01-32-23.wav with timestamp 2022-11-05 01:32:23\n",
      "Found file /home/jovyan/work/shared/data/AXOLOTL_workshop/raw_data/Grafton_20221028/records/221105/channelA_2022-11-05_01-42-37.wav with timestamp 2022-11-05 01:42:37\n",
      "Found file /home/jovyan/work/shared/data/AXOLOTL_workshop/raw_data/Grafton_20221028/records/221105/channelA_2022-11-05_01-52-51.wav with timestamp 2022-11-05 01:52:51\n",
      "Found file /home/jovyan/work/shared/data/AXOLOTL_workshop/raw_data/Grafton_20221028/records/221105/channelA_2022-11-05_02-03-04.wav with timestamp 2022-11-05 02:03:04\n",
      "Found file /home/jovyan/work/shared/data/AXOLOTL_workshop/raw_data/Grafton_20221028/records/221105/channelA_2022-11-05_02-13-18.wav with timestamp 2022-11-05 02:13:18\n",
      "Found file /home/jovyan/work/shared/data/AXOLOTL_workshop/raw_data/Grafton_20221028/records/221105/channelA_2022-11-05_02-23-32.wav with timestamp 2022-11-05 02:23:32\n",
      "Found file /home/jovyan/work/shared/data/AXOLOTL_workshop/raw_data/Grafton_20221028/records/221105/channelA_2022-11-05_02-33-45.wav with timestamp 2022-11-05 02:33:45\n",
      "Found file /home/jovyan/work/shared/data/AXOLOTL_workshop/raw_data/Grafton_20221028/records/221105/channelA_2022-11-05_02-43-59.wav with timestamp 2022-11-05 02:43:59\n",
      "Found file /home/jovyan/work/shared/data/AXOLOTL_workshop/raw_data/Grafton_20221028/records/221105/channelA_2022-11-05_02-54-12.wav with timestamp 2022-11-05 02:54:12\n",
      "Found file /home/jovyan/work/shared/data/AXOLOTL_workshop/raw_data/Grafton_20221028/records/221105/channelA_2022-11-05_03-04-26.wav with timestamp 2022-11-05 03:04:26\n",
      "Found file /home/jovyan/work/shared/data/AXOLOTL_workshop/raw_data/Grafton_20221028/records/221105/channelA_2022-11-05_03-14-40.wav with timestamp 2022-11-05 03:14:40\n",
      "Found file /home/jovyan/work/shared/data/AXOLOTL_workshop/raw_data/Grafton_20221028/records/221105/channelA_2022-11-05_03-24-53.wav with timestamp 2022-11-05 03:24:53\n",
      "Found file /home/jovyan/work/shared/data/AXOLOTL_workshop/raw_data/Grafton_20221028/records/221105/channelA_2022-11-05_03-35-07.wav with timestamp 2022-11-05 03:35:07\n",
      "Found file /home/jovyan/work/shared/data/AXOLOTL_workshop/raw_data/Grafton_20221028/records/221105/channelA_2022-11-05_03-45-21.wav with timestamp 2022-11-05 03:45:21\n",
      "Found file /home/jovyan/work/shared/data/AXOLOTL_workshop/raw_data/Grafton_20221028/records/221105/channelA_2022-11-05_03-55-34.wav with timestamp 2022-11-05 03:55:34\n",
      "Found file /home/jovyan/work/shared/data/AXOLOTL_workshop/raw_data/Grafton_20221028/records/221105/channelA_2022-11-05_04-05-48.wav with timestamp 2022-11-05 04:05:48\n",
      "Found file /home/jovyan/work/shared/data/AXOLOTL_workshop/raw_data/Grafton_20221028/records/221105/channelA_2022-11-05_04-16-01.wav with timestamp 2022-11-05 04:16:01\n",
      "Found file /home/jovyan/work/shared/data/AXOLOTL_workshop/raw_data/Grafton_20221028/records/221105/channelA_2022-11-05_04-26-15.wav with timestamp 2022-11-05 04:26:15\n",
      "Found file /home/jovyan/work/shared/data/AXOLOTL_workshop/raw_data/Grafton_20221028/records/221105/channelA_2022-11-05_04-36-29.wav with timestamp 2022-11-05 04:36:29\n",
      "Found file /home/jovyan/work/shared/data/AXOLOTL_workshop/raw_data/Grafton_20221028/records/221105/channelA_2022-11-05_04-46-42.wav with timestamp 2022-11-05 04:46:42\n",
      "Found file /home/jovyan/work/shared/data/AXOLOTL_workshop/raw_data/Grafton_20221028/records/221105/channelA_2022-11-05_04-56-56.wav with timestamp 2022-11-05 04:56:56\n",
      "Found file /home/jovyan/work/shared/data/AXOLOTL_workshop/raw_data/Grafton_20221028/records/221105/channelA_2022-11-05_05-07-09.wav with timestamp 2022-11-05 05:07:09\n",
      "Found file /home/jovyan/work/shared/data/AXOLOTL_workshop/raw_data/Grafton_20221028/records/221105/channelA_2022-11-05_05-17-23.wav with timestamp 2022-11-05 05:17:23\n",
      "Found file /home/jovyan/work/shared/data/AXOLOTL_workshop/raw_data/Grafton_20221028/records/221105/channelA_2022-11-05_05-27-37.wav with timestamp 2022-11-05 05:27:37\n",
      "Found file /home/jovyan/work/shared/data/AXOLOTL_workshop/raw_data/Grafton_20221028/records/221105/channelA_2022-11-05_05-37-50.wav with timestamp 2022-11-05 05:37:50\n",
      "Found file /home/jovyan/work/shared/data/AXOLOTL_workshop/raw_data/Grafton_20221028/records/221105/channelA_2022-11-05_05-48-04.wav with timestamp 2022-11-05 05:48:04\n",
      "Found file /home/jovyan/work/shared/data/AXOLOTL_workshop/raw_data/Grafton_20221028/records/221105/channelA_2022-11-05_05-58-18.wav with timestamp 2022-11-05 05:58:18\n",
      "Found file /home/jovyan/work/shared/data/AXOLOTL_workshop/raw_data/Grafton_20221028/records/221105/channelA_2022-11-05_06-08-31.wav with timestamp 2022-11-05 06:08:31\n",
      "Found file /home/jovyan/work/shared/data/AXOLOTL_workshop/raw_data/Grafton_20221028/records/221105/channelA_2022-11-05_06-18-45.wav with timestamp 2022-11-05 06:18:45\n",
      "Found file /home/jovyan/work/shared/data/AXOLOTL_workshop/raw_data/Grafton_20221028/records/221105/channelA_2022-11-05_06-28-58.wav with timestamp 2022-11-05 06:28:58\n",
      "Found file /home/jovyan/work/shared/data/AXOLOTL_workshop/raw_data/Grafton_20221028/records/221105/channelA_2022-11-05_06-39-12.wav with timestamp 2022-11-05 06:39:12\n",
      "Found file /home/jovyan/work/shared/data/AXOLOTL_workshop/raw_data/Grafton_20221028/records/221105/channelA_2022-11-05_06-49-26.wav with timestamp 2022-11-05 06:49:26\n",
      "Found file /home/jovyan/work/shared/data/AXOLOTL_workshop/raw_data/Grafton_20221028/records/221105/channelA_2022-11-05_06-59-39.wav with timestamp 2022-11-05 06:59:39\n",
      "Found file /home/jovyan/work/shared/data/AXOLOTL_workshop/raw_data/Grafton_20221028/records/221105/channelA_2022-11-05_07-09-53.wav with timestamp 2022-11-05 07:09:53\n",
      "Found file /home/jovyan/work/shared/data/AXOLOTL_workshop/raw_data/Grafton_20221028/records/221105/channelA_2022-11-05_07-20-07.wav with timestamp 2022-11-05 07:20:07\n",
      "Found file /home/jovyan/work/shared/data/AXOLOTL_workshop/raw_data/Grafton_20221028/records/221105/channelA_2022-11-05_07-30-20.wav with timestamp 2022-11-05 07:30:20\n",
      "Found file /home/jovyan/work/shared/data/AXOLOTL_workshop/raw_data/Grafton_20221028/records/221105/channelA_2022-11-05_07-40-34.wav with timestamp 2022-11-05 07:40:34\n",
      "Found file /home/jovyan/work/shared/data/AXOLOTL_workshop/raw_data/Grafton_20221028/records/221105/channelA_2022-11-05_07-50-47.wav with timestamp 2022-11-05 07:50:47\n"
     ]
    },
    {
     "name": "stderr",
     "output_type": "stream",
     "text": [
      "Searching :  72% (611 of 846) |#######   | Elapsed Time: 0:00:00 ETA:   0:00:00"
     ]
    },
    {
     "name": "stdout",
     "output_type": "stream",
     "text": [
      "Found file /home/jovyan/work/shared/data/AXOLOTL_workshop/raw_data/Grafton_20221028/records/221105/channelA_2022-11-05_08-01-01.wav with timestamp 2022-11-05 08:01:01\n",
      "Found file /home/jovyan/work/shared/data/AXOLOTL_workshop/raw_data/Grafton_20221028/records/221105/channelA_2022-11-05_08-11-15.wav with timestamp 2022-11-05 08:11:15\n",
      "Found file /home/jovyan/work/shared/data/AXOLOTL_workshop/raw_data/Grafton_20221028/records/221105/channelA_2022-11-05_08-21-28.wav with timestamp 2022-11-05 08:21:28\n",
      "Found file /home/jovyan/work/shared/data/AXOLOTL_workshop/raw_data/Grafton_20221028/records/221105/channelA_2022-11-05_08-31-42.wav with timestamp 2022-11-05 08:31:42\n",
      "Found file /home/jovyan/work/shared/data/AXOLOTL_workshop/raw_data/Grafton_20221028/records/221105/channelA_2022-11-05_08-41-55.wav with timestamp 2022-11-05 08:41:55\n",
      "Found file /home/jovyan/work/shared/data/AXOLOTL_workshop/raw_data/Grafton_20221028/records/221105/channelA_2022-11-05_08-52-09.wav with timestamp 2022-11-05 08:52:09\n",
      "Found file /home/jovyan/work/shared/data/AXOLOTL_workshop/raw_data/Grafton_20221028/records/221105/channelA_2022-11-05_09-02-23.wav with timestamp 2022-11-05 09:02:23\n",
      "Found file /home/jovyan/work/shared/data/AXOLOTL_workshop/raw_data/Grafton_20221028/records/221105/channelA_2022-11-05_09-12-36.wav with timestamp 2022-11-05 09:12:36\n",
      "Found file /home/jovyan/work/shared/data/AXOLOTL_workshop/raw_data/Grafton_20221028/records/221105/channelA_2022-11-05_09-22-50.wav with timestamp 2022-11-05 09:22:50\n",
      "Found file /home/jovyan/work/shared/data/AXOLOTL_workshop/raw_data/Grafton_20221028/records/221105/channelA_2022-11-05_09-33-04.wav with timestamp 2022-11-05 09:33:04\n",
      "Found file /home/jovyan/work/shared/data/AXOLOTL_workshop/raw_data/Grafton_20221028/records/221105/channelA_2022-11-05_09-43-17.wav with timestamp 2022-11-05 09:43:17\n",
      "Found file /home/jovyan/work/shared/data/AXOLOTL_workshop/raw_data/Grafton_20221028/records/221105/channelA_2022-11-05_09-53-31.wav with timestamp 2022-11-05 09:53:31\n",
      "Found file /home/jovyan/work/shared/data/AXOLOTL_workshop/raw_data/Grafton_20221028/records/221105/channelA_2022-11-05_10-03-44.wav with timestamp 2022-11-05 10:03:44\n",
      "Found file /home/jovyan/work/shared/data/AXOLOTL_workshop/raw_data/Grafton_20221028/records/221105/channelA_2022-11-05_10-13-58.wav with timestamp 2022-11-05 10:13:58\n",
      "Found file /home/jovyan/work/shared/data/AXOLOTL_workshop/raw_data/Grafton_20221028/records/221105/channelA_2022-11-05_10-24-12.wav with timestamp 2022-11-05 10:24:12\n",
      "Found file /home/jovyan/work/shared/data/AXOLOTL_workshop/raw_data/Grafton_20221028/records/221105/channelA_2022-11-05_10-34-25.wav with timestamp 2022-11-05 10:34:25\n",
      "Found file /home/jovyan/work/shared/data/AXOLOTL_workshop/raw_data/Grafton_20221028/records/221105/channelA_2022-11-05_10-44-39.wav with timestamp 2022-11-05 10:44:39\n",
      "Found file /home/jovyan/work/shared/data/AXOLOTL_workshop/raw_data/Grafton_20221028/records/221105/channelA_2022-11-05_10-54-53.wav with timestamp 2022-11-05 10:54:53\n",
      "Found file /home/jovyan/work/shared/data/AXOLOTL_workshop/raw_data/Grafton_20221028/records/221105/channelA_2022-11-05_11-05-06.wav with timestamp 2022-11-05 11:05:06\n",
      "Found file /home/jovyan/work/shared/data/AXOLOTL_workshop/raw_data/Grafton_20221028/records/221105/channelA_2022-11-05_11-15-20.wav with timestamp 2022-11-05 11:15:20\n",
      "Found file /home/jovyan/work/shared/data/AXOLOTL_workshop/raw_data/Grafton_20221028/records/221105/channelA_2022-11-05_11-25-33.wav with timestamp 2022-11-05 11:25:33\n",
      "Found file /home/jovyan/work/shared/data/AXOLOTL_workshop/raw_data/Grafton_20221028/records/221105/channelA_2022-11-05_11-35-47.wav with timestamp 2022-11-05 11:35:47\n",
      "Found file /home/jovyan/work/shared/data/AXOLOTL_workshop/raw_data/Grafton_20221028/records/221105/channelA_2022-11-05_11-46-01.wav with timestamp 2022-11-05 11:46:01\n",
      "Found file /home/jovyan/work/shared/data/AXOLOTL_workshop/raw_data/Grafton_20221028/records/221105/channelA_2022-11-05_11-56-14.wav with timestamp 2022-11-05 11:56:14\n",
      "Found file /home/jovyan/work/shared/data/AXOLOTL_workshop/raw_data/Grafton_20221028/records/221105/channelA_2022-11-05_12-06-28.wav with timestamp 2022-11-05 12:06:28\n",
      "Found file /home/jovyan/work/shared/data/AXOLOTL_workshop/raw_data/Grafton_20221028/records/221105/channelA_2022-11-05_12-16-41.wav with timestamp 2022-11-05 12:16:41\n",
      "Found file /home/jovyan/work/shared/data/AXOLOTL_workshop/raw_data/Grafton_20221028/records/221105/channelA_2022-11-05_12-26-55.wav with timestamp 2022-11-05 12:26:55\n",
      "Found file /home/jovyan/work/shared/data/AXOLOTL_workshop/raw_data/Grafton_20221028/records/221105/channelA_2022-11-05_12-37-09.wav with timestamp 2022-11-05 12:37:09\n",
      "Found file /home/jovyan/work/shared/data/AXOLOTL_workshop/raw_data/Grafton_20221028/records/221105/channelA_2022-11-05_12-47-22.wav with timestamp 2022-11-05 12:47:22\n",
      "Found file /home/jovyan/work/shared/data/AXOLOTL_workshop/raw_data/Grafton_20221028/records/221105/channelA_2022-11-05_12-57-36.wav with timestamp 2022-11-05 12:57:36\n",
      "Found file /home/jovyan/work/shared/data/AXOLOTL_workshop/raw_data/Grafton_20221028/records/221105/channelA_2022-11-05_13-07-50.wav with timestamp 2022-11-05 13:07:50\n",
      "Found file /home/jovyan/work/shared/data/AXOLOTL_workshop/raw_data/Grafton_20221028/records/221105/channelA_2022-11-05_13-18-03.wav with timestamp 2022-11-05 13:18:03\n",
      "Found file /home/jovyan/work/shared/data/AXOLOTL_workshop/raw_data/Grafton_20221028/records/221105/channelA_2022-11-05_13-28-17.wav with timestamp 2022-11-05 13:28:17\n",
      "Found file /home/jovyan/work/shared/data/AXOLOTL_workshop/raw_data/Grafton_20221028/records/221105/channelA_2022-11-05_13-38-30.wav with timestamp 2022-11-05 13:38:30\n",
      "Found file /home/jovyan/work/shared/data/AXOLOTL_workshop/raw_data/Grafton_20221028/records/221105/channelA_2022-11-05_13-48-44.wav with timestamp 2022-11-05 13:48:44\n",
      "Found file /home/jovyan/work/shared/data/AXOLOTL_workshop/raw_data/Grafton_20221028/records/221105/channelA_2022-11-05_13-58-58.wav with timestamp 2022-11-05 13:58:58\n",
      "Found file /home/jovyan/work/shared/data/AXOLOTL_workshop/raw_data/Grafton_20221028/records/221105/channelA_2022-11-05_14-09-11.wav with timestamp 2022-11-05 14:09:11\n",
      "Found file /home/jovyan/work/shared/data/AXOLOTL_workshop/raw_data/Grafton_20221028/records/221105/channelA_2022-11-05_14-19-25.wav with timestamp 2022-11-05 14:19:25\n",
      "Found file /home/jovyan/work/shared/data/AXOLOTL_workshop/raw_data/Grafton_20221028/records/221105/channelA_2022-11-05_14-29-38.wav with timestamp 2022-11-05 14:29:38\n",
      "Found file /home/jovyan/work/shared/data/AXOLOTL_workshop/raw_data/Grafton_20221028/records/221105/channelA_2022-11-05_14-39-52.wav with timestamp 2022-11-05 14:39:52\n",
      "Found file /home/jovyan/work/shared/data/AXOLOTL_workshop/raw_data/Grafton_20221028/records/221105/channelA_2022-11-05_14-50-06.wav with timestamp 2022-11-05 14:50:06\n",
      "Found file /home/jovyan/work/shared/data/AXOLOTL_workshop/raw_data/Grafton_20221028/records/221105/channelA_2022-11-05_15-00-20.wav with timestamp 2022-11-05 15:00:20\n",
      "Found file /home/jovyan/work/shared/data/AXOLOTL_workshop/raw_data/Grafton_20221028/records/221105/channelA_2022-11-05_15-10-33.wav with timestamp 2022-11-05 15:10:33\n"
     ]
    },
    {
     "name": "stderr",
     "output_type": "stream",
     "text": [
      "Searching :  77% (654 of 846) |#######   | Elapsed Time: 0:00:00 ETA:   0:00:00"
     ]
    },
    {
     "name": "stdout",
     "output_type": "stream",
     "text": [
      "Found file /home/jovyan/work/shared/data/AXOLOTL_workshop/raw_data/Grafton_20221028/records/221105/channelA_2022-11-05_15-20-47.wav with timestamp 2022-11-05 15:20:47\n",
      "Found file /home/jovyan/work/shared/data/AXOLOTL_workshop/raw_data/Grafton_20221028/records/221105/channelA_2022-11-05_15-31-00.wav with timestamp 2022-11-05 15:31:00\n",
      "Found file /home/jovyan/work/shared/data/AXOLOTL_workshop/raw_data/Grafton_20221028/records/221105/channelA_2022-11-05_15-41-14.wav with timestamp 2022-11-05 15:41:14\n",
      "Found file /home/jovyan/work/shared/data/AXOLOTL_workshop/raw_data/Grafton_20221028/records/221105/channelA_2022-11-05_15-51-27.wav with timestamp 2022-11-05 15:51:27\n",
      "Found file /home/jovyan/work/shared/data/AXOLOTL_workshop/raw_data/Grafton_20221028/records/221105/channelA_2022-11-05_16-01-41.wav with timestamp 2022-11-05 16:01:41\n",
      "Found file /home/jovyan/work/shared/data/AXOLOTL_workshop/raw_data/Grafton_20221028/records/221105/channelA_2022-11-05_16-11-55.wav with timestamp 2022-11-05 16:11:55\n",
      "Found file /home/jovyan/work/shared/data/AXOLOTL_workshop/raw_data/Grafton_20221028/records/221105/channelA_2022-11-05_16-22-08.wav with timestamp 2022-11-05 16:22:08\n",
      "Found file /home/jovyan/work/shared/data/AXOLOTL_workshop/raw_data/Grafton_20221028/records/221105/channelA_2022-11-05_16-32-22.wav with timestamp 2022-11-05 16:32:22\n",
      "Found file /home/jovyan/work/shared/data/AXOLOTL_workshop/raw_data/Grafton_20221028/records/221105/channelA_2022-11-05_16-42-36.wav with timestamp 2022-11-05 16:42:36\n",
      "Found file /home/jovyan/work/shared/data/AXOLOTL_workshop/raw_data/Grafton_20221028/records/221105/channelA_2022-11-05_16-52-49.wav with timestamp 2022-11-05 16:52:49\n",
      "Found file /home/jovyan/work/shared/data/AXOLOTL_workshop/raw_data/Grafton_20221028/records/221105/channelA_2022-11-05_17-03-03.wav with timestamp 2022-11-05 17:03:03\n",
      "Found file /home/jovyan/work/shared/data/AXOLOTL_workshop/raw_data/Grafton_20221028/records/221105/channelA_2022-11-05_17-13-16.wav with timestamp 2022-11-05 17:13:16\n",
      "Found file /home/jovyan/work/shared/data/AXOLOTL_workshop/raw_data/Grafton_20221028/records/221105/channelA_2022-11-05_17-23-30.wav with timestamp 2022-11-05 17:23:30\n",
      "Found file /home/jovyan/work/shared/data/AXOLOTL_workshop/raw_data/Grafton_20221028/records/221105/channelA_2022-11-05_17-33-44.wav with timestamp 2022-11-05 17:33:44\n",
      "Found file /home/jovyan/work/shared/data/AXOLOTL_workshop/raw_data/Grafton_20221028/records/221105/channelA_2022-11-05_17-43-57.wav with timestamp 2022-11-05 17:43:57\n",
      "Found file /home/jovyan/work/shared/data/AXOLOTL_workshop/raw_data/Grafton_20221028/records/221105/channelA_2022-11-05_17-54-11.wav with timestamp 2022-11-05 17:54:11\n",
      "Found file /home/jovyan/work/shared/data/AXOLOTL_workshop/raw_data/Grafton_20221028/records/221105/channelA_2022-11-05_18-04-24.wav with timestamp 2022-11-05 18:04:24\n",
      "Found file /home/jovyan/work/shared/data/AXOLOTL_workshop/raw_data/Grafton_20221028/records/221105/channelA_2022-11-05_18-14-38.wav with timestamp 2022-11-05 18:14:38\n",
      "Found file /home/jovyan/work/shared/data/AXOLOTL_workshop/raw_data/Grafton_20221028/records/221105/channelA_2022-11-05_18-24-52.wav with timestamp 2022-11-05 18:24:52\n",
      "Found file /home/jovyan/work/shared/data/AXOLOTL_workshop/raw_data/Grafton_20221028/records/221105/channelA_2022-11-05_18-35-05.wav with timestamp 2022-11-05 18:35:05\n",
      "Found file /home/jovyan/work/shared/data/AXOLOTL_workshop/raw_data/Grafton_20221028/records/221105/channelA_2022-11-05_18-45-19.wav with timestamp 2022-11-05 18:45:19\n",
      "Found file /home/jovyan/work/shared/data/AXOLOTL_workshop/raw_data/Grafton_20221028/records/221105/channelA_2022-11-05_18-55-33.wav with timestamp 2022-11-05 18:55:33\n",
      "Found file /home/jovyan/work/shared/data/AXOLOTL_workshop/raw_data/Grafton_20221028/records/221105/channelA_2022-11-05_19-05-46.wav with timestamp 2022-11-05 19:05:46\n",
      "Found file /home/jovyan/work/shared/data/AXOLOTL_workshop/raw_data/Grafton_20221028/records/221105/channelA_2022-11-05_19-16-00.wav with timestamp 2022-11-05 19:16:00\n",
      "Found file /home/jovyan/work/shared/data/AXOLOTL_workshop/raw_data/Grafton_20221028/records/221105/channelA_2022-11-05_19-26-13.wav with timestamp 2022-11-05 19:26:13\n",
      "Found file /home/jovyan/work/shared/data/AXOLOTL_workshop/raw_data/Grafton_20221028/records/221105/channelA_2022-11-05_19-36-27.wav with timestamp 2022-11-05 19:36:27\n",
      "Found file /home/jovyan/work/shared/data/AXOLOTL_workshop/raw_data/Grafton_20221028/records/221105/channelA_2022-11-05_19-46-41.wav with timestamp 2022-11-05 19:46:41\n",
      "Found file /home/jovyan/work/shared/data/AXOLOTL_workshop/raw_data/Grafton_20221028/records/221105/channelA_2022-11-05_19-56-54.wav with timestamp 2022-11-05 19:56:54\n",
      "Found file /home/jovyan/work/shared/data/AXOLOTL_workshop/raw_data/Grafton_20221028/records/221105/channelA_2022-11-05_20-07-08.wav with timestamp 2022-11-05 20:07:08\n",
      "Found file /home/jovyan/work/shared/data/AXOLOTL_workshop/raw_data/Grafton_20221028/records/221105/channelA_2022-11-05_20-17-22.wav with timestamp 2022-11-05 20:17:22\n",
      "Found file /home/jovyan/work/shared/data/AXOLOTL_workshop/raw_data/Grafton_20221028/records/221105/channelA_2022-11-05_20-27-35.wav with timestamp 2022-11-05 20:27:35\n",
      "Found file /home/jovyan/work/shared/data/AXOLOTL_workshop/raw_data/Grafton_20221028/records/221105/channelA_2022-11-05_20-37-49.wav with timestamp 2022-11-05 20:37:49\n",
      "Found file /home/jovyan/work/shared/data/AXOLOTL_workshop/raw_data/Grafton_20221028/records/221105/channelA_2022-11-05_20-48-02.wav with timestamp 2022-11-05 20:48:02\n",
      "Found file /home/jovyan/work/shared/data/AXOLOTL_workshop/raw_data/Grafton_20221028/records/221105/channelA_2022-11-05_20-58-16.wav with timestamp 2022-11-05 20:58:16\n",
      "Found file /home/jovyan/work/shared/data/AXOLOTL_workshop/raw_data/Grafton_20221028/records/221105/channelA_2022-11-05_21-08-30.wav with timestamp 2022-11-05 21:08:30\n",
      "Found file /home/jovyan/work/shared/data/AXOLOTL_workshop/raw_data/Grafton_20221028/records/221105/channelA_2022-11-05_21-18-43.wav with timestamp 2022-11-05 21:18:43\n",
      "Found file /home/jovyan/work/shared/data/AXOLOTL_workshop/raw_data/Grafton_20221028/records/221105/channelA_2022-11-05_21-28-57.wav with timestamp 2022-11-05 21:28:57\n",
      "Found file /home/jovyan/work/shared/data/AXOLOTL_workshop/raw_data/Grafton_20221028/records/221105/channelA_2022-11-05_21-39-10.wav with timestamp 2022-11-05 21:39:10\n",
      "Found file /home/jovyan/work/shared/data/AXOLOTL_workshop/raw_data/Grafton_20221028/records/221105/channelA_2022-11-05_21-49-24.wav with timestamp 2022-11-05 21:49:24\n",
      "Found file /home/jovyan/work/shared/data/AXOLOTL_workshop/raw_data/Grafton_20221028/records/221105/channelA_2022-11-05_21-59-38.wav with timestamp 2022-11-05 21:59:38\n",
      "Found file /home/jovyan/work/shared/data/AXOLOTL_workshop/raw_data/Grafton_20221028/records/221105/channelA_2022-11-05_22-09-51.wav with timestamp 2022-11-05 22:09:51\n",
      "Found file /home/jovyan/work/shared/data/AXOLOTL_workshop/raw_data/Grafton_20221028/records/221105/channelA_2022-11-05_22-20-05.wav with timestamp 2022-11-05 22:20:05\n",
      "Found file /home/jovyan/work/shared/data/AXOLOTL_workshop/raw_data/Grafton_20221028/records/221105/channelA_2022-11-05_22-30-19.wav with timestamp 2022-11-05 22:30:19\n"
     ]
    },
    {
     "name": "stderr",
     "output_type": "stream",
     "text": [
      "Searching :  82% (697 of 846) |########  | Elapsed Time: 0:00:00 ETA:   0:00:00"
     ]
    },
    {
     "name": "stdout",
     "output_type": "stream",
     "text": [
      "Found file /home/jovyan/work/shared/data/AXOLOTL_workshop/raw_data/Grafton_20221028/records/221105/channelA_2022-11-05_22-40-32.wav with timestamp 2022-11-05 22:40:32\n",
      "Found file /home/jovyan/work/shared/data/AXOLOTL_workshop/raw_data/Grafton_20221028/records/221105/channelA_2022-11-05_22-50-46.wav with timestamp 2022-11-05 22:50:46\n",
      "Found file /home/jovyan/work/shared/data/AXOLOTL_workshop/raw_data/Grafton_20221028/records/221105/channelA_2022-11-05_23-00-59.wav with timestamp 2022-11-05 23:00:59\n",
      "Found file /home/jovyan/work/shared/data/AXOLOTL_workshop/raw_data/Grafton_20221028/records/221105/channelA_2022-11-05_23-11-13.wav with timestamp 2022-11-05 23:11:13\n",
      "Found file /home/jovyan/work/shared/data/AXOLOTL_workshop/raw_data/Grafton_20221028/records/221105/channelA_2022-11-05_23-21-27.wav with timestamp 2022-11-05 23:21:27\n",
      "Found file /home/jovyan/work/shared/data/AXOLOTL_workshop/raw_data/Grafton_20221028/records/221105/channelA_2022-11-05_23-31-40.wav with timestamp 2022-11-05 23:31:40\n",
      "Found file /home/jovyan/work/shared/data/AXOLOTL_workshop/raw_data/Grafton_20221028/records/221105/channelA_2022-11-05_23-41-54.wav with timestamp 2022-11-05 23:41:54\n",
      "Found file /home/jovyan/work/shared/data/AXOLOTL_workshop/raw_data/Grafton_20221028/records/221105/channelA_2022-11-05_23-52-08.wav with timestamp 2022-11-05 23:52:08\n"
     ]
    },
    {
     "name": "stderr",
     "output_type": "stream",
     "text": [
      "Searching : 100% (846 of 846) |##########| Elapsed Time: 0:00:00 Time:  0:00:00\n"
     ]
    },
    {
     "name": "stdout",
     "output_type": "stream",
     "text": [
      "Done correcting metadata for 2022-11-05 00:00:00. Saved to /home/jovyan/work/shared/data/AXOLOTL_workshop/raw_data/Grafton_20221028/metadata/json/2022/20221105.json\n",
      "ReseaMetadataGenerator 20221028 Searching in file:///home/jovyan/work/shared/data/AXOLOTL_workshop/raw_data/Grafton_20221028/records/*.wav for wav files that match the search patterns channelA_* ...\n",
      "ReseaMetadataGenerator 20221028 Searching in file:///home/jovyan/work/shared/data/AXOLOTL_workshop/raw_data/Grafton_20221028/records/*.wav for wav files that match the search patterns channelAC_* ...\n"
     ]
    },
    {
     "name": "stderr",
     "output_type": "stream",
     "text": [
      "Searching :  74% (632 of 846) |#######   | Elapsed Time: 0:00:00 ETA:  00:00:00"
     ]
    },
    {
     "name": "stdout",
     "output_type": "stream",
     "text": [
      "Found file /home/jovyan/work/shared/data/AXOLOTL_workshop/raw_data/Grafton_20221028/records/221105/channelA_2022-11-05_23-00-59.wav with timestamp 2022-11-05 23:00:59\n",
      "Found file /home/jovyan/work/shared/data/AXOLOTL_workshop/raw_data/Grafton_20221028/records/221105/channelA_2022-11-05_23-11-13.wav with timestamp 2022-11-05 23:11:13\n",
      "Found file /home/jovyan/work/shared/data/AXOLOTL_workshop/raw_data/Grafton_20221028/records/221105/channelA_2022-11-05_23-21-27.wav with timestamp 2022-11-05 23:21:27\n",
      "Found file /home/jovyan/work/shared/data/AXOLOTL_workshop/raw_data/Grafton_20221028/records/221105/channelA_2022-11-05_23-31-40.wav with timestamp 2022-11-05 23:31:40\n",
      "Found file /home/jovyan/work/shared/data/AXOLOTL_workshop/raw_data/Grafton_20221028/records/221105/channelA_2022-11-05_23-41-54.wav with timestamp 2022-11-05 23:41:54\n",
      "Found file /home/jovyan/work/shared/data/AXOLOTL_workshop/raw_data/Grafton_20221028/records/221105/channelA_2022-11-05_23-52-08.wav with timestamp 2022-11-05 23:52:08\n"
     ]
    },
    {
     "name": "stderr",
     "output_type": "stream",
     "text": [
      "Searching : 100% (846 of 846) |##########| Elapsed Time: 0:00:00 Time:  0:00:00\n"
     ]
    },
    {
     "name": "stdout",
     "output_type": "stream",
     "text": [
      "Done correcting metadata for 2022-11-06 00:00:00. Saved to /home/jovyan/work/shared/data/AXOLOTL_workshop/raw_data/Grafton_20221028/metadata/json/2022/20221106.json\n",
      "ReseaMetadataGenerator 20221028 Searching in file:///home/jovyan/work/shared/data/AXOLOTL_workshop/raw_data/Grafton_20221028/records/*.wav for wav files that match the search patterns channelA_* ...\n",
      "ReseaMetadataGenerator 20221028 Searching in file:///home/jovyan/work/shared/data/AXOLOTL_workshop/raw_data/Grafton_20221028/records/*.wav for wav files that match the search patterns channelAC_* ...\n"
     ]
    },
    {
     "name": "stderr",
     "output_type": "stream",
     "text": [
      "Searching :  74% (632 of 846) |#######   | Elapsed Time: 0:00:00 ETA:  00:00:00"
     ]
    },
    {
     "name": "stdout",
     "output_type": "stream",
     "text": [
      "Found file /home/jovyan/work/shared/data/AXOLOTL_workshop/raw_data/Grafton_20221028/records/221107/channelA_2022-11-07_00-00-19.wav with timestamp 2022-11-07 00:00:19\n",
      "Found file /home/jovyan/work/shared/data/AXOLOTL_workshop/raw_data/Grafton_20221028/records/221107/channelA_2022-11-07_00-10-34.wav with timestamp 2022-11-07 00:10:34\n",
      "Found file /home/jovyan/work/shared/data/AXOLOTL_workshop/raw_data/Grafton_20221028/records/221107/channelA_2022-11-07_00-20-48.wav with timestamp 2022-11-07 00:20:48\n",
      "Found file /home/jovyan/work/shared/data/AXOLOTL_workshop/raw_data/Grafton_20221028/records/221107/channelA_2022-11-07_00-31-02.wav with timestamp 2022-11-07 00:31:02\n",
      "Found file /home/jovyan/work/shared/data/AXOLOTL_workshop/raw_data/Grafton_20221028/records/221107/channelA_2022-11-07_00-41-15.wav with timestamp 2022-11-07 00:41:15\n",
      "Found file /home/jovyan/work/shared/data/AXOLOTL_workshop/raw_data/Grafton_20221028/records/221107/channelA_2022-11-07_00-51-29.wav with timestamp 2022-11-07 00:51:29\n",
      "Found file /home/jovyan/work/shared/data/AXOLOTL_workshop/raw_data/Grafton_20221028/records/221107/channelA_2022-11-07_01-01-43.wav with timestamp 2022-11-07 01:01:43\n",
      "Found file /home/jovyan/work/shared/data/AXOLOTL_workshop/raw_data/Grafton_20221028/records/221107/channelA_2022-11-07_01-11-56.wav with timestamp 2022-11-07 01:11:56\n",
      "Found file /home/jovyan/work/shared/data/AXOLOTL_workshop/raw_data/Grafton_20221028/records/221107/channelA_2022-11-07_01-22-10.wav with timestamp 2022-11-07 01:22:10\n",
      "Found file /home/jovyan/work/shared/data/AXOLOTL_workshop/raw_data/Grafton_20221028/records/221107/channelA_2022-11-07_01-32-23.wav with timestamp 2022-11-07 01:32:23\n",
      "Found file /home/jovyan/work/shared/data/AXOLOTL_workshop/raw_data/Grafton_20221028/records/221107/channelA_2022-11-07_01-42-37.wav with timestamp 2022-11-07 01:42:37\n",
      "Found file /home/jovyan/work/shared/data/AXOLOTL_workshop/raw_data/Grafton_20221028/records/221107/channelA_2022-11-07_01-52-51.wav with timestamp 2022-11-07 01:52:51\n",
      "Found file /home/jovyan/work/shared/data/AXOLOTL_workshop/raw_data/Grafton_20221028/records/221107/channelA_2022-11-07_02-03-04.wav with timestamp 2022-11-07 02:03:04\n",
      "Found file /home/jovyan/work/shared/data/AXOLOTL_workshop/raw_data/Grafton_20221028/records/221107/channelA_2022-11-07_02-13-18.wav with timestamp 2022-11-07 02:13:18\n",
      "Found file /home/jovyan/work/shared/data/AXOLOTL_workshop/raw_data/Grafton_20221028/records/221107/channelA_2022-11-07_02-23-32.wav with timestamp 2022-11-07 02:23:32\n",
      "Found file /home/jovyan/work/shared/data/AXOLOTL_workshop/raw_data/Grafton_20221028/records/221107/channelA_2022-11-07_02-33-45.wav with timestamp 2022-11-07 02:33:45\n",
      "Found file /home/jovyan/work/shared/data/AXOLOTL_workshop/raw_data/Grafton_20221028/records/221107/channelA_2022-11-07_02-43-59.wav with timestamp 2022-11-07 02:43:59\n",
      "Found file /home/jovyan/work/shared/data/AXOLOTL_workshop/raw_data/Grafton_20221028/records/221107/channelA_2022-11-07_02-54-12.wav with timestamp 2022-11-07 02:54:12\n",
      "Found file /home/jovyan/work/shared/data/AXOLOTL_workshop/raw_data/Grafton_20221028/records/221107/channelA_2022-11-07_03-04-26.wav with timestamp 2022-11-07 03:04:26\n",
      "Found file /home/jovyan/work/shared/data/AXOLOTL_workshop/raw_data/Grafton_20221028/records/221107/channelA_2022-11-07_03-14-40.wav with timestamp 2022-11-07 03:14:40\n",
      "Found file /home/jovyan/work/shared/data/AXOLOTL_workshop/raw_data/Grafton_20221028/records/221107/channelA_2022-11-07_03-24-53.wav with timestamp 2022-11-07 03:24:53\n",
      "Found file /home/jovyan/work/shared/data/AXOLOTL_workshop/raw_data/Grafton_20221028/records/221107/channelA_2022-11-07_03-35-07.wav with timestamp 2022-11-07 03:35:07\n",
      "Found file /home/jovyan/work/shared/data/AXOLOTL_workshop/raw_data/Grafton_20221028/records/221107/channelA_2022-11-07_03-45-20.wav with timestamp 2022-11-07 03:45:20\n",
      "Found file /home/jovyan/work/shared/data/AXOLOTL_workshop/raw_data/Grafton_20221028/records/221107/channelA_2022-11-07_03-55-34.wav with timestamp 2022-11-07 03:55:34\n",
      "Found file /home/jovyan/work/shared/data/AXOLOTL_workshop/raw_data/Grafton_20221028/records/221107/channelA_2022-11-07_04-05-48.wav with timestamp 2022-11-07 04:05:48\n",
      "Found file /home/jovyan/work/shared/data/AXOLOTL_workshop/raw_data/Grafton_20221028/records/221107/channelA_2022-11-07_04-16-01.wav with timestamp 2022-11-07 04:16:01\n",
      "Found file /home/jovyan/work/shared/data/AXOLOTL_workshop/raw_data/Grafton_20221028/records/221107/channelA_2022-11-07_04-26-15.wav with timestamp 2022-11-07 04:26:15\n",
      "Found file /home/jovyan/work/shared/data/AXOLOTL_workshop/raw_data/Grafton_20221028/records/221107/channelA_2022-11-07_04-36-29.wav with timestamp 2022-11-07 04:36:29\n",
      "Found file /home/jovyan/work/shared/data/AXOLOTL_workshop/raw_data/Grafton_20221028/records/221107/channelA_2022-11-07_04-46-42.wav with timestamp 2022-11-07 04:46:42\n",
      "Found file /home/jovyan/work/shared/data/AXOLOTL_workshop/raw_data/Grafton_20221028/records/221107/channelA_2022-11-07_04-56-56.wav with timestamp 2022-11-07 04:56:56\n",
      "Found file /home/jovyan/work/shared/data/AXOLOTL_workshop/raw_data/Grafton_20221028/records/221107/channelA_2022-11-07_05-07-09.wav with timestamp 2022-11-07 05:07:09\n",
      "Found file /home/jovyan/work/shared/data/AXOLOTL_workshop/raw_data/Grafton_20221028/records/221107/channelA_2022-11-07_05-17-23.wav with timestamp 2022-11-07 05:17:23\n",
      "Found file /home/jovyan/work/shared/data/AXOLOTL_workshop/raw_data/Grafton_20221028/records/221107/channelA_2022-11-07_05-27-37.wav with timestamp 2022-11-07 05:27:37\n",
      "Found file /home/jovyan/work/shared/data/AXOLOTL_workshop/raw_data/Grafton_20221028/records/221107/channelA_2022-11-07_05-37-50.wav with timestamp 2022-11-07 05:37:50\n"
     ]
    },
    {
     "name": "stderr",
     "output_type": "stream",
     "text": [
      "Searching :  87% (739 of 846) |########  | Elapsed Time: 0:00:00 ETA:   0:00:00"
     ]
    },
    {
     "name": "stdout",
     "output_type": "stream",
     "text": [
      "Found file /home/jovyan/work/shared/data/AXOLOTL_workshop/raw_data/Grafton_20221028/records/221107/channelA_2022-11-07_05-48-04.wav with timestamp 2022-11-07 05:48:04\n",
      "Found file /home/jovyan/work/shared/data/AXOLOTL_workshop/raw_data/Grafton_20221028/records/221107/channelA_2022-11-07_05-58-18.wav with timestamp 2022-11-07 05:58:18\n",
      "Found file /home/jovyan/work/shared/data/AXOLOTL_workshop/raw_data/Grafton_20221028/records/221107/channelA_2022-11-07_06-08-31.wav with timestamp 2022-11-07 06:08:31\n",
      "Found file /home/jovyan/work/shared/data/AXOLOTL_workshop/raw_data/Grafton_20221028/records/221107/channelA_2022-11-07_06-18-45.wav with timestamp 2022-11-07 06:18:45\n",
      "Found file /home/jovyan/work/shared/data/AXOLOTL_workshop/raw_data/Grafton_20221028/records/221107/channelA_2022-11-07_06-28-58.wav with timestamp 2022-11-07 06:28:58\n",
      "Found file /home/jovyan/work/shared/data/AXOLOTL_workshop/raw_data/Grafton_20221028/records/221107/channelA_2022-11-07_06-39-12.wav with timestamp 2022-11-07 06:39:12\n",
      "Found file /home/jovyan/work/shared/data/AXOLOTL_workshop/raw_data/Grafton_20221028/records/221107/channelA_2022-11-07_06-49-26.wav with timestamp 2022-11-07 06:49:26\n",
      "Found file /home/jovyan/work/shared/data/AXOLOTL_workshop/raw_data/Grafton_20221028/records/221107/channelA_2022-11-07_06-59-39.wav with timestamp 2022-11-07 06:59:39\n",
      "Found file /home/jovyan/work/shared/data/AXOLOTL_workshop/raw_data/Grafton_20221028/records/221107/channelA_2022-11-07_07-09-53.wav with timestamp 2022-11-07 07:09:53\n",
      "Found file /home/jovyan/work/shared/data/AXOLOTL_workshop/raw_data/Grafton_20221028/records/221107/channelA_2022-11-07_07-20-06.wav with timestamp 2022-11-07 07:20:06\n",
      "Found file /home/jovyan/work/shared/data/AXOLOTL_workshop/raw_data/Grafton_20221028/records/221107/channelA_2022-11-07_07-30-20.wav with timestamp 2022-11-07 07:30:20\n",
      "Found file /home/jovyan/work/shared/data/AXOLOTL_workshop/raw_data/Grafton_20221028/records/221107/channelA_2022-11-07_07-40-34.wav with timestamp 2022-11-07 07:40:34\n",
      "Found file /home/jovyan/work/shared/data/AXOLOTL_workshop/raw_data/Grafton_20221028/records/221107/channelA_2022-11-07_07-50-47.wav with timestamp 2022-11-07 07:50:47\n",
      "Found file /home/jovyan/work/shared/data/AXOLOTL_workshop/raw_data/Grafton_20221028/records/221107/channelA_2022-11-07_08-01-01.wav with timestamp 2022-11-07 08:01:01\n",
      "Found file /home/jovyan/work/shared/data/AXOLOTL_workshop/raw_data/Grafton_20221028/records/221107/channelA_2022-11-07_08-11-15.wav with timestamp 2022-11-07 08:11:15\n",
      "Found file /home/jovyan/work/shared/data/AXOLOTL_workshop/raw_data/Grafton_20221028/records/221107/channelA_2022-11-07_08-21-28.wav with timestamp 2022-11-07 08:21:28\n",
      "Found file /home/jovyan/work/shared/data/AXOLOTL_workshop/raw_data/Grafton_20221028/records/221107/channelA_2022-11-07_08-31-42.wav with timestamp 2022-11-07 08:31:42\n",
      "Found file /home/jovyan/work/shared/data/AXOLOTL_workshop/raw_data/Grafton_20221028/records/221107/channelA_2022-11-07_08-41-55.wav with timestamp 2022-11-07 08:41:55\n",
      "Found file /home/jovyan/work/shared/data/AXOLOTL_workshop/raw_data/Grafton_20221028/records/221107/channelA_2022-11-07_08-52-09.wav with timestamp 2022-11-07 08:52:09\n",
      "Found file /home/jovyan/work/shared/data/AXOLOTL_workshop/raw_data/Grafton_20221028/records/221107/channelA_2022-11-07_09-02-23.wav with timestamp 2022-11-07 09:02:23\n",
      "Found file /home/jovyan/work/shared/data/AXOLOTL_workshop/raw_data/Grafton_20221028/records/221107/channelA_2022-11-07_09-12-36.wav with timestamp 2022-11-07 09:12:36\n",
      "Found file /home/jovyan/work/shared/data/AXOLOTL_workshop/raw_data/Grafton_20221028/records/221107/channelA_2022-11-07_09-22-50.wav with timestamp 2022-11-07 09:22:50\n",
      "Found file /home/jovyan/work/shared/data/AXOLOTL_workshop/raw_data/Grafton_20221028/records/221107/channelA_2022-11-07_09-33-04.wav with timestamp 2022-11-07 09:33:04\n",
      "Found file /home/jovyan/work/shared/data/AXOLOTL_workshop/raw_data/Grafton_20221028/records/221107/channelA_2022-11-07_09-43-17.wav with timestamp 2022-11-07 09:43:17\n",
      "Found file /home/jovyan/work/shared/data/AXOLOTL_workshop/raw_data/Grafton_20221028/records/221107/channelA_2022-11-07_09-53-31.wav with timestamp 2022-11-07 09:53:31\n",
      "Found file /home/jovyan/work/shared/data/AXOLOTL_workshop/raw_data/Grafton_20221028/records/221107/channelA_2022-11-07_10-03-44.wav with timestamp 2022-11-07 10:03:44\n",
      "Found file /home/jovyan/work/shared/data/AXOLOTL_workshop/raw_data/Grafton_20221028/records/221107/channelA_2022-11-07_10-13-58.wav with timestamp 2022-11-07 10:13:58\n",
      "Found file /home/jovyan/work/shared/data/AXOLOTL_workshop/raw_data/Grafton_20221028/records/221107/channelA_2022-11-07_10-24-12.wav with timestamp 2022-11-07 10:24:12\n",
      "Found file /home/jovyan/work/shared/data/AXOLOTL_workshop/raw_data/Grafton_20221028/records/221107/channelA_2022-11-07_10-34-25.wav with timestamp 2022-11-07 10:34:25\n",
      "Found file /home/jovyan/work/shared/data/AXOLOTL_workshop/raw_data/Grafton_20221028/records/221107/channelA_2022-11-07_10-44-39.wav with timestamp 2022-11-07 10:44:39\n",
      "Found file /home/jovyan/work/shared/data/AXOLOTL_workshop/raw_data/Grafton_20221028/records/221107/channelA_2022-11-07_10-54-52.wav with timestamp 2022-11-07 10:54:52\n",
      "Found file /home/jovyan/work/shared/data/AXOLOTL_workshop/raw_data/Grafton_20221028/records/221107/channelA_2022-11-07_11-05-06.wav with timestamp 2022-11-07 11:05:06\n",
      "Found file /home/jovyan/work/shared/data/AXOLOTL_workshop/raw_data/Grafton_20221028/records/221107/channelA_2022-11-07_11-15-20.wav with timestamp 2022-11-07 11:15:20\n",
      "Found file /home/jovyan/work/shared/data/AXOLOTL_workshop/raw_data/Grafton_20221028/records/221107/channelA_2022-11-07_11-25-33.wav with timestamp 2022-11-07 11:25:33\n",
      "Found file /home/jovyan/work/shared/data/AXOLOTL_workshop/raw_data/Grafton_20221028/records/221107/channelA_2022-11-07_11-35-47.wav with timestamp 2022-11-07 11:35:47\n",
      "Found file /home/jovyan/work/shared/data/AXOLOTL_workshop/raw_data/Grafton_20221028/records/221107/channelA_2022-11-07_11-46-01.wav with timestamp 2022-11-07 11:46:01\n",
      "Found file /home/jovyan/work/shared/data/AXOLOTL_workshop/raw_data/Grafton_20221028/records/221107/channelA_2022-11-07_11-56-14.wav with timestamp 2022-11-07 11:56:14\n",
      "Found file /home/jovyan/work/shared/data/AXOLOTL_workshop/raw_data/Grafton_20221028/records/221107/channelA_2022-11-07_12-06-28.wav with timestamp 2022-11-07 12:06:28\n",
      "Found file /home/jovyan/work/shared/data/AXOLOTL_workshop/raw_data/Grafton_20221028/records/221107/channelA_2022-11-07_12-16-41.wav with timestamp 2022-11-07 12:16:41\n",
      "Found file /home/jovyan/work/shared/data/AXOLOTL_workshop/raw_data/Grafton_20221028/records/221107/channelA_2022-11-07_12-26-55.wav with timestamp 2022-11-07 12:26:55\n",
      "Found file /home/jovyan/work/shared/data/AXOLOTL_workshop/raw_data/Grafton_20221028/records/221107/channelA_2022-11-07_12-37-09.wav with timestamp 2022-11-07 12:37:09\n",
      "Found file /home/jovyan/work/shared/data/AXOLOTL_workshop/raw_data/Grafton_20221028/records/221107/channelA_2022-11-07_12-47-22.wav with timestamp 2022-11-07 12:47:22\n",
      "Found file /home/jovyan/work/shared/data/AXOLOTL_workshop/raw_data/Grafton_20221028/records/221107/channelA_2022-11-07_12-57-36.wav with timestamp 2022-11-07 12:57:36\n"
     ]
    },
    {
     "name": "stderr",
     "output_type": "stream",
     "text": [
      "Searching :  92% (782 of 846) |######### | Elapsed Time: 0:00:00 ETA:   0:00:00"
     ]
    },
    {
     "name": "stdout",
     "output_type": "stream",
     "text": [
      "Found file /home/jovyan/work/shared/data/AXOLOTL_workshop/raw_data/Grafton_20221028/records/221107/channelA_2022-11-07_13-07-50.wav with timestamp 2022-11-07 13:07:50\n",
      "Found file /home/jovyan/work/shared/data/AXOLOTL_workshop/raw_data/Grafton_20221028/records/221107/channelA_2022-11-07_13-18-03.wav with timestamp 2022-11-07 13:18:03\n",
      "Found file /home/jovyan/work/shared/data/AXOLOTL_workshop/raw_data/Grafton_20221028/records/221107/channelA_2022-11-07_13-28-17.wav with timestamp 2022-11-07 13:28:17\n",
      "Found file /home/jovyan/work/shared/data/AXOLOTL_workshop/raw_data/Grafton_20221028/records/221107/channelA_2022-11-07_13-38-30.wav with timestamp 2022-11-07 13:38:30\n",
      "Found file /home/jovyan/work/shared/data/AXOLOTL_workshop/raw_data/Grafton_20221028/records/221107/channelA_2022-11-07_13-48-44.wav with timestamp 2022-11-07 13:48:44\n",
      "Found file /home/jovyan/work/shared/data/AXOLOTL_workshop/raw_data/Grafton_20221028/records/221107/channelA_2022-11-07_13-58-58.wav with timestamp 2022-11-07 13:58:58\n",
      "Found file /home/jovyan/work/shared/data/AXOLOTL_workshop/raw_data/Grafton_20221028/records/221107/channelA_2022-11-07_14-09-11.wav with timestamp 2022-11-07 14:09:11\n",
      "Found file /home/jovyan/work/shared/data/AXOLOTL_workshop/raw_data/Grafton_20221028/records/221107/channelA_2022-11-07_14-19-25.wav with timestamp 2022-11-07 14:19:25\n",
      "Found file /home/jovyan/work/shared/data/AXOLOTL_workshop/raw_data/Grafton_20221028/records/221107/channelA_2022-11-07_14-29-38.wav with timestamp 2022-11-07 14:29:38\n",
      "Found file /home/jovyan/work/shared/data/AXOLOTL_workshop/raw_data/Grafton_20221028/records/221107/channelA_2022-11-07_14-39-52.wav with timestamp 2022-11-07 14:39:52\n",
      "Found file /home/jovyan/work/shared/data/AXOLOTL_workshop/raw_data/Grafton_20221028/records/221107/channelA_2022-11-07_14-50-06.wav with timestamp 2022-11-07 14:50:06\n",
      "Found file /home/jovyan/work/shared/data/AXOLOTL_workshop/raw_data/Grafton_20221028/records/221107/channelA_2022-11-07_15-00-19.wav with timestamp 2022-11-07 15:00:19\n",
      "Found file /home/jovyan/work/shared/data/AXOLOTL_workshop/raw_data/Grafton_20221028/records/221107/channelA_2022-11-07_15-10-33.wav with timestamp 2022-11-07 15:10:33\n",
      "Found file /home/jovyan/work/shared/data/AXOLOTL_workshop/raw_data/Grafton_20221028/records/221107/channelA_2022-11-07_15-20-47.wav with timestamp 2022-11-07 15:20:47\n",
      "Found file /home/jovyan/work/shared/data/AXOLOTL_workshop/raw_data/Grafton_20221028/records/221107/channelA_2022-11-07_15-31-00.wav with timestamp 2022-11-07 15:31:00\n",
      "Found file /home/jovyan/work/shared/data/AXOLOTL_workshop/raw_data/Grafton_20221028/records/221107/channelA_2022-11-07_15-41-14.wav with timestamp 2022-11-07 15:41:14\n",
      "Found file /home/jovyan/work/shared/data/AXOLOTL_workshop/raw_data/Grafton_20221028/records/221107/channelA_2022-11-07_15-51-27.wav with timestamp 2022-11-07 15:51:27\n",
      "Found file /home/jovyan/work/shared/data/AXOLOTL_workshop/raw_data/Grafton_20221028/records/221107/channelA_2022-11-07_16-01-41.wav with timestamp 2022-11-07 16:01:41\n",
      "Found file /home/jovyan/work/shared/data/AXOLOTL_workshop/raw_data/Grafton_20221028/records/221107/channelA_2022-11-07_16-11-55.wav with timestamp 2022-11-07 16:11:55\n",
      "Found file /home/jovyan/work/shared/data/AXOLOTL_workshop/raw_data/Grafton_20221028/records/221107/channelA_2022-11-07_16-22-08.wav with timestamp 2022-11-07 16:22:08\n",
      "Found file /home/jovyan/work/shared/data/AXOLOTL_workshop/raw_data/Grafton_20221028/records/221107/channelA_2022-11-07_16-32-22.wav with timestamp 2022-11-07 16:32:22\n",
      "Found file /home/jovyan/work/shared/data/AXOLOTL_workshop/raw_data/Grafton_20221028/records/221107/channelA_2022-11-07_16-42-36.wav with timestamp 2022-11-07 16:42:36\n",
      "Found file /home/jovyan/work/shared/data/AXOLOTL_workshop/raw_data/Grafton_20221028/records/221107/channelA_2022-11-07_16-52-49.wav with timestamp 2022-11-07 16:52:49\n",
      "Found file /home/jovyan/work/shared/data/AXOLOTL_workshop/raw_data/Grafton_20221028/records/221107/channelA_2022-11-07_17-03-03.wav with timestamp 2022-11-07 17:03:03\n",
      "Found file /home/jovyan/work/shared/data/AXOLOTL_workshop/raw_data/Grafton_20221028/records/221107/channelA_2022-11-07_17-13-16.wav with timestamp 2022-11-07 17:13:16\n",
      "Found file /home/jovyan/work/shared/data/AXOLOTL_workshop/raw_data/Grafton_20221028/records/221107/channelA_2022-11-07_17-23-30.wav with timestamp 2022-11-07 17:23:30\n",
      "Found file /home/jovyan/work/shared/data/AXOLOTL_workshop/raw_data/Grafton_20221028/records/221107/channelA_2022-11-07_17-33-44.wav with timestamp 2022-11-07 17:33:44\n",
      "Found file /home/jovyan/work/shared/data/AXOLOTL_workshop/raw_data/Grafton_20221028/records/221107/channelA_2022-11-07_17-43-57.wav with timestamp 2022-11-07 17:43:57\n",
      "Found file /home/jovyan/work/shared/data/AXOLOTL_workshop/raw_data/Grafton_20221028/records/221107/channelA_2022-11-07_17-54-11.wav with timestamp 2022-11-07 17:54:11\n",
      "Found file /home/jovyan/work/shared/data/AXOLOTL_workshop/raw_data/Grafton_20221028/records/221107/channelA_2022-11-07_18-04-24.wav with timestamp 2022-11-07 18:04:24\n",
      "Found file /home/jovyan/work/shared/data/AXOLOTL_workshop/raw_data/Grafton_20221028/records/221107/channelA_2022-11-07_18-14-38.wav with timestamp 2022-11-07 18:14:38\n",
      "Found file /home/jovyan/work/shared/data/AXOLOTL_workshop/raw_data/Grafton_20221028/records/221107/channelA_2022-11-07_18-24-52.wav with timestamp 2022-11-07 18:24:52\n",
      "Found file /home/jovyan/work/shared/data/AXOLOTL_workshop/raw_data/Grafton_20221028/records/221107/channelA_2022-11-07_18-35-05.wav with timestamp 2022-11-07 18:35:05\n",
      "Found file /home/jovyan/work/shared/data/AXOLOTL_workshop/raw_data/Grafton_20221028/records/221107/channelA_2022-11-07_18-45-19.wav with timestamp 2022-11-07 18:45:19\n",
      "Found file /home/jovyan/work/shared/data/AXOLOTL_workshop/raw_data/Grafton_20221028/records/221107/channelA_2022-11-07_18-55-33.wav with timestamp 2022-11-07 18:55:33\n",
      "Found file /home/jovyan/work/shared/data/AXOLOTL_workshop/raw_data/Grafton_20221028/records/221107/channelA_2022-11-07_19-05-46.wav with timestamp 2022-11-07 19:05:46\n",
      "Found file /home/jovyan/work/shared/data/AXOLOTL_workshop/raw_data/Grafton_20221028/records/221107/channelA_2022-11-07_19-16-00.wav with timestamp 2022-11-07 19:16:00\n",
      "Found file /home/jovyan/work/shared/data/AXOLOTL_workshop/raw_data/Grafton_20221028/records/221107/channelA_2022-11-07_19-26-13.wav with timestamp 2022-11-07 19:26:13\n",
      "Found file /home/jovyan/work/shared/data/AXOLOTL_workshop/raw_data/Grafton_20221028/records/221107/channelA_2022-11-07_19-36-27.wav with timestamp 2022-11-07 19:36:27\n",
      "Found file /home/jovyan/work/shared/data/AXOLOTL_workshop/raw_data/Grafton_20221028/records/221107/channelA_2022-11-07_19-46-41.wav with timestamp 2022-11-07 19:46:41\n",
      "Found file /home/jovyan/work/shared/data/AXOLOTL_workshop/raw_data/Grafton_20221028/records/221107/channelA_2022-11-07_19-56-54.wav with timestamp 2022-11-07 19:56:54\n",
      "Found file /home/jovyan/work/shared/data/AXOLOTL_workshop/raw_data/Grafton_20221028/records/221107/channelA_2022-11-07_20-07-08.wav with timestamp 2022-11-07 20:07:08\n",
      "Found file /home/jovyan/work/shared/data/AXOLOTL_workshop/raw_data/Grafton_20221028/records/221107/channelA_2022-11-07_20-17-22.wav with timestamp 2022-11-07 20:17:22\n"
     ]
    },
    {
     "name": "stderr",
     "output_type": "stream",
     "text": [
      "Searching :  97% (825 of 846) |######### | Elapsed Time: 0:00:00 ETA:   0:00:00"
     ]
    },
    {
     "name": "stdout",
     "output_type": "stream",
     "text": [
      "Found file /home/jovyan/work/shared/data/AXOLOTL_workshop/raw_data/Grafton_20221028/records/221107/channelA_2022-11-07_20-27-35.wav with timestamp 2022-11-07 20:27:35\n",
      "Found file /home/jovyan/work/shared/data/AXOLOTL_workshop/raw_data/Grafton_20221028/records/221107/channelA_2022-11-07_20-37-49.wav with timestamp 2022-11-07 20:37:49\n",
      "Found file /home/jovyan/work/shared/data/AXOLOTL_workshop/raw_data/Grafton_20221028/records/221107/channelA_2022-11-07_20-48-02.wav with timestamp 2022-11-07 20:48:02\n",
      "Found file /home/jovyan/work/shared/data/AXOLOTL_workshop/raw_data/Grafton_20221028/records/221107/channelA_2022-11-07_20-58-16.wav with timestamp 2022-11-07 20:58:16\n",
      "Found file /home/jovyan/work/shared/data/AXOLOTL_workshop/raw_data/Grafton_20221028/records/221107/channelA_2022-11-07_21-08-30.wav with timestamp 2022-11-07 21:08:30\n",
      "Found file /home/jovyan/work/shared/data/AXOLOTL_workshop/raw_data/Grafton_20221028/records/221107/channelA_2022-11-07_21-18-43.wav with timestamp 2022-11-07 21:18:43\n",
      "Found file /home/jovyan/work/shared/data/AXOLOTL_workshop/raw_data/Grafton_20221028/records/221107/channelA_2022-11-07_21-28-57.wav with timestamp 2022-11-07 21:28:57\n",
      "Found file /home/jovyan/work/shared/data/AXOLOTL_workshop/raw_data/Grafton_20221028/records/221107/channelA_2022-11-07_21-39-10.wav with timestamp 2022-11-07 21:39:10\n",
      "Found file /home/jovyan/work/shared/data/AXOLOTL_workshop/raw_data/Grafton_20221028/records/221107/channelA_2022-11-07_21-49-24.wav with timestamp 2022-11-07 21:49:24\n",
      "Found file /home/jovyan/work/shared/data/AXOLOTL_workshop/raw_data/Grafton_20221028/records/221107/channelA_2022-11-07_21-59-38.wav with timestamp 2022-11-07 21:59:38\n",
      "Found file /home/jovyan/work/shared/data/AXOLOTL_workshop/raw_data/Grafton_20221028/records/221107/channelA_2022-11-07_22-09-51.wav with timestamp 2022-11-07 22:09:51\n",
      "Found file /home/jovyan/work/shared/data/AXOLOTL_workshop/raw_data/Grafton_20221028/records/221107/channelA_2022-11-07_22-20-05.wav with timestamp 2022-11-07 22:20:05\n",
      "Found file /home/jovyan/work/shared/data/AXOLOTL_workshop/raw_data/Grafton_20221028/records/221107/channelA_2022-11-07_22-30-19.wav with timestamp 2022-11-07 22:30:19\n",
      "Found file /home/jovyan/work/shared/data/AXOLOTL_workshop/raw_data/Grafton_20221028/records/221107/channelA_2022-11-07_22-40-32.wav with timestamp 2022-11-07 22:40:32\n",
      "Found file /home/jovyan/work/shared/data/AXOLOTL_workshop/raw_data/Grafton_20221028/records/221107/channelA_2022-11-07_22-50-46.wav with timestamp 2022-11-07 22:50:46\n",
      "Found file /home/jovyan/work/shared/data/AXOLOTL_workshop/raw_data/Grafton_20221028/records/221107/channelA_2022-11-07_23-00-59.wav with timestamp 2022-11-07 23:00:59\n",
      "Found file /home/jovyan/work/shared/data/AXOLOTL_workshop/raw_data/Grafton_20221028/records/221107/channelA_2022-11-07_23-11-13.wav with timestamp 2022-11-07 23:11:13\n",
      "Found file /home/jovyan/work/shared/data/AXOLOTL_workshop/raw_data/Grafton_20221028/records/221107/channelA_2022-11-07_23-21-27.wav with timestamp 2022-11-07 23:21:27\n",
      "Found file /home/jovyan/work/shared/data/AXOLOTL_workshop/raw_data/Grafton_20221028/records/221107/channelA_2022-11-07_23-31-40.wav with timestamp 2022-11-07 23:31:40\n",
      "Found file /home/jovyan/work/shared/data/AXOLOTL_workshop/raw_data/Grafton_20221028/records/221107/channelA_2022-11-07_23-41-54.wav with timestamp 2022-11-07 23:41:54\n",
      "Found file /home/jovyan/work/shared/data/AXOLOTL_workshop/raw_data/Grafton_20221028/records/221107/channelA_2022-11-07_23-52-07.wav with timestamp 2022-11-07 23:52:07\n"
     ]
    },
    {
     "name": "stderr",
     "output_type": "stream",
     "text": [
      "Searching : 100% (846 of 846) |##########| Elapsed Time: 0:00:00 Time:  0:00:00\n"
     ]
    },
    {
     "name": "stdout",
     "output_type": "stream",
     "text": [
      "Done correcting metadata for 2022-11-07 00:00:00. Saved to /home/jovyan/work/shared/data/AXOLOTL_workshop/raw_data/Grafton_20221028/metadata/json/2022/20221107.json\n",
      "ReseaMetadataGenerator 20221028 Searching in file:///home/jovyan/work/shared/data/AXOLOTL_workshop/raw_data/Grafton_20221028/records/*.wav for wav files that match the search patterns channelA_* ...\n",
      "ReseaMetadataGenerator 20221028 Searching in file:///home/jovyan/work/shared/data/AXOLOTL_workshop/raw_data/Grafton_20221028/records/*.wav for wav files that match the search patterns channelAC_* ...\n"
     ]
    },
    {
     "name": "stderr",
     "output_type": "stream",
     "text": [
      "Searching :  76% (643 of 846) |#######   | Elapsed Time: 0:00:00 ETA:  00:00:00"
     ]
    },
    {
     "name": "stdout",
     "output_type": "stream",
     "text": [
      "Found file /home/jovyan/work/shared/data/AXOLOTL_workshop/raw_data/Grafton_20221028/records/221107/channelA_2022-11-07_23-00-59.wav with timestamp 2022-11-07 23:00:59\n",
      "Found file /home/jovyan/work/shared/data/AXOLOTL_workshop/raw_data/Grafton_20221028/records/221107/channelA_2022-11-07_23-11-13.wav with timestamp 2022-11-07 23:11:13\n",
      "Found file /home/jovyan/work/shared/data/AXOLOTL_workshop/raw_data/Grafton_20221028/records/221107/channelA_2022-11-07_23-21-27.wav with timestamp 2022-11-07 23:21:27\n",
      "Found file /home/jovyan/work/shared/data/AXOLOTL_workshop/raw_data/Grafton_20221028/records/221107/channelA_2022-11-07_23-31-40.wav with timestamp 2022-11-07 23:31:40\n",
      "Found file /home/jovyan/work/shared/data/AXOLOTL_workshop/raw_data/Grafton_20221028/records/221107/channelA_2022-11-07_23-41-54.wav with timestamp 2022-11-07 23:41:54\n",
      "Found file /home/jovyan/work/shared/data/AXOLOTL_workshop/raw_data/Grafton_20221028/records/221107/channelA_2022-11-07_23-52-07.wav with timestamp 2022-11-07 23:52:07\n"
     ]
    },
    {
     "name": "stderr",
     "output_type": "stream",
     "text": [
      "Searching : 100% (846 of 846) |##########| Elapsed Time: 0:00:00 Time:  0:00:00\n"
     ]
    },
    {
     "name": "stdout",
     "output_type": "stream",
     "text": [
      "Done correcting metadata for 2022-11-08 00:00:00. Saved to /home/jovyan/work/shared/data/AXOLOTL_workshop/raw_data/Grafton_20221028/metadata/json/2022/20221108.json\n",
      "Coverage plot saved to /home/jovyan/work/shared/data/AXOLOTL_workshop/raw_data/Grafton_20221028/metadata/json/resea_coverage_20221028_20221108.jpg\n"
     ]
    }
   ],
   "source": [
    "if 'SOUNDTRAP' in deployment_config['RECORDER_ID']:\n",
    "    meta_gen = SoundTrapMetadataGenerator(\n",
    "        log=log,\n",
    "        uri=wav_uri,\n",
    "        json_base_dir=str(json_base_dir),\n",
    "        xml_dir=str(xml_dir),\n",
    "        start=start_date.date(),\n",
    "        end=end_date.date(),\n",
    "        prefixes=wav_prefix,\n",
    "        seconds_per_file=seconds_per_file)\n",
    "if 'RESEA' in deployment_config['RECORDER_ID']:\n",
    "    meta_gen = ReseaMetadataGenerator(\n",
    "        log=log,\n",
    "        uri=wav_uri,\n",
    "        json_base_dir=str(json_base_dir),\n",
    "        start=start_date.date(),\n",
    "        end=end_date.date(),\n",
    "        prefixes=wav_prefix,\n",
    "        seconds_per_file=seconds_per_file)\n",
    "\n",
    "\n",
    "meta_gen.run()"
   ]
  },
  {
   "cell_type": "markdown",
   "id": "0b1b4af4-64a3-4ad4-bed6-5dd60788da6f",
   "metadata": {},
   "source": [
    "## Process "
   ]
  },
  {
   "cell_type": "markdown",
   "id": "08152cc4-e73f-4d66-a574-8819057c10a8",
   "metadata": {},
   "source": [
    "First we will define a couple of handy functions to process the data"
   ]
  },
  {
   "cell_type": "code",
   "execution_count": 19,
   "id": "ac508e11-aed3-4a84-b57b-584f4a88be05",
   "metadata": {},
   "outputs": [],
   "source": [
    "def process_date(date: str, gen_netcdf: bool = True):\n",
    "    \"\"\"\n",
    "    Main function to generate the HMB product for a given day.\n",
    "\n",
    "    It makes use of supporting elements in PBP in terms of logging,\n",
    "    file handling, and PyPAM based HMB generation.\n",
    "\n",
    "    :param date: Date to process, in YYYYMMDD format.\n",
    "\n",
    "    :param gen_netcdf:  Allows caller to skip the `.nc` creation here\n",
    "    and instead save the datasets after all days have been generated\n",
    "    (see parallel execution below).\n",
    "\n",
    "    :return: the generated xarray dataset.\n",
    "    \"\"\"\n",
    "\n",
    "    log_filename = f\"{output_dir}/{deployment_name}{date}.log\"\n",
    "\n",
    "    log = create_logger(\n",
    "        log_filename_and_level=(log_filename, \"INFO\"),\n",
    "        console_level=None,\n",
    "    )\n",
    "\n",
    "    file_helper = FileHelper(\n",
    "        log=log,\n",
    "        json_base_dir=json_base_dir,\n",
    "        gs_client=None,\n",
    "        download_dir=None,\n",
    "    )\n",
    "\n",
    "    process_helper = ProcessHelper(\n",
    "        log=log,\n",
    "        file_helper=file_helper,\n",
    "        output_dir=str(output_dir),\n",
    "        output_prefix=deployment_name + '_',\n",
    "        global_attrs_uri=str(deployment_attrs_uri),\n",
    "        variable_attrs_uri=variable_attrs_uri,\n",
    "        voltage_multiplier=voltage_multiplier,\n",
    "        sensitivity_uri=None,\n",
    "        sensitivity_flat_value=-float(hydrophone.sensitivity),\n",
    "        subset_to=subset_to,\n",
    "    )\n",
    "\n",
    "    # now, get the HMB result:\n",
    "    print(f\"::: Started processing {date=}\")\n",
    "    result = process_helper.process_day(date)\n",
    "\n",
    "    if gen_netcdf:\n",
    "        nc_filename = f\"{output_dir}/{deployment_name}{date}.nc\"\n",
    "        print(f\":::   Ended processing {date=} =>  {nc_filename=}\")\n",
    "    else:\n",
    "        print(f\":::   Ended processing {date=} => (dataset generated in memory)\")\n",
    "\n",
    "    if result is not None:\n",
    "        return result.dataset\n",
    "    else:\n",
    "        print(f\"::: UNEXPECTED: no segments were processed for {date=}\")\n"
   ]
  },
  {
   "cell_type": "code",
   "execution_count": 20,
   "id": "fac7adf1-2ace-4685-8c15-9265d8d89435",
   "metadata": {},
   "outputs": [],
   "source": [
    "def process_multiple_dates(\n",
    "        dates: list[str], gen_netcdf: bool = False\n",
    ") -> list[xr.Dataset]:\n",
    "    \"\"\"\n",
    "    Generates HMB for multiple days in parallel using Dask.\n",
    "    Returns the resulting HMB datasets.\n",
    "\n",
    "    :param dates: The dates to process, each in YYYYMMDD format.\n",
    "\n",
    "    :param gen_netcdf:  Allows caller to skip the `.nc` creation here\n",
    "    and instead save the datasets after all days have been generated.\n",
    "\n",
    "    :return: the list of generated datasets.\n",
    "    \"\"\"\n",
    "\n",
    "    @dask.delayed\n",
    "    def delayed_process_date(date: str):\n",
    "        return process_date(date, gen_netcdf=True)\n",
    "\n",
    "    # To display total elapsed time at the end the processing:\n",
    "    start_time = time.time()\n",
    "\n",
    "    # This will be called by Dask when all dates have completed processing:\n",
    "    def aggregate(*datasets):  # -> list[xr.Dataset]:\n",
    "        elapsed_time = time.time() - start_time\n",
    "        print(\n",
    "            f\"===> All {len(datasets)} dates completed. Elapsed time: {elapsed_time:.1f} seconds ({elapsed_time / 60:.1f} mins)\"\n",
    "        )\n",
    "        return datasets\n",
    "\n",
    "    # Prepare the processes:\n",
    "    delayed_processes = [delayed_process_date(date) for date in dates]\n",
    "    aggregation = dask.delayed(aggregate)(*delayed_processes)\n",
    "\n",
    "    # And launch them:\n",
    "    return aggregation.compute()"
   ]
  },
  {
   "cell_type": "code",
   "execution_count": 21,
   "id": "6cb4e251-e944-4378-817b-eba401d32593",
   "metadata": {},
   "outputs": [],
   "source": [
    "# Define all the dates to process considering start and end date\n",
    "date_range = pd.date_range(start=start_date, end=end_date, freq='1D')\n",
    "dates = date_range.strftime(\"%Y%m%d\").tolist()"
   ]
  },
  {
   "cell_type": "code",
   "execution_count": null,
   "id": "5285ae0d-edb2-43a7-ae3f-8a608fb347a3",
   "metadata": {
    "scrolled": true
   },
   "outputs": [
    {
     "name": "stdout",
     "output_type": "stream",
     "text": [
      "Launching HMD generation for 12 dates=['20221028', '20221029', '20221030', '20221031', '20221101', '20221102', '20221103', '20221104', '20221105', '20221106', '20221107', '20221108']\n",
      "::: Started processing date='20221105'\n",
      "::: Started processing date='20221030'\n",
      "::: Started processing date='20221107'\n",
      "::: Started processing date='20221108'\n",
      "::: Started processing date='20221104'\n",
      "::: Started processing date='20221028'\n",
      "::: Started processing date='20221031'\n",
      "::: Started processing date='20221029'\n",
      ":::   Ended processing date='20221031' =>  nc_filename='/home/jovyan/work/shared/data/AXOLOTL_workshop/HMD/bpns-Grafton_2022-10-28_EA-SDA14_2003001/bpns-Grafton_2022-10-28_EA-SDA14_200300120221031.nc'\n",
      "::: Started processing date='20221102'\n",
      ":::   Ended processing date='20221104' =>  nc_filename='/home/jovyan/work/shared/data/AXOLOTL_workshop/HMD/bpns-Grafton_2022-10-28_EA-SDA14_2003001/bpns-Grafton_2022-10-28_EA-SDA14_200300120221104.nc'\n",
      "::: Started processing date='20221103'\n",
      ":::   Ended processing date='20221029' =>  nc_filename='/home/jovyan/work/shared/data/AXOLOTL_workshop/HMD/bpns-Grafton_2022-10-28_EA-SDA14_2003001/bpns-Grafton_2022-10-28_EA-SDA14_200300120221029.nc'\n",
      ":::   Ended processing date='20221108' =>  nc_filename='/home/jovyan/work/shared/data/AXOLOTL_workshop/HMD/bpns-Grafton_2022-10-28_EA-SDA14_2003001/bpns-Grafton_2022-10-28_EA-SDA14_200300120221108.nc'\n",
      "::: Started processing date='20221101'\n",
      "::: Started processing date='20221106'\n",
      ":::   Ended processing date='20221102' =>  nc_filename='/home/jovyan/work/shared/data/AXOLOTL_workshop/HMD/bpns-Grafton_2022-10-28_EA-SDA14_2003001/bpns-Grafton_2022-10-28_EA-SDA14_200300120221102.nc'\n",
      ":::   Ended processing date='20221106' =>  nc_filename='/home/jovyan/work/shared/data/AXOLOTL_workshop/HMD/bpns-Grafton_2022-10-28_EA-SDA14_2003001/bpns-Grafton_2022-10-28_EA-SDA14_200300120221106.nc'\n"
     ]
    }
   ],
   "source": [
    "# Now, launch the generation:\n",
    "print(f\"Launching HMD generation for {len(dates)} {dates=}\")\n",
    "\n",
    "# Get all HMB datasets:\n",
    "generated_datasets = process_multiple_dates(dates, gen_netcdf=True)\n",
    "print(f\"Generated datasets: {len(generated_datasets)}\\n\")"
   ]
  },
  {
   "cell_type": "markdown",
   "id": "2d30c1cb-bcff-416b-ad97-80ba8e0ecdc0",
   "metadata": {},
   "source": [
    "## Plot the results"
   ]
  },
  {
   "cell_type": "code",
   "execution_count": null,
   "id": "737f33f8-3355-42ae-8b34-dad067f818c7",
   "metadata": {},
   "outputs": [],
   "source": [
    "cmap = plt.get_cmap('cb.solstice')\n",
    "ds_10min = pypam.utils.join_all_ds_output_deployment(output_dir,\n",
    "                                               data_vars=['psd'],\n",
    "                                               datetime_coord='time',\n",
    "                                               load=True,\n",
    "                                               parallel=False,\n",
    "                                               freq_band=None,\n",
    "                                               freq_coord='frequency',\n",
    "                                               time_resample='10min'\n",
    "                                           )\n",
    "\n",
    "ds = ds_10min.resample(time='1h').median()"
   ]
  },
  {
   "cell_type": "code",
   "execution_count": null,
   "id": "058455cd-55d6-4375-aa00-ca315f5edf84",
   "metadata": {},
   "outputs": [],
   "source": [
    "plots_folder = output_dir.parent.parent.joinpath('plots', config_file.name.replace('.json', ''))\n",
    "if not plots_folder.exists():\n",
    "    os.mkdir(plots_folder)\n",
    "\n",
    "# Plot LTSA\n",
    "fig, ax = plt.subplots(figsize=(15, 7))\n",
    "pypam.plots.plot_2d(ds=ds['psd'], x='time', y='frequency', cmap=cmap, vmin=40, vmax=110,\n",
    "                    cbar_label=r'%s [$%s$]' % (re.sub('_', ' ', ds['psd'].standard_name).title(), ds['psd'].units),\n",
    "                    xlabel='Time', ylabel='Frequency [Hz]', title='Long Term Spectrogram', ylog=True, ax=ax)\n",
    "ax.set_ylim(bottom=50)\n",
    "plt.savefig(plots_folder.joinpath('LTSA.png'),\n",
    "            bbox_inches='tight', pad_inches=0)\n",
    "plt.close()"
   ]
  },
  {
   "cell_type": "code",
   "execution_count": null,
   "id": "3bea4741-2f7b-44e7-9c06-9b2c16b3bb1d",
   "metadata": {},
   "outputs": [],
   "source": [
    "# Plot SPD\n",
    "percentiles = [1, 10, 50, 90, 99]\n",
    "min_psd = 35  # in db\n",
    "max_psd = 135  # in db\n",
    "h = 1  # in db\n",
    "ds_spd = pypam.utils.compute_spd(ds, data_var='psd', percentiles=percentiles, min_val=min_psd,\n",
    "                                 max_val=max_psd, h=h)\n",
    "\n",
    "pypam.plots.plot_spd(ds_spd, log=True, save_path=plots_folder.joinpath('SPD.png'))\n",
    "plt.close()"
   ]
  },
  {
   "cell_type": "code",
   "execution_count": null,
   "id": "84ee3e0c-cf68-4f99-a2c6-b82aed383c2d",
   "metadata": {},
   "outputs": [],
   "source": [
    "# Plot the SPL of each band for quality check\n",
    "selected_bands = [[10, 1000], [1000, 10000], [10, float(ds_10min.frequency.max().values)]]\n",
    "\n",
    "fig, ax = plt.subplots(figsize=(15, 7))\n",
    "for band in selected_bands:\n",
    "    ds_freq = ds_10min.where((ds_10min.frequency >= band[0]) & (ds_10min.frequency <= band[1]), drop=True)\n",
    "    spl = ds_freq.mean(dim='frequency')\n",
    "    spl.psd.plot(x='time', ax=ax, label=str(band))\n",
    "plt.xlabel('UTC time 10 min aggregation')\n",
    "plt.legend()\n",
    "plt.savefig(plots_folder.joinpath('bands_check.png'), bbox_inches='tight', pad_inches=0)\n",
    "plt.close()"
   ]
  }
 ],
 "metadata": {
  "kernelspec": {
   "display_name": "Python-3.10",
   "language": "python",
   "name": "py310"
  },
  "language_info": {
   "codemirror_mode": {
    "name": "ipython",
    "version": 3
   },
   "file_extension": ".py",
   "mimetype": "text/x-python",
   "name": "python",
   "nbconvert_exporter": "python",
   "pygments_lexer": "ipython3",
   "version": "3.10.16"
  }
 },
 "nbformat": 4,
 "nbformat_minor": 5
}
